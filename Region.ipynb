{
 "cells": [
  {
   "cell_type": "code",
   "execution_count": 2,
   "metadata": {
    "collapsed": true
   },
   "outputs": [],
   "source": [
    "import json\n",
    "import requests"
   ]
  },
  {
   "cell_type": "code",
   "execution_count": 4,
   "metadata": {
    "collapsed": false
   },
   "outputs": [],
   "source": [
    "with open('./Workspace/result/UserWithPageRank20160624.json', 'r') as f:\n",
    "    user = json.load(f)"
   ]
  },
  {
   "cell_type": "code",
   "execution_count": 9,
   "metadata": {
    "collapsed": false
   },
   "outputs": [],
   "source": [
    "with open('./Workspace/data/ifoodieRestaurantDic20160524.json', 'r') as f:\n",
    "    restaurant = json.load(f)"
   ]
  },
  {
   "cell_type": "code",
   "execution_count": 3,
   "metadata": {
    "collapsed": false
   },
   "outputs": [],
   "source": [
    "with open('./Workspace/ifoodieBlogDic20160619Update5PixnetSmallEnglish.json', 'r') as f:\n",
    "    blog = json.load(f)"
   ]
  },
  {
   "cell_type": "code",
   "execution_count": 17,
   "metadata": {
    "collapsed": false
   },
   "outputs": [],
   "source": [
    "normalcity = [\n",
    "    u'台北市',\n",
    "    u'高雄市',\n",
    "    u'台中市',\n",
    "    u'新北市',\n",
    "    u'台南市',\n",
    "    u'桃園市',\n",
    "    u'新竹市',\n",
    "    u'宜蘭縣',\n",
    "    u'屏東縣',\n",
    "    u'彰化縣',\n",
    "    u'新竹縣',\n",
    "    u'花蓮縣',\n",
    "    u'嘉義市',\n",
    "    u'苗栗縣',\n",
    "    u'南投縣',\n",
    "    u'基隆市',\n",
    "    u'桃園縣',\n",
    "    u'雲林縣',\n",
    "    u'台東縣',\n",
    "    u'嘉義縣',\n",
    "    u'澎湖縣',\n",
    "    u'金門縣',\n",
    "    u'連江縣'\n",
    "]\n",
    "url = 'https://maps.googleapis.com/maps/api/geocode/json?address={}&language=zh-TW'\n",
    "for r in restaurant.values():\n",
    "    if r['city'] not in normalcity:\n",
    "        res = requests.get(url.format(r['address'].encode('utf-8')))\n",
    "        jd = json.loads(res.text, encoding='utf8')['results']\n",
    "        if jd:\n",
    "            r['lat'] = jd[0]['geometry']['location']['lat']\n",
    "            r['lng'] = jd[0]['geometry']['location']['lng']\n",
    "            try:\n",
    "                for i in jd[0]['address_components']:\n",
    "                    if i['types'][0] == 'administrative_area_level_2' or i['types'][0] == 'administrative_area_level_1':\n",
    "                        r['city'] = i['short_name']\n",
    "                        break\n",
    "            except IndexError:\n",
    "                pass"
   ]
  },
  {
   "cell_type": "code",
   "execution_count": 18,
   "metadata": {
    "collapsed": true
   },
   "outputs": [],
   "source": [
    "url = 'http://maps.google.com/maps/api/geocode/json?latlng={},{}&language=zh-TW&sensor=true'\n",
    "for r in restaurant.values():\n",
    "    if r['city'] not in normalcity:\n",
    "        res = requests.get(url.format(r['lat'],r['lng']))\n",
    "        jd = json.loads(res.text, encoding='utf8')['results']\n",
    "        if jd:\n",
    "            try:\n",
    "                for i in jd[0]['address_components']:\n",
    "                    if i['types'][0] == 'administrative_area_level_2' or i['types'][0] == 'administrative_area_level_1':\n",
    "                        r['city'] = i['short_name']\n",
    "                        break\n",
    "            except IndexError:\n",
    "                pass"
   ]
  },
  {
   "cell_type": "code",
   "execution_count": 19,
   "metadata": {
    "collapsed": true
   },
   "outputs": [],
   "source": [
    "temp = [\n",
    "    'Taipei City',\n",
    "    'Kaohsiung City',\n",
    "    'Taichung City',\n",
    "    'New Taipei City',\n",
    "    'Tainan City',\n",
    "    'Taoyuan City',\n",
    "    'Hsinchu City',\n",
    "    'Yilan County',\n",
    "    'Pingtung County',\n",
    "    'Changhua County',\n",
    "    'Hsinchu County',\n",
    "    'Hualien County',\n",
    "    'Chiayi City',\n",
    "    'Miaoli County',\n",
    "    'Nantou County',\n",
    "    'Keelung City',\n",
    "    'Taoyuan City',\n",
    "    'Yunlin County',\n",
    "    'Taitung County',\n",
    "    'Chiayi County',\n",
    "    'Penghu County',\n",
    "    'Kinmen County',\n",
    "    'Lianjiang '  \n",
    "]\n",
    "\n",
    "cc = [\n",
    "    u'台北市',\n",
    "    u'高雄市',\n",
    "    u'台中市',\n",
    "    u'新北市',\n",
    "    u'台南市',\n",
    "    u'桃園市',\n",
    "    u'新竹市',\n",
    "    u'宜蘭縣',\n",
    "    u'屏東縣',\n",
    "    u'彰化縣',\n",
    "    u'新竹縣',\n",
    "    u'花蓮縣',\n",
    "    u'嘉義市',\n",
    "    u'苗栗縣',\n",
    "    u'南投縣',\n",
    "    u'基隆市',\n",
    "    u'桃園縣',\n",
    "    u'雲林縣',\n",
    "    u'台東縣',\n",
    "    u'嘉義縣',\n",
    "    u'澎湖縣',\n",
    "    u'金門縣',\n",
    "    u'連江縣'\n",
    "]\n",
    "\n",
    "engToChn = dict((k,v) for k,v in zip(temp,cc))\n",
    "for r in restaurant.values():\n",
    "    if r['city'] in temp:\n",
    "        r['city'] = engToChn[r['city']]"
   ]
  },
  {
   "cell_type": "code",
   "execution_count": 21,
   "metadata": {
    "collapsed": true
   },
   "outputs": [],
   "source": [
    "regionDict = {\n",
    "    u'台北市':u'北部',\n",
    "    u'高雄市':u'南部',\n",
    "    u'台中市':u'中部',\n",
    "    u'新北市':u'北部',\n",
    "    u'台南市':u'南部',\n",
    "    u'桃園市':u'北部',\n",
    "    u'新竹市':u'北部',\n",
    "    u'宜蘭縣':u'東部',\n",
    "    u'屏東縣':u'南部',\n",
    "    u'彰化縣':u'中部',\n",
    "    u'新竹縣':u'北部',\n",
    "    u'花蓮縣':u'東部',\n",
    "    u'嘉義市':u'南部',\n",
    "    u'苗栗縣':u'中部',\n",
    "    u'南投縣':u'中部',\n",
    "    u'基隆市':u'北部',\n",
    "    u'桃園縣':u'北部',\n",
    "    u'雲林縣':u'南部',\n",
    "    u'台東縣':u'東部',\n",
    "    u'嘉義縣':u'南部',\n",
    "    u'澎湖縣':u'離島',\n",
    "    u'金門縣':u'離島',\n",
    "    u'連江縣':u'離島'\n",
    "}"
   ]
  },
  {
   "cell_type": "code",
   "execution_count": 45,
   "metadata": {
    "collapsed": true
   },
   "outputs": [],
   "source": [
    "for r in restaurant.values():\n",
    "    if r['city'] not in regionDict:\n",
    "        r['region'] = u'外國'\n",
    "    else:\n",
    "        r['region'] = regionDict[r['city']]"
   ]
  },
  {
   "cell_type": "code",
   "execution_count": 46,
   "metadata": {
    "collapsed": false
   },
   "outputs": [
    {
     "name": "stdout",
     "output_type": "stream",
     "text": [
      "北部 14898\n",
      "南部 7165\n",
      "中部 4389\n",
      "東部 1284\n",
      "外國 120\n",
      "離島 56\n"
     ]
    }
   ],
   "source": [
    "#檢查分佈\n",
    "import operator\n",
    "region = {}\n",
    "for r in restaurant.values():\n",
    "    if r['region'] not in region:\n",
    "        region[r['region']] = 1\n",
    "    else:\n",
    "        region[r['region']] += 1\n",
    "sortedregion = sorted(region.iteritems(),key=operator.itemgetter(1),reverse=True)\n",
    "for c in sortedregion:\n",
    "    print c[0], c[1]"
   ]
  },
  {
   "cell_type": "code",
   "execution_count": 47,
   "metadata": {
    "collapsed": true
   },
   "outputs": [],
   "source": [
    "with open('./Workspace/result/RestaurantWithRegion.json', 'w') as f:\n",
    "    json.dump(restaurant,f)"
   ]
  },
  {
   "cell_type": "code",
   "execution_count": 48,
   "metadata": {
    "collapsed": false
   },
   "outputs": [
    {
     "name": "stdout",
     "output_type": "stream",
     "text": [
      "[u'fav_cnt', u'fans_id_list', u'follower_cnt', u'_id', u'display_name', u'like', u'following_cnt', u'timestamp', 'active_region', u'blog_id_list', u'post_cnt', u'profile_pic_origin', u'browse_cnt', u'checkin_cnt', u'recommendation_count', u'collection_blog_list', u'recommendation_blog_list', u'visit_blog_list', u'certified', u'page_rank']\n",
      "[u'blog_type', u'title', u'url', u'timestamp', u'is_paid', u'recommend_cnt', u'browse_cnt', u'favorite_cnt', u'share_cnt', u'date', u'article', u'author_id', u'_id', u'restaurant_id']\n"
     ]
    }
   ],
   "source": [
    "print user.values()[0].keys()\n",
    "print blog.values()[0].keys()"
   ]
  },
  {
   "cell_type": "code",
   "execution_count": 49,
   "metadata": {
    "collapsed": false
   },
   "outputs": [],
   "source": [
    "for u in user.values():\n",
    "    actregion = {\n",
    "        u'北部':0,\n",
    "        u'中部':0,\n",
    "        u'南部':0,\n",
    "        u'東部':0,\n",
    "        u'離島':0,\n",
    "        u'外國':0\n",
    "    }\n",
    "    bloglist = u['blog_id_list']\n",
    "    for b in bloglist:\n",
    "        resregion = restaurant[blog[b]['restaurant_id']]['region']\n",
    "        actregion[resregion] += 1\n",
    "    u['active_region'] = actregion"
   ]
  },
  {
   "cell_type": "code",
   "execution_count": 57,
   "metadata": {
    "collapsed": false
   },
   "outputs": [],
   "source": [
    "with open('./Workspace/result/UserWithRegion.json', 'w') as f:\n",
    "    json.dump(user,f)"
   ]
  },
  {
   "cell_type": "code",
   "execution_count": 64,
   "metadata": {
    "collapsed": false
   },
   "outputs": [
    {
     "name": "stdout",
     "output_type": "stream",
     "text": [
      "1\n",
      "[{'value': 1, 'label': 'a'}, {'value': 2, 'label': 'b'}]\n"
     ]
    }
   ],
   "source": [
    "dic = {'a':1,'b':2}\n",
    "templ = []\n",
    "for key in dic:\n",
    "    tempd ={}\n",
    "    tempd['label'] = key\n",
    "    tempd['value'] = dic[key]\n",
    "    templ.append(tempd)\n",
    "print templ"
   ]
  },
  {
   "cell_type": "code",
   "execution_count": 6,
   "metadata": {
    "collapsed": false
   },
   "outputs": [
    {
     "name": "stdout",
     "output_type": "stream",
     "text": [
      "432\n"
     ]
    }
   ],
   "source": [
    "print user['54a816aed4fdab71d051b2a2']['blog_id_list']"
   ]
  }
 ],
 "metadata": {
  "kernelspec": {
   "display_name": "Python 2",
   "language": "python",
   "name": "python2"
  },
  "language_info": {
   "codemirror_mode": {
    "name": "ipython",
    "version": 2
   },
   "file_extension": ".py",
   "mimetype": "text/x-python",
   "name": "python",
   "nbconvert_exporter": "python",
   "pygments_lexer": "ipython2",
   "version": "2.7.11"
  }
 },
 "nbformat": 4,
 "nbformat_minor": 0
}
