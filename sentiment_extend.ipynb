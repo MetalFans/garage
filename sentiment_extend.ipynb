{
 "cells": [
  {
   "cell_type": "code",
   "execution_count": 6,
   "metadata": {
    "collapsed": false
   },
   "outputs": [],
   "source": [
    "import re\n",
    "import codecs\n",
    "import math\n",
    "import gensim\n",
    "import logging\n",
    "import numpy as np\n",
    "import operator\n",
    "model = gensim.models.Doc2Vec.load('./Workspace/Doc2Vec_Size_100')"
   ]
  },
  {
   "cell_type": "code",
   "execution_count": 7,
   "metadata": {
    "collapsed": true
   },
   "outputs": [],
   "source": [
    "# 負面\n",
    "negdict = []\n",
    "# 正面\n",
    "posdict = []\n",
    "# 否定\n",
    "nodict = []\n",
    "# 程度\n",
    "plusdict = []\n",
    "# 不肯定\n",
    "question = []\n",
    "with codecs.open('./Workspace/sentiment/0616/sentiment/negativewords.txt', 'r', 'utf-8') as f:\n",
    "    for w in f.readlines():\n",
    "        negdict.append(w.split()[0])\n",
    "with codecs.open('./Workspace/sentiment/0616/sentiment/positivewords.txt', 'r', 'utf-8') as f:\n",
    "    for w in f.readlines():\n",
    "        posdict.append(w.split()[0])\n",
    "with codecs.open('./Workspace/sentiment/0616/sentiment/negative.txt', 'r', 'utf-8') as f:\n",
    "    for w in f.readlines():\n",
    "        nodict.append(w.split()[0])\n",
    "with codecs.open('./Workspace/sentiment/0616/sentiment/more.txt', 'r', 'utf-8') as f:\n",
    "    for w in f.readlines():\n",
    "        plusdict.append(w.split()[0])\n",
    "with codecs.open('./Workspace/sentiment/0616/sentiment/question.txt', 'r', 'utf-8') as f:\n",
    "    for w in f.readlines():\n",
    "        question.append(w.split()[0])"
   ]
  },
  {
   "cell_type": "code",
   "execution_count": 8,
   "metadata": {
    "collapsed": false
   },
   "outputs": [],
   "source": [
    "def bagOfWord(w,n):\n",
    "    wordList = []\n",
    "    try:\n",
    "        for ele in model.most_similar(w, topn=n):\n",
    "            wordList.append(ele[0])\n",
    "    except KeyError:\n",
    "        pass\n",
    "    return wordList"
   ]
  },
  {
   "cell_type": "code",
   "execution_count": 9,
   "metadata": {
    "collapsed": false
   },
   "outputs": [],
   "source": [
    "def expandDict(seed, n):\n",
    "    expandlist = []\n",
    "    for w in seed:\n",
    "        expandlist += bagOfWord(w, n)\n",
    "    return expandlist"
   ]
  },
  {
   "cell_type": "code",
   "execution_count": 10,
   "metadata": {
    "collapsed": false
   },
   "outputs": [],
   "source": [
    "negdictExpand = list(set(expandDict(negdict, 10)))\n",
    "posdictExpand = list(set(expandDict(posdict, 10)))\n",
    "nodictExpand = list(set(expandDict(nodict, 10)))\n",
    "plusdictExpand = list(set(expandDict(plusdict, 10)))\n",
    "questionExpand = list(set(expandDict(question, 10)))"
   ]
  },
  {
   "cell_type": "code",
   "execution_count": 11,
   "metadata": {
    "collapsed": false
   },
   "outputs": [],
   "source": [
    "with open('./Workspace/negativeEX.txt', 'w') as f:\n",
    "    for e in negdictExpand:\n",
    "        f.write(e.encode('utf-8')+'\\n')\n",
    "with open('./Workspace/positiveEX.txt', 'w') as f:\n",
    "    for e in posdictExpand:\n",
    "        f.write(e.encode('utf-8')+'\\n')\n",
    "with open('./Workspace/inverseEX.txt', 'w') as f:\n",
    "    for e in nodictExpand:\n",
    "        f.write(e.encode('utf-8')+'\\n')\n",
    "with open('./Workspace/degreeEX.txt', 'w') as f:\n",
    "    for e in plusdictExpand:\n",
    "        f.write(e.encode('utf-8')+'\\n')\n",
    "with open('./Workspace/doubtEX.txt', 'w') as f:\n",
    "    for e in questionExpand:\n",
    "        f.write(e.encode('utf-8')+'\\n')"
   ]
  }
 ],
 "metadata": {
  "kernelspec": {
   "display_name": "Python 2",
   "language": "python",
   "name": "python2"
  },
  "language_info": {
   "codemirror_mode": {
    "name": "ipython",
    "version": 2
   },
   "file_extension": ".py",
   "mimetype": "text/x-python",
   "name": "python",
   "nbconvert_exporter": "python",
   "pygments_lexer": "ipython2",
   "version": "2.7.11"
  }
 },
 "nbformat": 4,
 "nbformat_minor": 0
}
