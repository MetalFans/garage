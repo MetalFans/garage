{
 "cells": [
  {
   "cell_type": "code",
   "execution_count": 1,
   "metadata": {
    "collapsed": false
   },
   "outputs": [],
   "source": [
    "import pandas as pd\n",
    "import json\n",
    "xlsx = pd.ExcelFile('/Users/fan/Desktop/job/主要菜系及同義詞_更新版_0622.xlsx')\n",
    "df = pd.read_excel(xlsx, 'sheet1')\n",
    "restaunrant = {}\n",
    "for i in xrange(len(df)):\n",
    "    key = df[u'主要菜系'][i]\n",
    "    restaunrant[key] = [df[name][i] for name in df.columns[1:6] if not isinstance(df[name][i], float)]\n",
    "with open('/Users/fan/PycharmProjects/ETL/restaurantType.json', 'w') as f:\n",
    "    json.dump(restaunrant,f)"
   ]
  },
  {
   "cell_type": "code",
   "execution_count": 2,
   "metadata": {
    "collapsed": false
   },
   "outputs": [
    {
     "name": "stdout",
     "output_type": "stream",
     "text": [
      "<class 'pandas.core.frame.DataFrame'>\n"
     ]
    }
   ],
   "source": [
    "print type(df)"
   ]
  },
  {
   "cell_type": "code",
   "execution_count": 5,
   "metadata": {
    "collapsed": false
   },
   "outputs": [],
   "source": [
    "df[u'主要菜系'] = xrange(len(df[u'主要菜系']))"
   ]
  },
  {
   "cell_type": "code",
   "execution_count": 8,
   "metadata": {
    "collapsed": false
   },
   "outputs": [
    {
     "name": "stdout",
     "output_type": "stream",
     "text": [
      "中式料理     0\n",
      "中式料理     1\n",
      "中式料理     2\n",
      "中式料理     3\n",
      "中式料理     4\n",
      "中式料理     5\n",
      "中式料理     6\n",
      "中式料理     7\n",
      "中式料理     8\n",
      "中式料理     9\n",
      "中式料理    10\n",
      "中式料理    11\n",
      "中式料理    12\n",
      "中式料理    13\n",
      "中式料理    14\n",
      "亞洲料理    15\n",
      "亞洲料理    16\n",
      "亞洲料理    17\n",
      "亞洲料理    18\n",
      "亞洲料理    19\n",
      "亞洲料理    20\n",
      "亞洲料理    21\n",
      "亞洲料理    22\n",
      "亞洲料理    23\n",
      "亞洲料理    24\n",
      "亞洲料理    25\n",
      "亞洲料理    26\n",
      "異國料理    27\n",
      "異國料理    28\n",
      "異國料理    29\n",
      "異國料理    30\n",
      "異國料理    31\n",
      "異國料理    32\n",
      "異國料理    33\n",
      "異國料理    34\n",
      "異國料理    35\n",
      "異國料理    36\n",
      "異國料理    37\n",
      "異國料理    38\n",
      "異國料理    39\n",
      "異國料理    40\n",
      "異國料理    41\n",
      "異國料理    42\n",
      "異國料理    43\n",
      "異國料理    44\n",
      "Name: 主要菜系, dtype: int64\n"
     ]
    }
   ],
   "source": [
    "print df[u'主要菜系']"
   ]
  },
  {
   "cell_type": "code",
   "execution_count": 155,
   "metadata": {
    "collapsed": false
   },
   "outputs": [
    {
     "name": "stdout",
     "output_type": "stream",
     "text": [
      "蒙古\n"
     ]
    }
   ],
   "source": [
    "for e in restaunrant[u'蒙古烤肉']:\n",
    "    print e"
   ]
  },
  {
   "cell_type": "code",
   "execution_count": null,
   "metadata": {
    "collapsed": true
   },
   "outputs": [],
   "source": [
    "count = 0\n",
    "for r in table:\n",
    "    r1 = r.split()\n",
    "    count += 1\n",
    "    if count % 5 !=0:\n",
    "         list.append(r)\n",
    "    else:\n",
    "        \n",
    "        "
   ]
  },
  {
   "cell_type": "code",
   "execution_count": 157,
   "metadata": {
    "collapsed": false
   },
   "outputs": [
    {
     "name": "stdout",
     "output_type": "stream",
     "text": [
      "45\n"
     ]
    }
   ],
   "source": [
    "print len(restaunrant.values())"
   ]
  },
  {
   "cell_type": "code",
   "execution_count": 156,
   "metadata": {
    "collapsed": false
   },
   "outputs": [
    {
     "name": "stdout",
     "output_type": "stream",
     "text": [
      "       主要菜系   同義詞 name1 name2 name3 name4\n",
      "中式料理    台灣菜  台式料理  台灣小吃    台菜  台灣料理   台灣味\n",
      "中式料理    客家菜    客家   NaN   NaN   NaN   NaN\n",
      "中式料理    眷村菜    眷村   NaN   NaN   NaN   NaN\n",
      "中式料理  原住民料理   原住民    山產    野味   NaN   NaN\n",
      "中式料理    廣東菜    粵菜  粵式料理  港式料理    廣東    港式\n",
      "中式料理    四川菜    川菜    四川    麻辣   NaN   NaN\n",
      "中式料理    江浙菜  江浙料理    江浙   NaN   NaN   NaN\n",
      "中式料理    上海菜   本幫菜    滬菜    上海   NaN   NaN\n",
      "中式料理    東北菜    東北   NaN   NaN   NaN   NaN\n",
      "中式料理    北京菜    北京    京菜   NaN   NaN   NaN\n",
      "中式料理    湖南菜    湘菜    湖南   NaN   NaN   NaN\n",
      "中式料理    雲南菜    擺夷   NaN   NaN   NaN   NaN\n",
      "中式料理     閩菜    福州   NaN   NaN   NaN   NaN\n",
      "中式料理   蒙古烤肉    蒙古   NaN   NaN   NaN   NaN\n",
      "中式料理    新疆菜    新疆   NaN   NaN   NaN   NaN\n",
      "亞洲料理    韓國菜    韓式    韓國   NaN   NaN   NaN\n",
      "亞洲料理   日式料理    日本    日式    日系   NaN   NaN\n",
      "亞洲料理   澳門美食    澳門   NaN   NaN   NaN   NaN\n",
      "亞洲料理    越南菜    越式   NaN   NaN   NaN   NaN\n",
      "亞洲料理    泰國菜    泰式    泰國   NaN   NaN   NaN\n",
      "亞洲料理   緬甸料理    緬甸   NaN   NaN   NaN   NaN\n",
      "亞洲料理   印尼料理    印尼   NaN   NaN   NaN   NaN\n",
      "亞洲料理   星馬料理    馬來   新加坡    星國   NaN   NaN\n",
      "亞洲料理   南洋料理    南洋   NaN   NaN   NaN   NaN\n",
      "亞洲料理    印度菜    印度   NaN   NaN   NaN   NaN\n",
      "亞洲料理  土耳其料理   土耳其   NaN   NaN   NaN   NaN\n",
      "亞洲料理   中東料理    中東   NaN   NaN   NaN   NaN\n",
      "異國料理    歐陸菜    歐陸    歐式   NaN   NaN   NaN\n",
      "異國料理  俄羅斯料理   俄羅斯    俄式   NaN   NaN   NaN\n",
      "異國料理   義大利菜  義式料理    義式   NaN   NaN   NaN\n",
      "異國料理     德式  德國豬腳   黑森林   NaN   NaN   NaN\n",
      "異國料理    法國菜    法式    法國   NaN   NaN   NaN\n",
      "異國料理   葡萄牙菜    葡式    葡國   NaN   NaN   NaN\n",
      "異國料理   西班牙菜   西班牙   NaN   NaN   NaN   NaN\n",
      "異國料理  比利時料理   比利時   NaN   NaN   NaN   NaN\n",
      "異國料理   北歐料理    北歐   NaN   NaN   NaN   NaN\n",
      "異國料理  愛爾蘭料理   愛爾蘭   NaN   NaN   NaN   NaN\n",
      "異國料理    英國菜    英國    英式   NaN   NaN   NaN\n",
      "異國料理   希臘料理   地中海    南歐   NaN   NaN   NaN\n",
      "異國料理   澳洲料理    澳洲    紐澳   NaN   NaN   NaN\n",
      "異國料理  紐西蘭料理   紐西蘭   NaN   NaN   NaN   NaN\n",
      "異國料理     美國    美國    美式    紐約   NaN   NaN\n",
      "異國料理   墨西哥菜   墨西哥    墨式   NaN   NaN   NaN\n",
      "異國料理  摩洛哥料理   摩洛哥   NaN   NaN   NaN   NaN\n",
      "異國料理   非洲料理    非洲   NaN   NaN   NaN   NaN\n"
     ]
    }
   ],
   "source": [
    "print df"
   ]
  },
  {
   "cell_type": "code",
   "execution_count": null,
   "metadata": {
    "collapsed": false
   },
   "outputs": [],
   "source": []
  }
 ],
 "metadata": {
  "kernelspec": {
   "display_name": "Python 2",
   "language": "python",
   "name": "python2"
  },
  "language_info": {
   "codemirror_mode": {
    "name": "ipython",
    "version": 2
   },
   "file_extension": ".py",
   "mimetype": "text/x-python",
   "name": "python",
   "nbconvert_exporter": "python",
   "pygments_lexer": "ipython2",
   "version": "2.7.11"
  }
 },
 "nbformat": 4,
 "nbformat_minor": 0
}
