{
 "cells": [
  {
   "cell_type": "code",
   "execution_count": 41,
   "metadata": {
    "collapsed": false
   },
   "outputs": [],
   "source": [
    "import numpy as np\n",
    "import random\n",
    "from sklearn.metrics.pairwise import cosine_similarity"
   ]
  },
  {
   "cell_type": "code",
   "execution_count": 39,
   "metadata": {
    "collapsed": false
   },
   "outputs": [
    {
     "name": "stdout",
     "output_type": "stream",
     "text": [
      "[[ 0.97230559]]\n"
     ]
    }
   ],
   "source": [
    "v1 = np.array([1,2,3]).reshape(1,-1)\n",
    "v2 = np.array([2,2,3]).reshape(1,-1)\n",
    "v3 = np.array([3,4,5]).reshape(1,-1)\n",
    "print cosine_similarity(v2, v1)"
   ]
  },
  {
   "cell_type": "code",
   "execution_count": 44,
   "metadata": {
    "collapsed": false
   },
   "outputs": [],
   "source": [
    "vec = [v1,v2,v3]\n",
    "n = len(vec)\n",
    "featureSize = len(vec[0][0])\n",
    "featureVec = np.zeros((featureSize),dtype=\"float32\").reshape(1,-1)\n",
    "cluster = []\n",
    "clusterV = []\n",
    "threshold = 1.0/(n+1)\n",
    "for i in xrange(n):\n",
    "    sim = [cosine_similarity(vec[i], clusterV[j]) for j in xrange(len(cluster))]\n",
    "    if sim:\n",
    "        maxsim = max(sim)\n",
    "        maxindex = sim.index(maxsim)\n",
    "        if maxsim < threshold:\n",
    "            r = random.random()\n",
    "            if r < threshold:\n",
    "                \n",
    "    else:\n",
    "        cluster.append([i])    \n",
    "            \n",
    "        \n",
    "    "
   ]
  },
  {
   "cell_type": "code",
   "execution_count": 62,
   "metadata": {
    "collapsed": false
   },
   "outputs": [
    {
     "name": "stdout",
     "output_type": "stream",
     "text": [
      "2\n"
     ]
    }
   ],
   "source": [
    "a = [1,2,3]"
   ]
  }
 ],
 "metadata": {
  "kernelspec": {
   "display_name": "Python 2",
   "language": "python",
   "name": "python2"
  },
  "language_info": {
   "codemirror_mode": {
    "name": "ipython",
    "version": 2
   },
   "file_extension": ".py",
   "mimetype": "text/x-python",
   "name": "python",
   "nbconvert_exporter": "python",
   "pygments_lexer": "ipython2",
   "version": "2.7.11"
  }
 },
 "nbformat": 4,
 "nbformat_minor": 0
}
