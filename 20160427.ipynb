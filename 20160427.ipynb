{
 "cells": [
  {
   "cell_type": "code",
   "execution_count": 9,
   "metadata": {
    "collapsed": false
   },
   "outputs": [
    {
     "name": "stdout",
     "output_type": "stream",
     "text": [
      "what's your nameDavid\n",
      "Nice to meet you David\n"
     ]
    }
   ],
   "source": [
    "name = raw_input(\"what's your name\")\n",
    "if name == 'David':\n",
    "    print \"Nice to meet you\",name\n",
    "else:\n",
    "    print \"Who are you?\""
   ]
  },
  {
   "cell_type": "code",
   "execution_count": 26,
   "metadata": {
    "collapsed": false
   },
   "outputs": [
    {
     "name": "stdout",
     "output_type": "stream",
     "text": [
      "what's your name123\n",
      "Who are you?\n"
     ]
    }
   ],
   "source": [
    "name = raw_input(\"what's your name\")\n",
    "if name == 'David':\n",
    "    print \"Nice to meet you\",name\n",
    "    print \"Nice to meet you {0}{1}{2}\".format(name,name,\"name\")\n",
    "    print \"Nice to meet you %s %s\"%(name,name)\n",
    "else:\n",
    "    print \"Who are you?\""
   ]
  },
  {
   "cell_type": "code",
   "execution_count": 21,
   "metadata": {
    "collapsed": false
   },
   "outputs": [
    {
     "name": "stdout",
     "output_type": "stream",
     "text": [
      "0.5\n"
     ]
    }
   ],
   "source": [
    "print 1/2.0"
   ]
  },
  {
   "cell_type": "code",
   "execution_count": 22,
   "metadata": {
    "collapsed": false
   },
   "outputs": [
    {
     "ename": "ZeroDivisionError",
     "evalue": "integer division or modulo by zero",
     "output_type": "error",
     "traceback": [
      "\u001b[0;31m---------------------------------------------------------------------------\u001b[0m",
      "\u001b[0;31mZeroDivisionError\u001b[0m                         Traceback (most recent call last)",
      "\u001b[0;32m<ipython-input-22-a0641230c7a8>\u001b[0m in \u001b[0;36m<module>\u001b[0;34m()\u001b[0m\n\u001b[0;32m----> 1\u001b[0;31m \u001b[0;36m3\u001b[0m\u001b[0;34m/\u001b[0m\u001b[0;36m0\u001b[0m\u001b[0;34m\u001b[0m\u001b[0m\n\u001b[0m",
      "\u001b[0;31mZeroDivisionError\u001b[0m: integer division or modulo by zero"
     ]
    }
   ],
   "source": [
    "3/0"
   ]
  },
  {
   "cell_type": "code",
   "execution_count": 27,
   "metadata": {
    "collapsed": false
   },
   "outputs": [
    {
     "name": "stdout",
     "output_type": "stream",
     "text": [
      "type a number1\n",
      "type a number0\n",
      "error integer division or modulo by zero\n"
     ]
    }
   ],
   "source": [
    "d1 = input(\"type a number\")\n",
    "d2 = input(\"type a number\")\n",
    "\n",
    "try:\n",
    "    d1/d2\n",
    "except ZeroDivisionError as detail:\n",
    "    print \"error\", detail"
   ]
  },
  {
   "cell_type": "code",
   "execution_count": 30,
   "metadata": {
    "collapsed": false
   },
   "outputs": [
    {
     "data": {
      "text/plain": [
       "'string'"
      ]
     },
     "execution_count": 30,
     "metadata": {},
     "output_type": "execute_result"
    }
   ],
   "source": [
    "dir(\"string\")\n",
    "a = \"string\"\n",
    "a.__str__()"
   ]
  },
  {
   "cell_type": "code",
   "execution_count": 56,
   "metadata": {
    "collapsed": false
   },
   "outputs": [
    {
     "name": "stdout",
     "output_type": "stream",
     "text": [
      "strrrrrrrrrrrrrrrrrrrrrrrrrrrrrrrrrrrrrrb\n",
      "\n",
      "qdwqdioiqdqodijqwoidjqiojdioqwdasd\n",
      "qdkqowdkpqwdkpqwkdopkqwodkpq\n",
      "qowdkopqkdopwqkdopqkdwpoqkpdq\n",
      "qwodkopqwdkpoq\n",
      "\n",
      "110 之1等於 q\n",
      "b\n",
      "strrrrrrrrrrrrrrrrrrrrrrrrrrrrrrrrrrrr\n",
      "rrb\n",
      "str\n",
      "strrrrrrrrrrrrrrrrrrrrrrrrrrrrrrrrrrrrrrb\n",
      "qdwqdioiqdqodijqwoidjqiojdioqwdasd\n",
      "qdkqowdkpqwdkpqwkdopkqwodkpq\n",
      "qowdkopqkdopwqkdopqkdwpoqkpdq\n",
      "qwodkopqwdkpoq\n",
      "\n"
     ]
    }
   ],
   "source": [
    "a = \"strrrrrrrrrrrr\\\n",
    "rrrrrrrrrrrrrrrrrrrrrrrrrrb\"\n",
    "b = '''\n",
    "qdwqdioiqdqodijqwoidjqiojdioqwdasd\n",
    "qdkqowdkpqwdkpqwkdopkqwodkpq\n",
    "qowdkopqkdopwqkdopqkdwpoqkpdq\n",
    "qwodkopqwdkpoq\n",
    "'''\n",
    "print a\n",
    "print b\n",
    "print len(b),\"之1等於\",b[1]\n",
    "print a[-1]\n",
    "print a[:-3]\n",
    "print a[-3:]\n",
    "print a[0:3]\n",
    "print a+b"
   ]
  },
  {
   "cell_type": "code",
   "execution_count": 49,
   "metadata": {
    "collapsed": false
   },
   "outputs": [
    {
     "name": "stdout",
     "output_type": "stream",
     "text": [
      "\n",
      "\t hello\n",
      "\\n\\t hello\n",
      "'\\n\\t hello'\n"
     ]
    }
   ],
   "source": [
    "raw = \"\\n\\t hello\"\n",
    "raw2 = r\"\\n\\t hello\"\n",
    "print raw\n",
    "print raw2\n",
    "print repr(raw)"
   ]
  },
  {
   "cell_type": "code",
   "execution_count": 53,
   "metadata": {
    "collapsed": false
   },
   "outputs": [
    {
     "name": "stdout",
     "output_type": "stream",
     "text": [
      "QOO LOVES OOP\n",
      "Qoo Loves Oop\n",
      "['Qoo', 'loves', 'OOP']\n",
      "Qoo-loves-OOP\n"
     ]
    }
   ],
   "source": [
    "a = 'Qoo loves OOP'\n",
    "print a.upper()\n",
    "print a.title()\n",
    "print a.split()\n",
    "print \"-\".join(a.split())"
   ]
  },
  {
   "cell_type": "code",
   "execution_count": 73,
   "metadata": {
    "collapsed": false
   },
   "outputs": [
    {
     "name": "stdout",
     "output_type": "stream",
     "text": [
      "['a', 1]\n",
      "['a', 1]\n",
      "['a', 'b', 'c', 'd', 'e']\n"
     ]
    }
   ],
   "source": [
    "print ['a',1]\n",
    "print list(('a',1))\n",
    "print list(\"abcde\")"
   ]
  },
  {
   "cell_type": "code",
   "execution_count": 63,
   "metadata": {
    "collapsed": false
   },
   "outputs": [
    {
     "name": "stdout",
     "output_type": "stream",
     "text": [
      "[1, 3, 5]\n",
      "['a', 4, 2]\n",
      "[1, 3]\n",
      "['a', 1]\n"
     ]
    }
   ],
   "source": [
    "a = [1,2,3,4,5,'a']\n",
    "print a[::2]\n",
    "print a[::-2]\n",
    "print a[0:4:2]\n",
    "print [max(a),min(a)]"
   ]
  },
  {
   "cell_type": "code",
   "execution_count": 86,
   "metadata": {
    "collapsed": false
   },
   "outputs": [
    {
     "name": "stdout",
     "output_type": "stream",
     "text": [
      "[7, 6, 5, 2]\n"
     ]
    }
   ],
   "source": [
    "a=[5,6,7,8]\n",
    "a.pop(3)\n",
    "a.append(2)\n",
    "a.reverse()\n",
    "a.sort()\n",
    "a.sort(reverse=True)\n",
    "print a"
   ]
  },
  {
   "cell_type": "code",
   "execution_count": 88,
   "metadata": {
    "collapsed": false
   },
   "outputs": [
    {
     "name": "stdout",
     "output_type": "stream",
     "text": [
      "['h', 'e', 'l', 'l', 'o', ' ', 'w', 'o', 'r', 'l', 'd']\n",
      "['h', 'e', 'l', 'l', 'o', ' ', 'w', 'o', 'r', 'l', 'd']\n"
     ]
    }
   ],
   "source": [
    "hello = list('hello world')\n",
    "print hello\n",
    "if 'h'in hello:\n",
    "    print hello"
   ]
  },
  {
   "cell_type": "code",
   "execution_count": 103,
   "metadata": {
    "collapsed": false
   },
   "outputs": [
    {
     "name": "stdout",
     "output_type": "stream",
     "text": [
      "[1, 2, 3, 4, 5, 7]\n",
      "[1, 2, 3, 4, 5]\n"
     ]
    }
   ],
   "source": [
    "import copy\n",
    "a=[1,2,3,4,5]\n",
    "b=copy.deepcopy(a)\n",
    "a.append(7)\n",
    "print a\n",
    "print b"
   ]
  },
  {
   "cell_type": "code",
   "execution_count": 101,
   "metadata": {
    "collapsed": false
   },
   "outputs": [
    {
     "name": "stdout",
     "output_type": "stream",
     "text": [
      "[1, 4, 9, 16, 25]\n",
      "[1, 2]\n",
      "['Apple', 'Banana', 'Grape', 'Orange']\n"
     ]
    }
   ],
   "source": [
    "nums = [1,2,3,4,5]\n",
    "squares = [n*n for n in nums]\n",
    "small = [n for n in nums if n<=2]\n",
    "fruit = ['apple','banana','grape','orange']\n",
    "afruit = [n.title() for n in fruit]\n",
    "print squares\n",
    "print small\n",
    "print afruit"
   ]
  },
  {
   "cell_type": "code",
   "execution_count": 107,
   "metadata": {
    "collapsed": false
   },
   "outputs": [
    {
     "name": "stdout",
     "output_type": "stream",
     "text": [
      "searching...\n",
      "searching...\n",
      "searching...\n",
      "searching...\n",
      "searching...\n",
      "searching...\n",
      "searching...\n",
      "8 found\n",
      "9 found\n"
     ]
    }
   ],
   "source": [
    "a = 9\n",
    "b = 8\n",
    "for i in xrange(1,10):\n",
    "    if i==a:\n",
    "        print str(a) + ' found'\n",
    "    elif i==b:\n",
    "        print str(b) + ' found'\n",
    "    else:\n",
    "        print 'searching...'"
   ]
  },
  {
   "cell_type": "code",
   "execution_count": 109,
   "metadata": {
    "collapsed": false
   },
   "outputs": [
    {
     "name": "stdout",
     "output_type": "stream",
     "text": [
      "1\n",
      "4\n",
      "7\n",
      "1\n",
      "2\n",
      "3\n",
      "4\n",
      "5\n"
     ]
    }
   ],
   "source": [
    "for i in xrange(1,10,3):\n",
    "    print i\n",
    "a = \"12345\"\n",
    "for i in a:\n",
    "    print i"
   ]
  },
  {
   "cell_type": "code",
   "execution_count": 111,
   "metadata": {
    "collapsed": false
   },
   "outputs": [
    {
     "name": "stdout",
     "output_type": "stream",
     "text": [
      "0\n",
      "1\n",
      "2\n",
      "3\n",
      "4\n",
      "5\n",
      "6\n",
      "7\n",
      "8\n",
      "9\n",
      "10\n"
     ]
    }
   ],
   "source": [
    "i = 0;\n",
    "while True:\n",
    "    print i\n",
    "    i+=1\n",
    "    if i>10:\n",
    "        break"
   ]
  },
  {
   "cell_type": "code",
   "execution_count": 120,
   "metadata": {
    "collapsed": false
   },
   "outputs": [
    {
     "name": "stdout",
     "output_type": "stream",
     "text": [
      "[('Alice', 1), ('Ben', 2), ('Peter', 3)]\n"
     ]
    }
   ],
   "source": [
    "name = ['Alice','Ben','Peter']\n",
    "number = [1,2,3]\n",
    "dic = [i for i in zip(name,number)]\n",
    "print dic"
   ]
  },
  {
   "cell_type": "code",
   "execution_count": 121,
   "metadata": {
    "collapsed": false
   },
   "outputs": [
    {
     "name": "stdout",
     "output_type": "stream",
     "text": [
      "5\n",
      "2.0\n",
      "1.0\n"
     ]
    }
   ],
   "source": [
    "def addNum(a,b):\n",
    "    print a+b\n",
    "addNum(1,4)\n",
    "\n",
    "import math\n",
    "print math.ceil(7/6.0)\n",
    "print math.floor(7/6.0)"
   ]
  },
  {
   "cell_type": "code",
   "execution_count": 129,
   "metadata": {
    "collapsed": false
   },
   "outputs": [
    {
     "name": "stdout",
     "output_type": "stream",
     "text": [
      "100\n",
      "['a', 'c', 'b']\n",
      "[100, 0.98, 'yes']\n",
      "100\n",
      "{'a': 100, 'c': 0.98, 'b': 'yes', 'e': 'aaaa', 'd': 1000}\n",
      "a 100\n",
      "c 0.98\n",
      "b yes\n",
      "e aaaa\n",
      "d 1000\n"
     ]
    }
   ],
   "source": [
    "dic = {'a':100,'b':'yes','c':0.98}\n",
    "print dic['a']\n",
    "print dic.keys()\n",
    "print dic.values()\n",
    "print dic.get('a')\n",
    "dic['d']=1000\n",
    "dic.update({'e':'aaaa'})\n",
    "print dic\n",
    "for key in dic:\n",
    "    print key,dic[key]"
   ]
  },
  {
   "cell_type": "code",
   "execution_count": 137,
   "metadata": {
    "collapsed": false
   },
   "outputs": [
    {
     "name": "stdout",
     "output_type": "stream",
     "text": [
      "1\n"
     ]
    }
   ],
   "source": [
    "def func(x):\n",
    "    return {'a':1,'b':2}.get(x,0)\n",
    "print func('a')"
   ]
  },
  {
   "cell_type": "code",
   "execution_count": 146,
   "metadata": {
    "collapsed": false
   },
   "outputs": [],
   "source": [
    "class Person():\n",
    "    count=0\n",
    "    def __init__(self, name, city):\n",
    "        self.name=name\n",
    "        self.city=city\n",
    "        Person.count+=1\n",
    "    def number_of_persons(self):\n",
    "        return Person.count"
   ]
  },
  {
   "cell_type": "code",
   "execution_count": 200,
   "metadata": {
    "collapsed": false
   },
   "outputs": [
    {
     "name": "stdout",
     "output_type": "stream",
     "text": [
      "54\n"
     ]
    }
   ],
   "source": [
    "p1 = Person('Bob','New York')\n",
    "print p1.count"
   ]
  },
  {
   "cell_type": "code",
   "execution_count": 201,
   "metadata": {
    "collapsed": false
   },
   "outputs": [
    {
     "name": "stdout",
     "output_type": "stream",
     "text": [
      "2\n",
      "5\n",
      "6\n",
      "5\n",
      "4\n"
     ]
    }
   ],
   "source": [
    "class MyInteger():\n",
    "    def __init__(self, integer):\n",
    "        #print \"constructor\"\n",
    "        self.integer = integer\n",
    "    def __add__(self, integer): # Overloaded '+' operator\n",
    "        if self.integer == 2 and integer == 2:\n",
    "            return 5\n",
    "        else:\n",
    "            return self.integer + integer\n",
    "m = MyInteger(1)\n",
    "print m.__add__(1)\n",
    "m2 = MyInteger(2)\n",
    "print m2.__add__(2)\n",
    "print m2.__add__(4)\n",
    "print m2 + 2\n",
    "print m + 3"
   ]
  },
  {
   "cell_type": "code",
   "execution_count": 202,
   "metadata": {
    "collapsed": false
   },
   "outputs": [
    {
     "name": "stdout",
     "output_type": "stream",
     "text": [
      "rent_bike is yellow\n"
     ]
    }
   ],
   "source": [
    "class Vehicle():\n",
    "    def my_own(self): return True\n",
    "    \n",
    "class Bicycle(Vehicle):\n",
    "    def __init__(self, color): self.color = color\n",
    "    def has_wheels(self): return True\n",
    "    def __str__(self): return \"%s is %s\"%(self.__class__.__name__,self.color)\n",
    "\n",
    "class rent_bike(Bicycle):\n",
    "    def my_own(self): return False\n",
    "Ubike = rent_bike('yellow')\n",
    "print Ubike"
   ]
  },
  {
   "cell_type": "code",
   "execution_count": 203,
   "metadata": {
    "collapsed": true
   },
   "outputs": [],
   "source": [
    "fid = open('test.txt','w')\n",
    "fid.write('Hello\\nWorld')\n",
    "fid.close()"
   ]
  },
  {
   "cell_type": "code",
   "execution_count": 210,
   "metadata": {
    "collapsed": false
   },
   "outputs": [
    {
     "name": "stdout",
     "output_type": "stream",
     "text": [
      "Line: Hello\n",
      "Line: World\n"
     ]
    }
   ],
   "source": [
    "fid = open('test.txt','r')\n",
    "for line in fid:\n",
    "    print \"Line: \" + line.strip()\n",
    "fid.close()"
   ]
  },
  {
   "cell_type": "code",
   "execution_count": 208,
   "metadata": {
    "collapsed": false
   },
   "outputs": [
    {
     "name": "stdout",
     "output_type": "stream",
     "text": [
      "Line: Hello\n",
      "Line: World\n",
      "Line: Hello\n",
      "Line: World\n"
     ]
    }
   ],
   "source": [
    "fid = open('test.txt','r')\n",
    "lines = fid.readlines()\n",
    "for line in lines:\n",
    "    print \"Line: \" + line.strip()\n",
    "fid.close()\n",
    "for line in lines:\n",
    "    print \"Line: \" + line.strip()"
   ]
  },
  {
   "cell_type": "code",
   "execution_count": 212,
   "metadata": {
    "collapsed": false
   },
   "outputs": [
    {
     "name": "stdout",
     "output_type": "stream",
     "text": [
      "Hello\n",
      "World\n"
     ]
    }
   ],
   "source": [
    "with open('test.txt','r') as f:\n",
    "    for line in f:\n",
    "        print line.strip()"
   ]
  },
  {
   "cell_type": "code",
   "execution_count": 213,
   "metadata": {
    "collapsed": false
   },
   "outputs": [
    {
     "name": "stdout",
     "output_type": "stream",
     "text": [
      "2\n"
     ]
    }
   ],
   "source": [
    "with open('test.txt','r') as f:\n",
    "    print len(f.readlines())"
   ]
  },
  {
   "cell_type": "code",
   "execution_count": 222,
   "metadata": {
    "collapsed": false
   },
   "outputs": [
    {
     "name": "stdout",
     "output_type": "stream",
     "text": [
      "['The', 'U.S.', 'has', 'adopted', 'a', 'unique', 'Israeli', 'battlefield', 'tactic', 'in', 'its', 'fight', 'against', 'ISIS:', 'exploding', 'a', 'missile', 'above', 'a', 'building', 'to', 'warn', 'civilians', 'inside', 'that', \"it's\", 'about', 'to', 'be', 'bombed.\\nIsraeli', 'forces', 'have', 'widely', 'used', 'the', 'so-called', 'knock-on-the-roof', 'operations', 'in', 'Gaza', 'attacks', 'in', 'recent', 'years', 'to', 'try', 'to', 'get', 'civilians', 'out', 'before', 'they', 'are', 'hit.\\nThe', 'first', 'public', 'revelation', 'of', 'the', 'U.S.', 'using', 'a', '\"knock', 'operation\"', 'came', 'Tuesday', 'at', 'a', 'press', 'briefing', 'by', 'Air', 'Force', 'Maj.', 'Gen.', 'Peter', 'E.', 'Gersten,', 'deputy', 'commander', 'for', 'operations', 'and', 'intelligence', 'for', 'the', 'anti-ISIS', 'Operation', 'Inherent', 'Resolve.\\n']\n",
      "{'operations': 2, 'battlefield': 1, 'Israeli': 1, 'they': 1, 'be': 1, 'intelligence': 1, 'Gaza': 1, 'Maj.': 1, 'years': 1, 'Gen.': 1, 'bombed.\\nIsraeli': 1, 'are': 1, 'have': 1, 'in': 3, 'Operation': 1, 'its': 1, 'out': 1, 'deputy': 1, 'widely': 1, 'by': 1, 'E.': 1, 'and': 1, 'for': 2, \"it's\": 1, 'get': 1, 'anti-ISIS': 1, 'adopted': 1, 'fight': 1, 'Resolve.\\n': 1, 'to': 4, 'exploding': 1, 'commander': 1, 'above': 1, 'before': 1, 'has': 1, 'public': 1, 'Air': 1, 'building': 1, 'used': 1, '\"knock': 1, 'tactic': 1, 'that': 1, 'Gersten,': 1, 'U.S.': 2, 'missile': 1, 'warn': 1, 'hit.\\nThe': 1, 'recent': 1, 'civilians': 2, 'press': 1, 'using': 1, 'The': 1, 'unique': 1, 'revelation': 1, 'ISIS:': 1, 'a': 5, 'so-called': 1, 'about': 1, 'Force': 1, 'operation\"': 1, 'attacks': 1, 'of': 1, 'inside': 1, 'against': 1, 'try': 1, 'briefing': 1, 'knock-on-the-roof': 1, 'Inherent': 1, 'forces': 1, 'at': 1, 'the': 3, 'Peter': 1, 'Tuesday': 1, 'came': 1, 'first': 1}\n"
     ]
    }
   ],
   "source": [
    "text = '''The U.S. has adopted a unique Israeli battlefield tactic in its fight against ISIS: exploding a missile above a building to warn civilians inside that it's about to be bombed.\n",
    "Israeli forces have widely used the so-called knock-on-the-roof operations in Gaza attacks in recent years to try to get civilians out before they are hit.\n",
    "The first public revelation of the U.S. using a \"knock operation\" came Tuesday at a press briefing by Air Force Maj. Gen. Peter E. Gersten, deputy commander for operations and intelligence for the anti-ISIS Operation Inherent Resolve.\n",
    "'''\n",
    "word = text.split(' ')\n",
    "print word\n",
    "dic = {}\n",
    "for t in word:\n",
    "    if dic.get(t,0)==0:\n",
    "        dic[t]=1\n",
    "    else:\n",
    "        dic[t]=dic[t]+1\n",
    "print dic"
   ]
  },
  {
   "cell_type": "code",
   "execution_count": 224,
   "metadata": {
    "collapsed": false
   },
   "outputs": [
    {
     "name": "stdout",
     "output_type": "stream",
     "text": [
      "Counter({'a': 5, 'to': 4, 'in': 3, 'the': 3, 'operations': 2, 'for': 2, 'U.S.': 2, 'civilians': 2, 'battlefield': 1, 'Israeli': 1, 'they': 1, 'be': 1, 'intelligence': 1, 'Gaza': 1, 'Maj.': 1, 'years': 1, 'Gen.': 1, 'bombed.\\nIsraeli': 1, 'are': 1, 'have': 1, 'Operation': 1, 'its': 1, 'out': 1, 'deputy': 1, 'widely': 1, 'by': 1, 'E.': 1, 'and': 1, \"it's\": 1, 'get': 1, 'anti-ISIS': 1, 'adopted': 1, 'fight': 1, 'Resolve.\\n': 1, 'exploding': 1, 'commander': 1, 'above': 1, 'before': 1, 'has': 1, 'public': 1, 'Air': 1, 'building': 1, 'used': 1, '\"knock': 1, 'tactic': 1, 'that': 1, 'Gersten,': 1, 'missile': 1, 'warn': 1, 'hit.\\nThe': 1, 'recent': 1, 'press': 1, 'using': 1, 'The': 1, 'unique': 1, 'revelation': 1, 'ISIS:': 1, 'so-called': 1, 'about': 1, 'Force': 1, 'operation\"': 1, 'attacks': 1, 'of': 1, 'inside': 1, 'against': 1, 'try': 1, 'briefing': 1, 'knock-on-the-roof': 1, 'Inherent': 1, 'forces': 1, 'at': 1, 'Peter': 1, 'Tuesday': 1, 'came': 1, 'first': 1})\n"
     ]
    }
   ],
   "source": [
    "from collections import Counter\n",
    "c = Counter(word)\n",
    "print c"
   ]
  },
  {
   "cell_type": "code",
   "execution_count": 248,
   "metadata": {
    "collapsed": false
   },
   "outputs": [
    {
     "name": "stdout",
     "output_type": "stream",
     "text": [
      "[('a', 5), ('to', 4), ('in', 3), ('the', 3), ('operations', 2), ('for', 2), ('U.S.', 2), ('civilians', 2), ('battlefield', 1), ('Israeli', 1), ('they', 1), ('be', 1), ('intelligence', 1), ('Gaza', 1), ('Maj.', 1), ('years', 1), ('Gen.', 1), ('bombed.\\nIsraeli', 1), ('are', 1), ('have', 1), ('Operation', 1), ('its', 1), ('out', 1), ('deputy', 1), ('widely', 1), ('by', 1), ('E.', 1), ('and', 1), (\"it's\", 1), ('get', 1), ('anti-ISIS', 1), ('adopted', 1), ('fight', 1), ('Resolve.\\n', 1), ('exploding', 1), ('commander', 1), ('above', 1), ('before', 1), ('has', 1), ('public', 1), ('Air', 1), ('building', 1), ('used', 1), ('\"knock', 1), ('tactic', 1), ('that', 1), ('Gersten,', 1), ('missile', 1), ('warn', 1), ('hit.\\nThe', 1), ('recent', 1), ('press', 1), ('using', 1), ('The', 1), ('unique', 1), ('revelation', 1), ('ISIS:', 1), ('so-called', 1), ('about', 1), ('Force', 1), ('operation\"', 1), ('attacks', 1), ('of', 1), ('inside', 1), ('against', 1), ('try', 1), ('briefing', 1), ('knock-on-the-roof', 1), ('Inherent', 1), ('forces', 1), ('at', 1), ('Peter', 1), ('Tuesday', 1), ('came', 1), ('first', 1)]\n"
     ]
    }
   ],
   "source": [
    "import operator\n",
    "inventory = [('apple', 3), ('banana', 2), ('pear', 5), ('orange', 1)]\n",
    "sorted_x = sorted(c.items(), key=operator.itemgetter(1), reverse=True)\n",
    "print sorted_x"
   ]
  },
  {
   "cell_type": "code",
   "execution_count": null,
   "metadata": {
    "collapsed": true
   },
   "outputs": [],
   "source": []
  },
  {
   "cell_type": "code",
   "execution_count": null,
   "metadata": {
    "collapsed": true
   },
   "outputs": [],
   "source": []
  },
  {
   "cell_type": "code",
   "execution_count": null,
   "metadata": {
    "collapsed": true
   },
   "outputs": [],
   "source": []
  }
 ],
 "metadata": {
  "kernelspec": {
   "display_name": "Python 2",
   "language": "python",
   "name": "python2"
  },
  "language_info": {
   "codemirror_mode": {
    "name": "ipython",
    "version": 2
   },
   "file_extension": ".py",
   "mimetype": "text/x-python",
   "name": "python",
   "nbconvert_exporter": "python",
   "pygments_lexer": "ipython2",
   "version": "2.7.11"
  }
 },
 "nbformat": 4,
 "nbformat_minor": 0
}
