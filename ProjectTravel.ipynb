{
 "cells": [
  {
   "cell_type": "markdown",
   "metadata": {},
   "source": [
    "# 燦星\n",
    "- 一筆行程ㄧdic{ , , , , }\n",
    "- {title:標題, \n",
    "   plane:飛機聯盟, \n",
    "   time:時間(早去晚回), \n",
    "   price:價格(多少元起), \n",
    "   area:地區(北海道), \n",
    "   tour:({day1:(地點1,地點2,...)},{day2:(地點1,地點2,...)},...), \n",
    "   hotel:({day1:旅館},{day2:旅館},...)\n",
    "  } "
   ]
  },
  {
   "cell_type": "code",
   "execution_count": 12,
   "metadata": {
    "collapsed": false
   },
   "outputs": [
    {
     "name": "stdout",
     "output_type": "stream",
     "text": [
      "5 3\n"
     ]
    }
   ],
   "source": [
    "a=5\n",
    "b=3\n",
    "print a,b"
   ]
  },
  {
   "cell_type": "code",
   "execution_count": 77,
   "metadata": {
    "collapsed": false
   },
   "outputs": [
    {
     "name": "stdout",
     "output_type": "stream",
     "text": [
      "['h']\n"
     ]
    }
   ],
   "source": [
    "#透過標籤屬性值選取標籤\n",
    "#1.正規表達:import re\n",
    "#2.if條件式\n",
    "#3.List使用\n",
    "\n",
    "import re    #使用Re:正規表達法\n",
    "from bs4 import BeautifulSoup\n",
    "t = '<html>    <a id=\"ys12345\" t=\"12\">yes</a>    <a id=\"ys23456\" t=\"h\">no</a>    <a id=\"no23456\" t=\"13\">noo</a>    </html>'\n",
    "soup = BeautifulSoup(t,'html.parser')\n",
    "print [x['t'].encode('utf-8') for x in soup.select('a') if re.search('ys\\w+6$',x['id'])]    #若符合條件,回傳x放入list[]"
   ]
  },
  {
   "cell_type": "markdown",
   "metadata": {},
   "source": [
    "## 燦星日本館\n",
    "- 標題\n",
    "- 網址\n",
    "- 價格\n",
    "- 變數：標題,網址,價格\n",
    "- list[變數], 再放入字典"
   ]
  },
  {
   "cell_type": "code",
   "execution_count": 20,
   "metadata": {
    "collapsed": false,
    "scrolled": true
   },
   "outputs": [
    {
     "name": "stdout",
     "output_type": "stream",
     "text": [
      "ISO-8859-1\n",
      "沖繩-高雄出發旅遊 - 高雄出發-魅力沖繩。海洋博公園、玉泉洞、琉球村、AEON MALL4天\n",
      "http://www.startravel.com.tw/StarTravel.Web.IGRP.Prod.V2/AProd.aspx?Prod_No=IGRP000016860\n",
      "24,000元起\n"
     ]
    }
   ],
   "source": [
    "import requests\n",
    "from bs4 import BeautifulSoup\n",
    "res = requests.get('http://www.startravel.com.tw/outbound/JP/index.html',verify=False)\n",
    "print res.encoding\n",
    "res.encoding = 'utf-8'  \n",
    "#print res.text\n",
    "#標題連結:Product1_GridView1_ctl13_GridView2_ctl02_HyperLink1\n",
    "#價格    :Product1_GridView1_ctl13_GridView2_ctl02_HyperLink2\n",
    "\n",
    "#一筆\n",
    "soup = BeautifulSoup(res.text, 'html.parser')\n",
    "title = soup.select('#Product1_GridView1_ctl13_GridView2_ctl02_HyperLink1')[0]['title']\n",
    "href = soup.select('#Product1_GridView1_ctl13_GridView2_ctl02_HyperLink1')[0]['href']\n",
    "price = soup.select('#Product1_GridView1_ctl13_GridView2_ctl02_HyperLink2')[0].text\n",
    "#print soup, title, href, price\n",
    "\n",
    "'''或 日本館頁面的價格區塊包含(標題,行程,連結,價格)\n",
    "tours=[]\n",
    "import re\n",
    "for t in soup.select('.priceR a'):\n",
    "    if re.search('Product1_GridView1_ctl(\\d+)_GridView2_ctl(\\d+)_HyperLink2',t['id']):\n",
    "        print t\n",
    "        print \"-----------------------------------------------------------------------------\"\n",
    "'''\n",
    "\n",
    "#list\n",
    "titles=[]\n",
    "import re\n",
    "#print soup.select('a')\n",
    "for t in soup.select('a a'):\n",
    "    if re.search('Product1_GridView1_ctl(\\d+)_GridView2_ctl(\\d+)_HyperLink1',t['id']):\n",
    "        #print type(t['title'])\n",
    "        #print type(t['title'].encode('utf-8'))\n",
    "        #print t['title'].encode('utf-8')\n",
    "        titles.append(t['title'].encode('utf-8'))\n",
    "\n",
    "        \n",
    "hrefs=[]\n",
    "import re\n",
    "for h in soup.select('a a'):\n",
    "    if re.search('Product1_GridView1_ctl(\\d+)_GridView2_ctl(\\d+)_HyperLink1',h['id']):\n",
    "        #print type(h['href'])\n",
    "        #print type(h['href'].encode('utf-8'))\n",
    "        #print h['href']\n",
    "        hrefs.append(h['href'])\n",
    "       \n",
    "     \n",
    "prices=[]\n",
    "import re\n",
    "for p in soup.select('.priceR a'):\n",
    "    if re.search('Product1_GridView1_ctl(\\d+)_GridView2_ctl(\\d+)_HyperLink2',p['id']):\n",
    "        #print p.text\n",
    "        #print type(h['href'].encode('utf-8'))\n",
    "        #print h['href']\n",
    "        prices.append(p.text)\n",
    "        \n",
    "print titles[77]\n",
    "print hrefs[40] \n",
    "print prices[77]\n",
    "\n",
    "#dates=[]\n"
   ]
  },
  {
   "cell_type": "markdown",
   "metadata": {
    "collapsed": true
   },
   "source": [
    "## 行程頁面\n",
    "- 每日行程{'tour': ({'d1': 'p1'}, {'d2': 'p2'})}\n",
    "- 每日住宿{'hotel':({'d1': 'p1'}, {'d2': 'p2'})}\n",
    "- \n",
    "- 出團日{'dates': ({'date1': 'datehref1'}, {'date2': 'href2'})}\n",
    "- 出團日異, 航班異, 出發時間異\n",
    "- \n",
    "- list[變數], 變數:每日行程,每日住宿, 出團日,航班"
   ]
  },
  {
   "cell_type": "code",
   "execution_count": 66,
   "metadata": {
    "collapsed": false
   },
   "outputs": [
    {
     "name": "stdout",
     "output_type": "stream",
     "text": [
      "{1: ['a', 'b', 'c', 'd'], 2: ['a', 'b', 'c', 'd'], 3: ['a', 'b', 'c', 'd'], 4: ['a', 'b', 'c', 'd']}\n",
      "{1: 'a', 2: 'b', 3: 'c', 4: 'd'}\n"
     ]
    }
   ],
   "source": [
    "#dic\n",
    "dic={}\n",
    "key='tour'\n",
    "day1='d1'\n",
    "place1='p1'\n",
    "day2='d2'\n",
    "place2='p2'\n",
    "#dic[key]=value,value2\n",
    "dic[key]={day1:place1},{day2:place2}\n",
    "#print dic\n",
    "\n",
    "#字典包字典\n",
    "day={}\n",
    "for i in xrange(0,9):\n",
    "    day['day'+str(i)] = 'place'+str(i)\n",
    "#print day\n",
    "tour={}\n",
    "tour[key]=day\n",
    "#print tour\n",
    "\n",
    "#dict.fromkeys(s,fixedValue])\n",
    "s=[1,2,3,4]\n",
    "v=['a','b','c','d']\n",
    "dic=dict.fromkeys(s, v)\n",
    "print str(dic)\n",
    "\n",
    "#.__setitem__(i, y):list值依序放入字典\n",
    "dict={}\n",
    "for i in xrange(0,4):\n",
    "    dict.__setitem__(s[i], v[i])\n",
    "print dict\n",
    "    \n",
    "\n",
    "date='date'\n",
    "dates1='08/05'\n",
    "dates2='08/09'\n",
    "dic[date]=dates1,dates2\n",
    "#print dic\n",
    "\n",
    "#help(dic)"
   ]
  },
  {
   "cell_type": "code",
   "execution_count": 18,
   "metadata": {
    "collapsed": false
   },
   "outputs": [
    {
     "name": "stdout",
     "output_type": "stream",
     "text": [
      "utf-8\n",
      "高雄／福岡─HOTEL CHECK IN\n"
     ]
    }
   ],
   "source": [
    "import requests\n",
    "from bs4 import BeautifulSoup\n",
    "res = requests.get('http://www.startravel.com.tw/StarTravel.Web.IGRP.Prod.V2/AProd.aspx?Prod_No=IGRP000012839',verify=False)\n",
    "#print res.text\n",
    "print res.encoding\n",
    "\n",
    "#單筆每日行程{'tour': ({'day1': 'locat1'}, {'day2': 'locat2'})}\n",
    "#行程區塊 id=\"AProdIntroMoreC1_pnlResult\" \n",
    "#每日行程內容：<h3> <span>\n",
    "#第幾日：<stong> <span> <span>\n",
    "soup = BeautifulSoup(res.text, 'html.parser')\n",
    "#day1 = soup.select('#AProdIntroMoreC1_pnlResult strong span span')[0].text\n",
    "#day1locats = soup.select('#AProdIntroMoreC1_pnlResult h3 span')[0].text\n",
    "#print day1locats\n",
    "#print type(repr(day1locats))    #<type 'str'>\n",
    "\n",
    "tour={}\n",
    "days = soup.select('#AProdIntroMoreC1_pnlResult strong span span')\n",
    "locats = soup.select('#AProdIntroMoreC1_pnlResult h3 span')\n",
    "\n",
    "for i in xrange(0,1):\n",
    "    tour[days[i].text]=locats[i].text\n",
    "print tour.values()[0]\n"
   ]
  },
  {
   "cell_type": "code",
   "execution_count": null,
   "metadata": {
    "collapsed": true
   },
   "outputs": [],
   "source": []
  },
  {
   "cell_type": "code",
   "execution_count": null,
   "metadata": {
    "collapsed": true
   },
   "outputs": [],
   "source": []
  }
 ],
 "metadata": {
  "kernelspec": {
   "display_name": "Python 2",
   "language": "python",
   "name": "python2"
  },
  "language_info": {
   "codemirror_mode": {
    "name": "ipython",
    "version": 2
   },
   "file_extension": ".py",
   "mimetype": "text/x-python",
   "name": "python",
   "nbconvert_exporter": "python",
   "pygments_lexer": "ipython2",
   "version": "2.7.11"
  }
 },
 "nbformat": 4,
 "nbformat_minor": 0
}
