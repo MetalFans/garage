{
 "cells": [
  {
   "cell_type": "code",
   "execution_count": 55,
   "metadata": {
    "collapsed": true
   },
   "outputs": [],
   "source": [
    "import re\n",
    "import requests\n",
    "import math\n",
    "import jieba\n",
    "from bs4 import BeautifulSoup as bs\n",
    "\n",
    "\n",
    "def removePunctuation(source):\n",
    "    xx = u\"([^a-z^A-Z^\\u4e00-\\u9fff]+)\"\n",
    "    s = re.sub(xx,' ',source)\n",
    "    return s\n",
    "\n",
    "res = requests.get('http://mikageyoru.pixnet.net/blog/post/448692407')\n",
    "res.encoding = 'utf-8'\n",
    "soup = bs(res.text,'html.parser')\n",
    "[x.extract() for x in soup.select('script')]\n",
    "[x.extract() for x in soup.select('a')]\n",
    "art = soup.select('.article-content-inner')\n",
    "line = [a.text for a in art if a.text!=\"\"]\n",
    "st = \"\".join(\"\".join(line).split()).replace(u'延伸閱讀','')\n",
    "s = removePunctuation(st)"
   ]
  },
  {
   "cell_type": "code",
   "execution_count": 70,
   "metadata": {
    "collapsed": false
   },
   "outputs": [],
   "source": [
    "import numpy as np\n",
    "import codecs\n",
    "import jieba\n",
    "# 負面\n",
    "negdict = []\n",
    "# 正面\n",
    "posdict = []\n",
    "# 否定\n",
    "nodict = []\n",
    "# 程度\n",
    "plusdict = []\n",
    "with codecs.open('./Workspace/sentiment/negativewords.txt', 'r', 'utf-8') as f:\n",
    "    for w in f.readlines():\n",
    "        negdict.append(w.strip())\n",
    "with codecs.open('./Workspace/sentiment/positivewords.txt', 'r', 'utf-8') as f:\n",
    "    for w in f.readlines():\n",
    "        posdict.append(w.strip())\n",
    "with codecs.open('./Workspace/sentiment/negative.txt', 'r', 'utf-8') as f:\n",
    "    for w in f.readlines():\n",
    "        nodict.append(w.strip())\n",
    "with codecs.open('./Workspace/sentiment/more.txt', 'r', 'utf-8') as f:\n",
    "    for w in f.readlines():\n",
    "        plusdict.append(w.strip())"
   ]
  },
  {
   "cell_type": "code",
   "execution_count": 71,
   "metadata": {
    "collapsed": false
   },
   "outputs": [
    {
     "name": "stderr",
     "output_type": "stream",
     "text": [
      "Building prefix dict from /Users/fan/anaconda/bin/Workspace/data/dict0610.txt ...\n",
      "DEBUG:jieba:Building prefix dict from /Users/fan/anaconda/bin/Workspace/data/dict0610.txt ...\n",
      "Loading model from cache /var/folders/ws/qq63c39d43l_20sybqcwcf900000gn/T/jieba.u242cdcfac3f46cc5b0cd775bf87c8643.cache\n",
      "DEBUG:jieba:Loading model from cache /var/folders/ws/qq63c39d43l_20sybqcwcf900000gn/T/jieba.u242cdcfac3f46cc5b0cd775bf87c8643.cache\n",
      "Loading model cost 0.714 seconds.\n",
      "DEBUG:jieba:Loading model cost 0.714 seconds.\n",
      "Prefix dict has been built succesfully.\n",
      "DEBUG:jieba:Prefix dict has been built succesfully.\n"
     ]
    }
   ],
   "source": [
    "jieba.set_dictionary('./Workspace/data/dict0610.txt')\n",
    "jieba.load_userdict(\"./Workspace/data/dictionary/all/dictionary.txt\")\n",
    "def jb(s):\n",
    "    st = '|'.join(list(jieba.cut(s)))\n",
    "    return st\n",
    "def predict(s, negdict, posdict, nodict, plusdict):\n",
    "    p = 0\n",
    "    sd = list(jieba.cut(s))\n",
    "    for i in range(len(sd)):\n",
    "        if sd[i] in negdict:\n",
    "            if i>0 and sd[i-1] in nodict:\n",
    "                p = p + 1\n",
    "            elif i>0 and sd[i-1] in plusdict:\n",
    "                p = p - 2\n",
    "            else: p = p - 1\n",
    "        elif sd[i] in posdict:\n",
    "            if i>0 and sd[i-1] in nodict:\n",
    "                p = p - 1\n",
    "            elif i>0 and sd[i-1] in plusdict:\n",
    "                p = p + 2\n",
    "            elif i>0 and sd[i-1] in negdict:\n",
    "                p = p - 1\n",
    "            elif i<len(sd)-1 and sd[i+1] in negdict:\n",
    "                p = p - 1\n",
    "            else: p = p + 1\n",
    "        #elif sd[i] in nodict:\n",
    "        #    p = p - 0.5\n",
    "    return p"
   ]
  },
  {
   "cell_type": "code",
   "execution_count": 73,
   "metadata": {
    "collapsed": false
   },
   "outputs": [
    {
     "name": "stdout",
     "output_type": "stream",
     "text": [
      "五月|上旬|連續|兩週|國外|出差|後 0\n",
      "五月|下旬|的|周末|終於|可以|好好|週休|二日|啦 0\n",
      "週末|早上|頗有|興致 0\n",
      "約|爸媽|一起|出來|吃|早午餐 0\n",
      "找|了|一個|離|娘家|不太|遠 0\n",
      "鳳山|正修|科大|附近|的|隱藏|巷弄|大|份量|早午餐 1\n",
      "路|也|食光 0\n",
      "估狗路|也|食光|地址|在|鳳山|的|八德|路 0\n",
      "但|因為|對|這|一帶|不太|熟 0\n",
      "我|跟|爸媽|都|覺得|從|鳳山|青年|路|進去|比較|好找 0\n",
      "進去|之後|附近|門牌|跳來跳去 0\n",
      "騎|機車|穿梭|在|小巷|裡好|一陣子|才|找到 0\n",
      "但|民宅|外|如此|綠意盎然|的|也不|多 0\n",
      "一|看到|就|立刻|認出|啦 0\n",
      "去|之前|聽從|朋友|建議|先|訂位 0\n",
      "但|因為|路|也|店內|用餐|空間|不算|大 -1\n",
      "位子|不多 0\n",
      "算過|共 0\n",
      "個 0\n",
      "當天|準時|到|後|店家|也是 0\n",
      "分鐘|滿位 0\n",
      "沒想到|隱藏|在|巷弄|的|路|也|這麼|有|人氣|啊 1\n",
      "本來|好奇|看到|櫃檯|上放|了一|些小|公仔|玩具 0\n",
      "店員|居然|很|親和|溫柔|告訴|我 0\n",
      "都可以|拿|去|玩|喔 0\n",
      "是|說|我|看起來|是|屁孩|就是|了|啦 0\n",
      "怒|踢|桌子 0\n",
      "誤 0\n",
      "但|對|帶|小朋友|來|卻|忘記|帶|小|玩具|出來|的|爸媽|來說|很|適合 0\n",
      "來看|一下|菜單 0\n",
      "路|也|食光|的|餐點|說|複雜|不|複雜 0\n",
      "全部都是|早午餐 0\n",
      "早午餐|有|不同|的|主餐 0\n",
      "有|法式吐司 0\n",
      "鄉村|烤蛋 0\n",
      "烘蛋|或是|烤|煎|豬肉|牛肉 0\n",
      "價格|也|從 0\n",
      "都有 0\n",
      "主餐|不附|飲料 0\n",
      "點主|餐飲|料|半價 0\n",
      "menu|上|也|列出|路|也|食光|各項|嚴選早|食材|讓|消費者|安心 1\n",
      "本來|食量|小的|我們|家|想要|三人合|吃|兩份 0\n",
      "但路|也|規定|一個人|一定要|低消|一份|早午餐 0\n",
      "所以|還是|硬著頭皮|一人|點|一樣 0\n",
      "實在|是因為|食量|太小 1\n",
      "先上|桌|的是|熱|美式黑咖啡 0\n",
      "不|附奶|不|附糖 0\n",
      "但|喝|起來|不算|太苦 0\n",
      "首|先是|老媽|的|法式|布蕾|吐司套餐 0\n",
      "上桌|時|讓人|驚呼 0\n",
      "天|啊 0\n",
      "以|法式吐司|早午餐|來說|內容|也|太|豐富|了 2\n",
      "主角|法式|布蕾|吐司|外 0\n",
      "還有|小|沙拉 0\n",
      "炒蛋 0\n",
      "德國|臘腸|和培根 0\n",
      "法式|布蕾|吐司 0\n",
      "我覺得|算|比較|台式|的|作法 0\n",
      "不過|沒加|什麼|化學|香料 0\n",
      "吐司|雖泡過|蛋液|卻|還是|保有|一點|彈性 0\n",
      "奶蛋|香氣|不錯 2\n",
      "白雪|似的|糖粉|比較|是|裝飾 0\n",
      "甜度|不會|太高 0\n",
      "不過|要是|能|附個|蜂蜜|或|楓糖|提味|就|更好|了 0\n",
      "香腸|和培根|是|紮實|的|一整|根|和|一整片 1\n",
      "煎|過後|油脂|香氣|好|迷人 3\n",
      "單吃|就|好|也不|用|在|特別|沾醬|了 1\n",
      "炒蛋|則要|特別|誇讚|一下|沒有|什麼|蛋|腥味 1\n",
      "炒到 0\n",
      "分熟|也不會|太老 0\n",
      "這時|突然|好想|來片|白吐司|把|蛋|夾進去 0\n",
      "接下來|則是|來路|也|最|推|的 0\n",
      "當天|也|很多|人點|的 0\n",
      "菠菜|起司|烘蛋|套餐 0\n",
      "這|一份|也是|大|份量 1\n",
      "紮紮實實|的|五|吋|大小 0\n",
      "附上|沙拉|和|水|煮|地瓜 0\n",
      "雖然|不是|主角 0\n",
      "但路|也|食光|的|地瓜 0\n",
      "還|真是|fxxxinggood 0\n",
      "後|味|的|甜度|很 0\n",
      "高 0\n",
      "不輸給|蜜糖|拔絲地瓜|但|沒有|焦糖|香|也沒|那麼|膩 0\n",
      "是|很|清新|爽口|的|自然|甜味 4\n",
      "好吃|到|我|爸媽|差點|泡|去問|老闆|這是|跟|哪位|小農|接洽|的|XD|主角 1\n",
      "蔬菜起司|烘蛋|套餐 0\n",
      "剛剛|吃了|炒蛋|已經|對路|也|的|蛋|留下|不錯|印象 1\n",
      "這份|上來|蛋香|更是|混合|蔬菜|和|起司|香 0\n",
      "整個|非常|誘人 2\n",
      "裡頭|的|蔬菜|塞|滿滿 1\n",
      "有|菠菜 0\n",
      "馬鈴薯|丁 0\n",
      "火腿|丁|等等 0\n",
      "沒有|你|想像|那種 0\n",
      "蔬菜|所以|不|飽足 -1\n",
      "的|刻板印象 0\n",
      "起司|比例|抓得|很好 0\n",
      "融在|裏頭|的|起司|絲|拉起|來|微微|牽絲|但|不會|太多 0\n",
      "這樣|的|起司|鹹|香替|爽口|的|蔬菜烘蛋|提味|卻|不會|太多|以至於|搶掉|其他|食材|風采 1\n",
      "比起|上|一份|法式|布蕾|吐司 0\n",
      "這|一份|蔬菜烘蛋|更得|我們|的|心 0\n",
      "最後|是|老爸|的|嫩煎雞腿排|套餐 0\n",
      "這|一份|配菜|又|稍|有|不同 0\n",
      "搭配|罐罐|沙拉|還有|麵包 0\n",
      "但|一樣|的是|份量|依舊|很|可觀|啊 0\n",
      "看到|已|飽 0\n",
      "主餐|嫩煎雞腿排|旁|的|配菜|也|跟|剛剛|的|不同 0\n",
      "變成|蔬菜|和|炸薯條 0\n",
      "這兒|薯條|炸得|有點|好吃 1\n",
      "明知|熱量|很高 0\n",
      "我|跟|老爸|老媽|三人|還是|在|三分鐘|內|完食|XD|雞腿排|先以|醬料|和|迷迭香|醃|入味|再煎 1\n",
      "肉|很|多汁|美味 3\n",
      "就是|這樣|的|份量|有底|讓人|意猶未盡 1\n",
      "但|明明|再多|也|吃不下|了|XD 0\n",
      "麵包|雖然|是|黑麥|很|健康 2\n",
      "但單|吃|有點|乾 -1\n",
      "比較|建議|搭配|炒蛋|一起|吃 0\n",
      "可以|的話|老闆娘|附個|果醬|或|奶油|嘛 0\n",
      "扭 0\n",
      "最後|是|罐罐|沙拉 0\n",
      "其實|就是|將|生菜沙拉|裝進|罐子 0\n",
      "附|沙拉醬|讓|你|倒進去|搖一搖|啦 0\n",
      "一種|小麥|搖搖|薯條|的|概念 0\n",
      "也|不得不|說路|也|食光|的|蔬菜|很|新鮮 2\n",
      "從|第一份|吃到|第三份|都有|生菜沙拉 0\n",
      "每|一份|蔬菜|都|富含|水分|很|新鮮 2\n",
      "稍|有|拉花|的|熱拿鐵 0\n",
      "這|圖案|是|金魚 0\n",
      "吧 0\n",
      "就|這樣 0\n",
      "那個|週六|早上|我|跟|爸媽|在|路|也|食|光度|過非 0\n",
      "常|飽足|的|早午餐|時光 1\n",
      "真的是|吃完|飽到|喉嚨|的|那種|飽度 0\n",
      "以|這樣|的|價位|可以|吃到|食材|如此|新鮮 1\n",
      "菜色|變化|多|以及|超大|份量|的|早午餐 0\n",
      "這|價位|真的|不算|太貴 0\n",
      "附近|吃過|的|客人|回流率|很高 0\n",
      "也|難怪|隱藏|在|巷弄|裡但|生意|無敵|好 1\n",
      "推薦|大家|這個|隱藏|巷弄|的|好吃|早午餐|給|大家|啦 2\n",
      "路|也|食光 0\n",
      "地址 0\n",
      "鳳|山區|八德|路|二段 0\n",
      "巷 0\n",
      "號|電話 0\n",
      "營業時間 0\n",
      "週四|公休 0\n",
      "臉書|粉絲團 0\n"
     ]
    }
   ],
   "source": [
    "sentences = s.split()\n",
    "for ele in sentences:\n",
    "    print jb(ele), predict(ele, negdict, posdict, nodict, plusdict)"
   ]
  },
  {
   "cell_type": "code",
   "execution_count": 308,
   "metadata": {
    "collapsed": false
   },
   "outputs": [],
   "source": [
    "# trie樹\n",
    "import time\n",
    "def trieTree(words):\n",
    "    trie = {}\n",
    "    for word in words:\n",
    "        p = trie\n",
    "        for c in word: \n",
    "            if c not in p:\n",
    "                p[c] = {}\n",
    "            p = p[c]\n",
    "        p[''] = ''\n",
    "    return trie\n",
    "def searchTree(testWord, trie):\n",
    "    temp = trie\n",
    "    for s in testWord:\n",
    "        if s not in temp:\n",
    "            break\n",
    "        temp = temp[s]          \n",
    "    else:\n",
    "        if '' in temp:\n",
    "            return True\n",
    "    return False"
   ]
  },
  {
   "cell_type": "code",
   "execution_count": 300,
   "metadata": {
    "collapsed": false
   },
   "outputs": [
    {
     "name": "stdout",
     "output_type": "stream",
     "text": [
      "310.194969177\n"
     ]
    }
   ],
   "source": [
    "start = time.time()\n",
    "testList = map(lambda x: u'咖啡%d' %x, xrange(500000))\n",
    "print (time.time()-start)*1000"
   ]
  },
  {
   "cell_type": "code",
   "execution_count": 306,
   "metadata": {
    "collapsed": false
   },
   "outputs": [
    {
     "name": "stdout",
     "output_type": "stream",
     "text": [
      "True\n",
      "10.3359222412\n"
     ]
    }
   ],
   "source": [
    "start = time.time()\n",
    "print u'咖啡335000' in testList\n",
    "print (time.time()-start)*1000"
   ]
  },
  {
   "cell_type": "code",
   "execution_count": 418,
   "metadata": {
    "collapsed": false
   },
   "outputs": [
    {
     "name": "stdout",
     "output_type": "stream",
     "text": [
      "168.760061264\n"
     ]
    }
   ],
   "source": [
    "start = time.time()\n",
    "testTree = trieTree(map(lambda x: u'咖啡%d' %x, xrange(50000)))\n",
    "print (time.time()-start)*1000"
   ]
  },
  {
   "cell_type": "code",
   "execution_count": 420,
   "metadata": {
    "collapsed": false
   },
   "outputs": [
    {
     "name": "stdout",
     "output_type": "stream",
     "text": [
      "0.0801086425781\n"
     ]
    }
   ],
   "source": [
    "start = time.time()\n",
    "searchTree(u'咖啡33500', testTree)\n",
    "print (time.time()-start)*1000"
   ]
  },
  {
   "cell_type": "code",
   "execution_count": 422,
   "metadata": {
    "collapsed": false
   },
   "outputs": [
    {
     "name": "stdout",
     "output_type": "stream",
     "text": [
      "0.127077102661\n"
     ]
    }
   ],
   "source": [
    "total = 0\n",
    "for x in xrange(100):\n",
    "    start = time.time()\n",
    "    searchTree(u'咖啡2', testTree)\n",
    "    end = time.time()\n",
    "    total = total + end - start\n",
    "print total*1000"
   ]
  },
  {
   "cell_type": "code",
   "execution_count": 414,
   "metadata": {
    "collapsed": false
   },
   "outputs": [
    {
     "name": "stdout",
     "output_type": "stream",
     "text": [
      "72.3490715027\n"
     ]
    }
   ],
   "source": [
    "start = time.time()\n",
    "testSet = set(map(lambda x: u'咖啡%d' %x, xrange(50000)))\n",
    "print (time.time()-start)*1000"
   ]
  },
  {
   "cell_type": "code",
   "execution_count": 415,
   "metadata": {
    "collapsed": false
   },
   "outputs": [
    {
     "name": "stdout",
     "output_type": "stream",
     "text": [
      "0.0698566436768\n"
     ]
    }
   ],
   "source": [
    "start = time.time()\n",
    "u'咖啡335000' in testSet\n",
    "print (time.time()-start)*1000"
   ]
  },
  {
   "cell_type": "code",
   "execution_count": 417,
   "metadata": {
    "collapsed": false
   },
   "outputs": [
    {
     "name": "stdout",
     "output_type": "stream",
     "text": [
      "0.018835067749\n"
     ]
    }
   ],
   "source": [
    "total = 0\n",
    "for x in xrange(100):\n",
    "    start = time.time()\n",
    "    u'咖啡335000' in testSet\n",
    "    end = time.time()\n",
    "    total = total + end - start\n",
    "print total*1000"
   ]
  },
  {
   "cell_type": "code",
   "execution_count": null,
   "metadata": {
    "collapsed": true
   },
   "outputs": [],
   "source": []
  },
  {
   "cell_type": "code",
   "execution_count": null,
   "metadata": {
    "collapsed": false
   },
   "outputs": [],
   "source": [
    "import gensim, logging\n",
    "logging.basicConfig(format='%(asctime)s : %(levelname)s : %(message)s', level=logging.INFO)"
   ]
  },
  {
   "cell_type": "code",
   "execution_count": null,
   "metadata": {
    "collapsed": false
   },
   "outputs": [],
   "source": []
  }
 ],
 "metadata": {
  "kernelspec": {
   "display_name": "Python 2",
   "language": "python",
   "name": "python2"
  },
  "language_info": {
   "codemirror_mode": {
    "name": "ipython",
    "version": 2
   },
   "file_extension": ".py",
   "mimetype": "text/x-python",
   "name": "python",
   "nbconvert_exporter": "python",
   "pygments_lexer": "ipython2",
   "version": "2.7.11"
  }
 },
 "nbformat": 4,
 "nbformat_minor": 0
}
