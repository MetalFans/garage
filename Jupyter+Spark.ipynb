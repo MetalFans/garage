{
 "cells": [
  {
   "cell_type": "markdown",
   "metadata": {},
   "source": [
    "## Jupyter + Spark"
   ]
  },
  {
   "cell_type": "markdown",
   "metadata": {},
   "source": [
    "先安裝anaconda\n",
    "\n",
    "$ vi ~/.bash_profile\n",
    "\n",
    "export PATH=$PATH:$HOME/bin\n",
    "\n",
    "export SPARK_HOME='/opt/cloudera/parcels/CDH-5.7.1-1.cdh5.7.1.p0.11/lib/spark'\n",
    "\n",
    "export PATH=$SPARK_HOME/bin:$PATH\n",
    "\n",
    "export PYTHONPATH=$SPARK_HOME/python\n",
    "\n",
    "source ~/.bash_profile\n",
    "\n",
    "anaconda的python設定軟連結\n",
    "\n",
    "$ jupyter notebook --generate-config 產生jupyter設定檔\n",
    "\n",
    "按照此篇設定\n",
    "\n",
    "ipython profile create default\n",
    "\n",
    "https://ipython.org/ipython-doc/1/interactive/public_server.html\n",
    "\n",
    "創建檔案 ~/.ipython/profile_default/startup/00-default-setup.py\n",
    "\n",
    "內容如下："
   ]
  },
  {
   "cell_type": "markdown",
   "metadata": {},
   "source": [
    "先安裝anaconda\n",
    "\n",
    "$ vi ~/.bash_profile\n",
    "\n",
    "export PATH=$PATH:$HOME/bin\n",
    "\n",
    "export SPARK_HOME='/opt/cloudera/parcels/CDH-5.7.1-1.cdh5.7.1.p0.11/lib/spark'\n",
    "\n",
    "export PATH=$SPARK_HOME/bin:$PATH\n",
    "\n",
    "export PYTHONPATH=$SPARK_HOME/python\n",
    "\n",
    "source ~/.bash_profile\n",
    "\n",
    "anaconda的python設定軟連結\n",
    "\n",
    "$ jupyter notebook --generate-config 產生jupyter設定檔\n",
    "\n",
    "按照此篇設定\n",
    "\n",
    "ipython profile create default\n",
    "\n",
    "https://ipython.org/ipython-doc/1/interactive/public_server.html\n",
    "\n",
    "創建檔案 ~/.ipython/profile_default/startup/00-default-setup.py\n",
    "\n",
    "內容如下："
   ]
  },
  {
   "cell_type": "code",
   "execution_count": null,
   "metadata": {
    "collapsed": true
   },
   "outputs": [],
   "source": [
    "import os\n",
    "import sys\n",
    "\n",
    "# Configure the environment\n",
    "if 'SPARK_HOME' not in os.environ:\n",
    "    os.environ['SPARK_HOME'] = '/opt/cloudera/parcels/CDH-5.7.1-1.cdh5.7.1.p0.11/lib/spark'\n",
    "    # sandbox: '/usr/lib/spark'\n",
    "\n",
    "# Create a variable for our root path\n",
    "SPARK_HOME = os.environ['SPARK_HOME']\n",
    "\n",
    "# Add the PySpark/py4j to the Python Path\n",
    "sys.path.insert(0, os.path.join(SPARK_HOME, \"python\", \"build\"))\n",
    "sys.path.insert(0, os.path.join(SPARK_HOME, \"python\"))"
   ]
  },
  {
   "cell_type": "markdown",
   "metadata": {},
   "source": [
    "$ jupyter notebook"
   ]
  },
  {
   "cell_type": "code",
   "execution_count": null,
   "metadata": {
    "collapsed": true
   },
   "outputs": [],
   "source": [
    "# 在jupyter測試setup.py有無正確載入\n",
    "print SPARK_HOME"
   ]
  },
  {
   "cell_type": "markdown",
   "metadata": {},
   "source": [
    "重新安裝py4j\n",
    "\n",
    "$ pip install py4j"
   ]
  },
  {
   "cell_type": "markdown",
   "metadata": {},
   "source": [
    "關閉safemode\n",
    "\n",
    "sudo -u hdfs hdfs dfsadmin -safemode leave"
   ]
  },
  {
   "cell_type": "code",
   "execution_count": null,
   "metadata": {
    "collapsed": true
   },
   "outputs": [],
   "source": [
    "# 測試載入pyspark\n",
    "from pyspark import  SparkContext\n",
    "sc = SparkContext( 'yarn-client', 'pyspark')"
   ]
  },
  {
   "cell_type": "code",
   "execution_count": null,
   "metadata": {
    "collapsed": true
   },
   "outputs": [],
   "source": [
    "# 測試\n",
    "def isprime(n):\n",
    "    \"\"\"\n",
    "    check if integer n is a prime\n",
    "    \"\"\"\n",
    "    # make sure n is a positive integer\n",
    "    n = abs(int(n))\n",
    "    # 0 and 1 are not primes\n",
    "    if n < 2:\n",
    "        return False\n",
    "    # 2 is the only even prime number\n",
    "    if n == 2:\n",
    "        return True\n",
    "    # all other even numbers are not primes\n",
    "    if not n & 1:\n",
    "        return False\n",
    "    # range starts with 3 and only needs to go up the square root of n\n",
    "    # for all odd numbers\n",
    "    for x in range(3, int(n**0.5)+1, 2):\n",
    "        if n % x == 0:\n",
    "            return False\n",
    "    return True\n",
    "\n",
    "# Create an RDD of numbers from 0 to 1,000,000\n",
    "nums = sc.parallelize(xrange(1000000))\n",
    "\n",
    "# Compute the number of primes in the RDD\n",
    "print nums.filter(isprime).count()"
   ]
  }
 ],
 "metadata": {
  "kernelspec": {
   "display_name": "Python 2",
   "language": "python",
   "name": "python2"
  },
  "language_info": {
   "codemirror_mode": {
    "name": "ipython",
    "version": 2
   },
   "file_extension": ".py",
   "mimetype": "text/x-python",
   "name": "python",
   "nbconvert_exporter": "python",
   "pygments_lexer": "ipython2",
   "version": "2.7.11"
  }
 },
 "nbformat": 4,
 "nbformat_minor": 0
}
