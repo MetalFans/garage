{
 "cells": [
  {
   "cell_type": "code",
   "execution_count": 1,
   "metadata": {
    "collapsed": true
   },
   "outputs": [],
   "source": [
    "import redis\n",
    "import json\n",
    "import time"
   ]
  },
  {
   "cell_type": "code",
   "execution_count": 4,
   "metadata": {
    "collapsed": false
   },
   "outputs": [],
   "source": [
    "r = redis.StrictRedis(host='localhost', port=6379, db=0)"
   ]
  },
  {
   "cell_type": "code",
   "execution_count": null,
   "metadata": {
    "collapsed": false
   },
   "outputs": [],
   "source": [
    "with open('./Workspace/result/UserWithFoodType.json', 'r') as f:\n",
    "    user = json.load(f)"
   ]
  },
  {
   "cell_type": "code",
   "execution_count": null,
   "metadata": {
    "collapsed": true
   },
   "outputs": [],
   "source": [
    "with open('./Workspace/ifoodieBlogDic20160619Update5PixnetSmallEnglish.json', 'r') as f:\n",
    "    blog = json.load(f)"
   ]
  },
  {
   "cell_type": "code",
   "execution_count": null,
   "metadata": {
    "collapsed": true
   },
   "outputs": [],
   "source": [
    "with open('./Workspace/data/ifoodieRestaurantDic20160524.json', 'r') as f:\n",
    "    restaurant = json.load(f)"
   ]
  },
  {
   "cell_type": "code",
   "execution_count": null,
   "metadata": {
    "collapsed": false
   },
   "outputs": [],
   "source": [
    "start = time.time()\n",
    "map(lambda u: r.hset('user', u, user[u]),user)\n",
    "print time.time()-start"
   ]
  },
  {
   "cell_type": "code",
   "execution_count": null,
   "metadata": {
    "collapsed": false
   },
   "outputs": [],
   "source": [
    "start = time.time()\n",
    "map(lambda b: r.hset('blog', b, blog[b]),blog)\n",
    "print time.time()-start"
   ]
  },
  {
   "cell_type": "code",
   "execution_count": null,
   "metadata": {
    "collapsed": false
   },
   "outputs": [],
   "source": [
    "start = time.time()\n",
    "map(lambda res: r.hset('restaurant', res, restaurant[res]),restaurant)\n",
    "print time.time()-start"
   ]
  },
  {
   "cell_type": "code",
   "execution_count": null,
   "metadata": {
    "collapsed": true
   },
   "outputs": [],
   "source": [
    "user = None\n",
    "blog = None\n",
    "restaurant = None"
   ]
  },
  {
   "cell_type": "code",
   "execution_count": null,
   "metadata": {
    "collapsed": false
   },
   "outputs": [],
   "source": [
    "r.flushdb()"
   ]
  },
  {
   "cell_type": "code",
   "execution_count": 10,
   "metadata": {
    "collapsed": false
   },
   "outputs": [
    {
     "name": "stdout",
     "output_type": "stream",
     "text": [
      "6.06412005424\n",
      "294634\n"
     ]
    }
   ],
   "source": [
    "start = time.time()\n",
    "user = r.hgetall('user')\n",
    "print time.time()-start\n",
    "print len(user)"
   ]
  },
  {
   "cell_type": "code",
   "execution_count": 11,
   "metadata": {
    "collapsed": false
   },
   "outputs": [
    {
     "name": "stdout",
     "output_type": "stream",
     "text": [
      "<type 'str'>\n"
     ]
    }
   ],
   "source": [
    "print type(user['54ac229cd4fdab6eca38e0ea'])"
   ]
  },
  {
   "cell_type": "code",
   "execution_count": 9,
   "metadata": {
    "collapsed": false
   },
   "outputs": [
    {
     "name": "stdout",
     "output_type": "stream",
     "text": [
      "0.405417919159\n",
      "27912\n"
     ]
    }
   ],
   "source": [
    "start = time.time()\n",
    "restaurant = r.hgetall('restaurant')\n",
    "print time.time()-start\n",
    "print len(restaurant)"
   ]
  },
  {
   "cell_type": "code",
   "execution_count": null,
   "metadata": {
    "collapsed": false
   },
   "outputs": [],
   "source": [
    "start = time.time()\n",
    "blog = r.hgetall('blog')\n",
    "print time.time()-start\n",
    "print len(blog)"
   ]
  },
  {
   "cell_type": "code",
   "execution_count": 7,
   "metadata": {
    "collapsed": false
   },
   "outputs": [
    {
     "name": "stdout",
     "output_type": "stream",
     "text": [
      "294634\n",
      "137.047357082\n"
     ]
    }
   ],
   "source": [
    "start = time.time()\n",
    "result = dict(map(lambda (x,y): (x,eval(y)), r.hscan_iter('user')))\n",
    "print len(result)\n",
    "print time.time()-start"
   ]
  },
  {
   "cell_type": "code",
   "execution_count": 3,
   "metadata": {
    "collapsed": false
   },
   "outputs": [
    {
     "name": "stdout",
     "output_type": "stream",
     "text": [
      "294634\n",
      "89.1054930687\n"
     ]
    }
   ],
   "source": [
    "from pymongo import MongoClient\n",
    "start = time.time()\n",
    "client = MongoClient('192.168.196.48', 27017)\n",
    "db = client['userdata']\n",
    "cursor = db.userinfo.find()\n",
    "mongo_result = dict(map(lambda x: (x['_id'],x), cursor))\n",
    "print len(mongo_result)\n",
    "print time.time()-start"
   ]
  },
  {
   "cell_type": "markdown",
   "metadata": {},
   "source": [
    "### Python"
   ]
  },
  {
   "cell_type": "code",
   "execution_count": null,
   "metadata": {
    "collapsed": false
   },
   "outputs": [],
   "source": [
    "start = time.time()\n",
    "print user['54ac229cd4fdab6eca38e0ea']['display_name']\n",
    "print \"共花費%f毫秒\" % ((time.time()-start)*1000)"
   ]
  },
  {
   "cell_type": "markdown",
   "metadata": {},
   "source": [
    "### Radis"
   ]
  },
  {
   "cell_type": "code",
   "execution_count": null,
   "metadata": {
    "collapsed": false
   },
   "outputs": [],
   "source": [
    "start = time.time()\n",
    "print eval(r.hget('user','54ac229cd4fdab6eca38e0ea'))['display_name']\n",
    "print \"共花費%f毫秒\" % ((time.time()-start)*1000)"
   ]
  },
  {
   "cell_type": "markdown",
   "metadata": {},
   "source": [
    "### Mongo"
   ]
  },
  {
   "cell_type": "code",
   "execution_count": null,
   "metadata": {
    "collapsed": false
   },
   "outputs": [],
   "source": [
    "from pymongo import MongoClient\n",
    "client = MongoClient('192.168.196.48', 27017)\n",
    "db = client['userdata']\n",
    "start = time.time()\n",
    "print db.userinfo.find({\"_id\":\"54ac229cd4fdab6eca38e0ea\"})[0]['display_name']\n",
    "print \"共花費%f毫秒\" % ((time.time()-start)*1000)"
   ]
  },
  {
   "cell_type": "code",
   "execution_count": 2,
   "metadata": {
    "collapsed": false
   },
   "outputs": [
    {
     "name": "stdout",
     "output_type": "stream",
     "text": [
      "共花費3690277.082920毫秒\n"
     ]
    }
   ],
   "source": [
    "from pymongo import MongoClient\n",
    "client = MongoClient('localhost', 27017)\n",
    "client2 = MongoClient('140.115.236.204', 27017)\n",
    "db = client['userdata']\n",
    "db2 = client2['user']\n",
    "collection = db.article\n",
    "collection2 = db2.article\n",
    "result = collection.find()\n",
    "start = time.time()\n",
    "for ele in result:\n",
    "    collection2.insert_one(ele)\n",
    "print \"共花費%f毫秒\" % ((time.time()-start)*1000)"
   ]
  },
  {
   "cell_type": "code",
   "execution_count": 8,
   "metadata": {
    "collapsed": false
   },
   "outputs": [
    {
     "name": "stdout",
     "output_type": "stream",
     "text": [
      "good\n",
      "good\n"
     ]
    }
   ],
   "source": [
    "class test(object):\n",
    "    def __init__(self):\n",
    "        self.abc = 'good'\n",
    "s = 'abc'\n",
    "print eval(\"test().%s\" %s)\n",
    "exec \"print test().%s\" %s"
   ]
  },
  {
   "cell_type": "code",
   "execution_count": null,
   "metadata": {
    "collapsed": false
   },
   "outputs": [],
   "source": [
    "r.hset('test', 1, {\"str\":\"abc\", \"list\":[1,2,3], \"dict\":{\"a\":1,\"b\":2,\"c\":3}})\n",
    "print r.hget('test',1)"
   ]
  },
  {
   "cell_type": "code",
   "execution_count": 43,
   "metadata": {
    "collapsed": false
   },
   "outputs": [],
   "source": []
  },
  {
   "cell_type": "code",
   "execution_count": null,
   "metadata": {
    "collapsed": false
   },
   "outputs": [],
   "source": []
  }
 ],
 "metadata": {
  "kernelspec": {
   "display_name": "Python 2",
   "language": "python",
   "name": "python2"
  },
  "language_info": {
   "codemirror_mode": {
    "name": "ipython",
    "version": 2
   },
   "file_extension": ".py",
   "mimetype": "text/x-python",
   "name": "python",
   "nbconvert_exporter": "python",
   "pygments_lexer": "ipython2",
   "version": "2.7.11"
  }
 },
 "nbformat": 4,
 "nbformat_minor": 0
}
