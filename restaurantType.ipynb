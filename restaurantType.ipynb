{
 "cells": [
  {
   "cell_type": "code",
   "execution_count": 1,
   "metadata": {
    "collapsed": true
   },
   "outputs": [],
   "source": [
    "import json"
   ]
  },
  {
   "cell_type": "code",
   "execution_count": 2,
   "metadata": {
    "collapsed": true
   },
   "outputs": [],
   "source": [
    "with open('./Workspace/result/RestaurantWithRegion.json', 'r') as f:\n",
    "    restaurant = json.load(f)"
   ]
  },
  {
   "cell_type": "code",
   "execution_count": 3,
   "metadata": {
    "collapsed": true
   },
   "outputs": [],
   "source": [
    "with open('./Workspace/data/restaurantClustering_100_cosine_smooth_v2.json', 'r') as f:\n",
    "    kmean = json.load(f)"
   ]
  },
  {
   "cell_type": "code",
   "execution_count": 4,
   "metadata": {
    "collapsed": true
   },
   "outputs": [],
   "source": [
    "typeDict = {\n",
    "    '4':u'日式料理',\n",
    "    '9':u'日式料理',\n",
    "    '25':u'日式料理',\n",
    "    '43':u'日式料理',\n",
    "    '48':u'日式料理',\n",
    "    '53':u'日式料理',\n",
    "    '64':u'日式料理',\n",
    "    '72':u'日式料理',\n",
    "    '75':u'日式料理',\n",
    "    '15':u'牛排館/鐵板燒',\n",
    "    '32':u'牛排館/鐵板燒',\n",
    "    '67':u'牛排館/鐵板燒',\n",
    "    '39':u'主題/景觀餐廳',\n",
    "    '90':u'主題/景觀餐廳',\n",
    "    '30':u'主題/景觀餐廳',\n",
    "    '14':u'台式/中式/小吃',\n",
    "    '5':u'台式/中式/小吃',\n",
    "    '24':u'台式/中式/小吃',\n",
    "    '68':u'台式/中式/小吃',\n",
    "    '69':u'台式/中式/小吃',\n",
    "    '81':u'台式/中式/小吃',\n",
    "    '85':u'台式/中式/小吃',\n",
    "    '98':u'台式/中式/小吃',\n",
    "    '10':u'台式/中式/小吃',\n",
    "    '22':u'台式/中式/小吃',\n",
    "    '29':u'台式/中式/小吃',\n",
    "    '45':u'台式/中式/小吃',\n",
    "    '47':u'台式/中式/小吃',\n",
    "    '49':u'台式/中式/小吃',\n",
    "    '52':u'台式/中式/小吃',\n",
    "    '79':u'台式/中式/小吃',\n",
    "    '82':u'台式/中式/小吃',\n",
    "    '87':u'台式/中式/小吃',\n",
    "    '93':u'台式/中式/小吃',\n",
    "    '38':u'台式/中式/小吃',\n",
    "    '20':u'台式/中式/小吃',\n",
    "    '33':u'台式/中式/小吃',\n",
    "    '50':u'台式/中式/小吃',\n",
    "    '78':u'台式/中式/小吃',\n",
    "    '99':u'台式/中式/小吃',\n",
    "    '26':u'合菜',\n",
    "    '51':u'合菜',\n",
    "    '71':u'合菜',\n",
    "    '66':u'羊肉爐/牛肉湯',\n",
    "    '56':u'羊肉爐/牛肉湯',\n",
    "    '23':u'自助餐',\n",
    "    '12':u'串燒/碳烤/居酒屋/燒烤',\n",
    "    '40':u'串燒/碳烤/居酒屋/燒烤',\n",
    "    '83':u'串燒/碳烤/居酒屋/燒烤',\n",
    "    '3':u'咖啡/輕食/下午茶',\n",
    "    '31':u'咖啡/輕食/下午茶',\n",
    "    '36':u'咖啡/輕食/下午茶',\n",
    "    '55':u'咖啡/輕食/下午茶',\n",
    "    '65':u'咖啡/輕食/下午茶',\n",
    "    '77':u'咖啡/輕食/下午茶',\n",
    "    '91':u'咖啡/輕食/下午茶',\n",
    "    '57':u'東南亞料理',\n",
    "    '92':u'東南亞料理',\n",
    "    '7':u'東南亞料理',\n",
    "    '6':u'美式餐廳/早午餐',\n",
    "    '37':u'美式餐廳/早午餐',\n",
    "    '80':u'美式餐廳/早午餐',\n",
    "    '60':u'美式餐廳/早午餐',\n",
    "    '28':u'海產/熱炒餐廳',\n",
    "    '41':u'海產/熱炒餐廳',\n",
    "    '61':u'烤雞/烤鴨',\n",
    "    '88':u'烤雞/烤鴨',\n",
    "    '21':u'素食/蔬食',\n",
    "    '73':u'素食/蔬食',\n",
    "    '89':u'酒吧/餐酒館',\n",
    "    '0':u'甜點/冰品/飲料/烘培',\n",
    "    '34':u'甜點/冰品/飲料/烘培',\n",
    "    '62':u'甜點/冰品/飲料/烘培',\n",
    "    '74':u'甜點/冰品/飲料/烘培',\n",
    "    '35':u'甜點/冰品/飲料/烘培',\n",
    "    '70':u'甜點/冰品/飲料/烘培',\n",
    "    '59':u'甜點/冰品/飲料/烘培',\n",
    "    '46':u'甜點/冰品/飲料/烘培',\n",
    "    '44':u'甜點/冰品/飲料/烘培',\n",
    "    '86':u'甜點/冰品/飲料/烘培',\n",
    "    '11':u'甜點/冰品/飲料/烘培',\n",
    "    '8':u'甜點/冰品/飲料/烘培',\n",
    "    '17':u'港式餐廳',\n",
    "    '76':u'港式餐廳',\n",
    "    '95':u'港式餐廳',\n",
    "    '1':u'義式/歐風/異國',\n",
    "    '42':u'義式/歐風/異國',\n",
    "    '54':u'義式/歐風/異國',\n",
    "    '97':u'義式/歐風/異國',\n",
    "    '19':u'義式/歐風/異國',\n",
    "    '2':u'鍋類',\n",
    "    '13':u'鍋類',\n",
    "    '16':u'鍋類',\n",
    "    '58':u'鍋類',\n",
    "    '63':u'鍋類',\n",
    "    '18':u'韓式料理',\n",
    "    '84':u'其他',\n",
    "    '94':u'其他',\n",
    "    '96':u'其他',\n",
    "    '27':u'其他'\n",
    "}"
   ]
  },
  {
   "cell_type": "code",
   "execution_count": 6,
   "metadata": {
    "collapsed": false
   },
   "outputs": [
    {
     "name": "stdout",
     "output_type": "stream",
     "text": [
      "1067\n"
     ]
    }
   ],
   "source": [
    "restaurantD = {}\n",
    "for r in restaurant:\n",
    "    container = []\n",
    "    for e in restaurant:\n",
    "        if restaurant[r]['name'] == restaurant[e]['name']:\n",
    "            container.append(e)\n",
    "    if len(container) > 1:\n",
    "        restaurantD[restaurant[r]['name']] = container\n",
    "print len(restaurantD)"
   ]
  },
  {
   "cell_type": "code",
   "execution_count": 7,
   "metadata": {
    "collapsed": true
   },
   "outputs": [],
   "source": [
    "with open('./Workspace/result/BlogWithSubject.json', 'r') as f:\n",
    "    blog = json.load(f)"
   ]
  },
  {
   "cell_type": "code",
   "execution_count": 8,
   "metadata": {
    "collapsed": false
   },
   "outputs": [],
   "source": [
    "for k in kmean:\n",
    "    temp = []\n",
    "    for ele in kmean[k]:\n",
    "        for r in restaurant:\n",
    "            res = restaurant[r]\n",
    "            if ele == res['name']:\n",
    "                if ele in restaurantD:\n",
    "                    for rid in restaurantD[ele]:\n",
    "                        restaurant[rid]['type'] = typeDict[k]\n",
    "                else:\n",
    "                    restaurant[r]['type'] = typeDict[k]\n",
    "                break\n",
    "    kmean[k] = temp"
   ]
  },
  {
   "cell_type": "code",
   "execution_count": 9,
   "metadata": {
    "collapsed": true
   },
   "outputs": [],
   "source": [
    "with open('./Workspace/result/RestaurantWithType.json', 'w') as f:\n",
    "    json.dump(restaurant, f)"
   ]
  },
  {
   "cell_type": "code",
   "execution_count": 38,
   "metadata": {
    "collapsed": false
   },
   "outputs": [
    {
     "name": "stdout",
     "output_type": "stream",
     "text": [
      "27912\n"
     ]
    }
   ],
   "source": [
    "print len(restaurant)"
   ]
  },
  {
   "cell_type": "code",
   "execution_count": 10,
   "metadata": {
    "collapsed": false
   },
   "outputs": [],
   "source": [
    "for b in blog:\n",
    "    blog[b]['restaurant_type'] = restaurant[blog[b]['restaurant_id']]['type']"
   ]
  },
  {
   "cell_type": "code",
   "execution_count": 14,
   "metadata": {
    "collapsed": false
   },
   "outputs": [],
   "source": [
    "with open('./Workspace/result/BlogWithType.json', 'w') as f:\n",
    "    json.dump(blog, f)"
   ]
  },
  {
   "cell_type": "code",
   "execution_count": null,
   "metadata": {
    "collapsed": true
   },
   "outputs": [],
   "source": []
  }
 ],
 "metadata": {
  "kernelspec": {
   "display_name": "Python 2",
   "language": "python",
   "name": "python2"
  },
  "language_info": {
   "codemirror_mode": {
    "name": "ipython",
    "version": 2
   },
   "file_extension": ".py",
   "mimetype": "text/x-python",
   "name": "python",
   "nbconvert_exporter": "python",
   "pygments_lexer": "ipython2",
   "version": "2.7.11"
  }
 },
 "nbformat": 4,
 "nbformat_minor": 0
}
