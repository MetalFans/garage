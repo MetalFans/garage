{
 "cells": [
  {
   "cell_type": "code",
   "execution_count": 2,
   "metadata": {
    "collapsed": false
   },
   "outputs": [
    {
     "data": {
      "text/plain": [
       "<pymongo.results.InsertOneResult at 0x10655faf0>"
      ]
     },
     "execution_count": 2,
     "metadata": {},
     "output_type": "execute_result"
    }
   ],
   "source": [
    "from pymongo import MongoClient\n",
    "import json\n",
    "import time\n",
    "start = time.time()\n",
    "connection = MongoClient(\"localhost\", 27017)\n",
    "db = connection['ab101group4']\n",
    "res = db.restaurantCategory\n",
    "\n",
    "connection2 = MongoClient(\"ds145415.mlab.com\", 45415)\n",
    "db2 = connection2['ab101group4']\n",
    "db2.authenticate(\"user\", \"1234\")\n",
    "res2 = db2.restaurantCategory\n",
    "\n",
    "res2.insert_one(res.find()[0])"
   ]
  },
  {
   "cell_type": "code",
   "execution_count": 3,
   "metadata": {
    "collapsed": false
   },
   "outputs": [
    {
     "data": {
      "text/plain": [
       "<pymongo.results.InsertManyResult at 0x10655fc30>"
      ]
     },
     "execution_count": 3,
     "metadata": {},
     "output_type": "execute_result"
    }
   ],
   "source": [
    "connection = MongoClient(\"localhost\", 27017)\n",
    "db = connection['userdata']\n",
    "u = db.users20160718\n",
    "\n",
    "connection2 = MongoClient(\"ds145415.mlab.com\", 45415)\n",
    "db2 = connection2['ab101group4']\n",
    "db2.authenticate(\"user\", \"1234\")\n",
    "res2 = db2.users20160718\n",
    "\n",
    "res2.insert_many(u.find({\"post_cnt\":{\"$gt\":0}}))"
   ]
  },
  {
   "cell_type": "code",
   "execution_count": 4,
   "metadata": {
    "collapsed": false
   },
   "outputs": [
    {
     "data": {
      "text/plain": [
       "256"
      ]
     },
     "execution_count": 4,
     "metadata": {},
     "output_type": "execute_result"
    }
   ],
   "source": [
    "import os\n",
    "os.system('ssh -i /Users/fan/Downloads/ab101group4.pem.txt ec2-user@52.35.220.188  \"cd ab101GroupProject ; python manage.py runserver 0.0.0.0:9000\"')"
   ]
  }
 ],
 "metadata": {
  "kernelspec": {
   "display_name": "Python 2",
   "language": "python",
   "name": "python2"
  },
  "language_info": {
   "codemirror_mode": {
    "name": "ipython",
    "version": 2
   },
   "file_extension": ".py",
   "mimetype": "text/x-python",
   "name": "python",
   "nbconvert_exporter": "python",
   "pygments_lexer": "ipython2",
   "version": "2.7.11"
  }
 },
 "nbformat": 4,
 "nbformat_minor": 0
}
