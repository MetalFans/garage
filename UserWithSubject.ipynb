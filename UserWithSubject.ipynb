{
 "cells": [
  {
   "cell_type": "code",
   "execution_count": 1,
   "metadata": {
    "collapsed": true
   },
   "outputs": [],
   "source": [
    "import json\n",
    "import copy"
   ]
  },
  {
   "cell_type": "code",
   "execution_count": 2,
   "metadata": {
    "collapsed": true
   },
   "outputs": [],
   "source": [
    "with open('./Workspace/result/UserWithZscoreV2.json', 'r') as f:\n",
    "    user = json.load(f)"
   ]
  },
  {
   "cell_type": "code",
   "execution_count": 3,
   "metadata": {
    "collapsed": true
   },
   "outputs": [],
   "source": [
    "with open('./Workspace/result/BlogWithSubjectAndName.json', 'r') as f:\n",
    "    blog = json.load(f)"
   ]
  },
  {
   "cell_type": "code",
   "execution_count": 4,
   "metadata": {
    "collapsed": false
   },
   "outputs": [
    {
     "name": "stdout",
     "output_type": "stream",
     "text": [
      "[[u'\\u7121\\u83dc\\u55ae\\u6599\\u7406', u'\\u5f37\\u70c8', u\"Roy's Food Lab\", u'\\u5317\\u90e8'], [u'\\u4e00\\u591c\\u5e72', u'\\u5f88\\u6f02\\u4eae', u\"Roy's Food Lab\", u'\\u5317\\u90e8'], [u'\\u9eb5\\u5305', u'\\u53b2\\u5bb3', u\"Roy's Food Lab\", u'\\u5317\\u90e8'], [u'\\u7121\\u82b1\\u679c', u'\\u559c\\u6b61', u\"Roy's Food Lab\", u'\\u5317\\u90e8'], [u'\\u9eb5\\u5305', u'\\u5f88\\u642d', u\"Roy's Food Lab\", u'\\u5317\\u90e8'], [u'\\u70e4\\u9eb5\\u5305', u'\\u4e0d\\u932f', u\"Roy's Food Lab\", u'\\u5317\\u90e8'], [u'\\u7121\\u82b1\\u679c', u'\\u9a5a\\u547c', u\"Roy's Food Lab\", u'\\u5317\\u90e8'], [u'\\u8702\\u871c', u'\\u81ea\\u88fd', u\"Roy's Food Lab\", u'\\u5317\\u90e8'], [u'\\u70e4\\u9eb5\\u5305', u'\\u65b9\\u4fbf', u\"Roy's Food Lab\", u'\\u5317\\u90e8'], [u'\\u7121\\u82b1\\u679c', u'\\u9a5a\\u8277', u\"Roy's Food Lab\", u'\\u5317\\u90e8'], [u'\\u900f\\u62bd', u'\\u67d4\\u8edf', u\"Roy's Food Lab\", u'\\u5317\\u90e8'], [u'\\u916a\\u68a8', u'\\u9a5a\\u559c', u\"Roy's Food Lab\", u'\\u5317\\u90e8'], [u'\\u7f8e\\u4e43\\u6ecb', u'\\u597d\\u5403', u\"Roy's Food Lab\", u'\\u5317\\u90e8'], [u'\\u849c\\u82d7', u'\\u9165\\u8106', u\"Roy's Food Lab\", u'\\u5317\\u90e8'], [u'\\u57f9\\u6839', u'\\u9999\\u8106', u\"Roy's Food Lab\", u'\\u5317\\u90e8'], [u'\\u71c9\\u98ef', u'\\u597d\\u5403', u\"Roy's Food Lab\", u'\\u5317\\u90e8'], [u'\\u8766\\u91ac', u'\\u81ea\\u88fd', u\"Roy's Food Lab\", u'\\u5317\\u90e8'], [u'\\u7d10\\u897f\\u862d\\u5c0f\\u7f8a\\u6392', u'\\u918d\\u9190', u\"Roy's Food Lab\", u'\\u5317\\u90e8'], [u'\\u5976\\u916a', u'\\u6e05\\u723d', u\"Roy's Food Lab\", u'\\u5317\\u90e8'], [u'\\u751c\\u9ede', u'\\u4e0d\\u932f', u\"Roy's Food Lab\", u'\\u5317\\u90e8']]\n"
     ]
    }
   ],
   "source": [
    "print blog['572762ccd2fc6b3927a068f7']['positiveSubject']"
   ]
  },
  {
   "cell_type": "code",
   "execution_count": 5,
   "metadata": {
    "collapsed": false
   },
   "outputs": [],
   "source": [
    "for b in blog:\n",
    "    author = user[blog[b]['author_id']]\n",
    "    if not author.get('food_type'):\n",
    "        author['food_type'] = {}\n",
    "        res_type = blog[b]['restaurant_type']\n",
    "        author['food_type'][res_type] = (blog[b]['positiveSubject'], blog[b]['negativeSubject'])\n",
    "    else:\n",
    "        res_type = blog[b]['restaurant_type']\n",
    "        if res_type not in author.get('food_type'):\n",
    "            author['food_type'][res_type] = (blog[b]['positiveSubject'], blog[b]['negativeSubject'])\n",
    "        else:\n",
    "            author['food_type'][res_type][0].extend(blog[b]['positiveSubject'])\n",
    "            author['food_type'][res_type][1].extend(blog[b]['negativeSubject'])"
   ]
  },
  {
   "cell_type": "code",
   "execution_count": 6,
   "metadata": {
    "collapsed": false
   },
   "outputs": [],
   "source": [
    "for u in user:\n",
    "    food = user[u].get('food_type')\n",
    "    if food:\n",
    "        for ele in food:\n",
    "            container = []\n",
    "            for i in xrange(2):\n",
    "                temp = []\n",
    "                for x in food[ele][i]:\n",
    "                    subject = (x[0],x[2],x[3])\n",
    "                    if subject not in temp:\n",
    "                        temp.append(subject)\n",
    "                container.append(copy.deepcopy(temp))\n",
    "            food[ele] = copy.deepcopy(container)"
   ]
  },
  {
   "cell_type": "code",
   "execution_count": 7,
   "metadata": {
    "collapsed": false
   },
   "outputs": [
    {
     "name": "stdout",
     "output_type": "stream",
     "text": [
      "牛排館/鐵板燒 牛排 欣欣牛排&老家餡餅 北部\n",
      "牛排館/鐵板燒 玉米濃湯 欣欣牛排&老家餡餅 北部\n",
      "鍋類 麻辣鍋 梁記麻辣火鍋專賣店 北部\n",
      "鍋類 鴨血 梁記麻辣火鍋專賣店 北部\n",
      "鍋類 老油條 梁記麻辣火鍋專賣店 北部\n",
      "鍋類 油條 梁記麻辣火鍋專賣店 北部\n",
      "鍋類 豬五花 梁記麻辣火鍋專賣店 北部\n",
      "鍋類 湯頭 梁記麻辣火鍋專賣店 北部\n",
      "鍋類 白飯 梁記麻辣火鍋專賣店 北部\n"
     ]
    }
   ],
   "source": [
    "test = user['5732d5d1699b6e18f5a7c9ae']['food_type']\n",
    "for ele in test:\n",
    "    for i in xrange(2):\n",
    "        for x in test[ele][i]:\n",
    "            print ele,x[0],x[1],x[2]"
   ]
  },
  {
   "cell_type": "code",
   "execution_count": 8,
   "metadata": {
    "collapsed": true
   },
   "outputs": [],
   "source": [
    "with open('./Workspace/result/UserWithFoodTypeV2.json', 'w') as f:\n",
    "    json.dump(user,f)"
   ]
  }
 ],
 "metadata": {
  "kernelspec": {
   "display_name": "Python 2",
   "language": "python",
   "name": "python2"
  },
  "language_info": {
   "codemirror_mode": {
    "name": "ipython",
    "version": 2
   },
   "file_extension": ".py",
   "mimetype": "text/x-python",
   "name": "python",
   "nbconvert_exporter": "python",
   "pygments_lexer": "ipython2",
   "version": "2.7.11"
  }
 },
 "nbformat": 4,
 "nbformat_minor": 0
}
