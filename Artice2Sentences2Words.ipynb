{
 "cells": [
  {
   "cell_type": "code",
   "execution_count": 1,
   "metadata": {
    "collapsed": false
   },
   "outputs": [],
   "source": [
    "import json\n",
    "import jieba\n",
    "import os\n",
    "import re\n",
    "import codecs\n",
    "import binascii\n",
    "import time"
   ]
  },
  {
   "cell_type": "code",
   "execution_count": 2,
   "metadata": {
    "collapsed": false
   },
   "outputs": [
    {
     "name": "stderr",
     "output_type": "stream",
     "text": [
      "Building prefix dict from /Users/fan/anaconda/bin/Workspace/sentiment/0616/big/jieba356726.txt ...\n",
      "DEBUG:jieba:Building prefix dict from /Users/fan/anaconda/bin/Workspace/sentiment/0616/big/jieba356726.txt ...\n",
      "Loading model from cache /var/folders/ws/qq63c39d43l_20sybqcwcf900000gn/T/jieba.u60b07a305259704c4cd827282b04b44e.cache\n",
      "DEBUG:jieba:Loading model from cache /var/folders/ws/qq63c39d43l_20sybqcwcf900000gn/T/jieba.u60b07a305259704c4cd827282b04b44e.cache\n",
      "Loading model cost 0.398 seconds.\n",
      "DEBUG:jieba:Loading model cost 0.398 seconds.\n",
      "Prefix dict has been built succesfully.\n",
      "DEBUG:jieba:Prefix dict has been built succesfully.\n"
     ]
    }
   ],
   "source": [
    "jieba.set_dictionary('./Workspace/sentiment/0616/big/jieba356726.txt')\n",
    "jieba.load_userdict('./Workspace/sentiment/0616/big/cute.txt')\n",
    "jieba.load_userdict('./Workspace/sentiment/0616/big/jieba356726.txt')\n",
    "jieba.load_userdict('./Workspace/sentiment/0616/food/fooddict2027.txt')\n",
    "jieba.load_userdict('./Workspace/sentiment/0616/menu/menu50806_new.txt')\n",
    "jieba.load_userdict('./Workspace/sentiment/0616/sentiment/negativewords.txt')\n",
    "jieba.load_userdict('./Workspace/sentiment/0616/sentiment/positivewords.txt')\n",
    "jieba.load_userdict('./Workspace/sentiment/0616/sentiment/negative.txt')\n",
    "jieba.load_userdict('./Workspace/sentiment/0616/sentiment/more.txt')\n",
    "jieba.load_userdict('./Workspace/sentiment/0616/sentiment/question.txt')\n",
    "jieba.load_userdict('./Workspace/sentiment/0616/stop/stopword2292.txt')\n",
    "jieba.enable_parallel(6)"
   ]
  },
  {
   "cell_type": "code",
   "execution_count": 3,
   "metadata": {
    "collapsed": true
   },
   "outputs": [],
   "source": [
    "def deleteBadWords(StrIn):\n",
    "    Str_BadWords = u'延伸閱讀|連絡方式|電話預約|電話|營業時間|週一|週二|週三|週四|週五|週六|週日|周一|周二|周三|周四|周五|周六|\\\n",
    "                    |周日|假日|公休|平日|地址|粉絲團|星期|禮拜|時間限制|您或許對這些文章有興趣|造訪日期|全年無休|最後點餐|營業|AM|PM|上一篇|下一篇|\\\n",
    "                    |分享此文|您可能喜歡的文章|懶人包|臉書|Facebook|facebook|FB|fb|全世界便宜住宿看這兒|下載愛食記App隨時觀看|按個讚啦|喜歡我的分享嗎|\\\n",
    "                    |瘋台灣民宿網|官方網站|瀏覽人次|最新消息|餐廳名稱|消費時間|無圖文版|網誌|Postedonby|新鮮關注回聲|Christabelle的藝想世界部落格由製作|\\\n",
    "                    |也許對這些文章也有興趣|發表迴響|電子郵件|必要欄位標記|電子郵件|個人網站|輸入圖片顯示文字好證明你不是機器人|站內搜尋分類|最新動態|\\\n",
    "                    |並不會被公開|你的位址 |迴響名稱|用餐日期|留言|載入中|文章文章|粉絲頁|發表|每人平均價位|按個讚|推薦你閱讀|Instagram|instagram|\\\n",
    "                    |美食地圖|版權所有|網友回應|歡迎加入|標籤|著作權聲明|非經授權|不得轉載'\n",
    "    strClean = re.sub(Str_BadWords,'',StrIn)\n",
    "    return strClean\n",
    "\n",
    "def EnglishFullToHalf(StrIn):\n",
    "    def transform(ele):\n",
    "        alphabetInt = int(repr(ele.group('number'))[4:8],16)\n",
    "        transAlphabeInt = alphabetInt - 65248\n",
    "        return binascii.a2b_hex(hex(transAlphabeInt)[2:4])\n",
    "    pattern = re.sub(u'(?P<number>[\\uff21-\\uff3a\\uff41-\\uff5a])', transform, StrIn)\n",
    "    return pattern\n",
    "\n",
    "def setBreakPoint(StrIn):\n",
    "    pattern = u'[,，.。~～!！?？；]+'\n",
    "    result = re.sub(pattern, ' ', StrIn)\n",
    "    return result\n",
    "\n",
    "def retain_English_Chinese_Arabic_numerals(StrIn):\n",
    "    Str_English_Chinese = u'([^ 0-9a-zA-Zａ-ｚＡ-Ｚ\\u4E00-\\u9FCC]+)'\n",
    "    #Str_English_Chinese = u'([^a-z^A-Z^ａ-ｚ^Ａ-Ｚ^^0-9^０-９^\\u3105-\\u3129^\\u4E00-\\u9FCC]+)'\n",
    "    #\\u3105-\\u3129為所有注音符號 \n",
    "    #\\u4E00-\\u9FCC為所有中文\n",
    "    strClean = re.sub(Str_English_Chinese,'',StrIn)\n",
    "    return strClean\n",
    "\n",
    "def removeSentimentInAds(StrIn):\n",
    "    pattern = u'.*(喜歡|推薦|喜愛).{0,6}(文章|本文|介紹)'\n",
    "    def sub(match):\n",
    "        string = match.group(0)\n",
    "        type1 = match.group(1) if match.group(1) else ''\n",
    "        r = string.replace(type1,'')\n",
    "        return r\n",
    "    result = re.sub(pattern, sub, StrIn)\n",
    "    return result"
   ]
  },
  {
   "cell_type": "markdown",
   "metadata": {},
   "source": [
    "## 讀資料、切詞"
   ]
  },
  {
   "cell_type": "code",
   "execution_count": 2,
   "metadata": {
    "collapsed": false
   },
   "outputs": [
    {
     "name": "stdout",
     "output_type": "stream",
     "text": [
      "72838\n"
     ]
    }
   ],
   "source": [
    "with open('./Workspace/ifoodieBlogDic20160619Update5PixnetSmallEnglish.json', 'r') as f:\n",
    "    ifoodie = json.load(f)\n",
    "print len(ifoodie)"
   ]
  },
  {
   "cell_type": "code",
   "execution_count": 3,
   "metadata": {
    "collapsed": false
   },
   "outputs": [
    {
     "name": "stdout",
     "output_type": "stream",
     "text": [
      "62253\n"
     ]
    }
   ],
   "source": [
    "mobile01 = []\n",
    "for filename in os.listdir('./Workspace/data/mobile01'):\n",
    "    if 'article' in filename:\n",
    "        with codecs.open('./Workspace/data/mobile01/%s' %filename, 'r', 'utf-8') as f:\n",
    "            for article in f.readlines():\n",
    "                mobile01.append(article.lower())\n",
    "print len(mobile01)"
   ]
  },
  {
   "cell_type": "code",
   "execution_count": 4,
   "metadata": {
    "collapsed": false
   },
   "outputs": [
    {
     "name": "stdout",
     "output_type": "stream",
     "text": [
      "61601\n"
     ]
    }
   ],
   "source": [
    "openrice = []\n",
    "path = '/Users/fan/Downloads/openriceBlog-1/'\n",
    "for fname in os.listdir(path):\n",
    "    if 'openrice' in fname:\n",
    "        with codecs.open(path+fname, 'r', 'utf-8') as f:\n",
    "            for item in f.readlines():\n",
    "                openrice.append(item.strip().lower())\n",
    "print len(openrice)"
   ]
  },
  {
   "cell_type": "code",
   "execution_count": 7,
   "metadata": {
    "collapsed": false
   },
   "outputs": [
    {
     "name": "stdout",
     "output_type": "stream",
     "text": [
      "196692\n"
     ]
    }
   ],
   "source": [
    "articleMerged = [ele['article'] for ele in ifoodie.values()]\n",
    "articleMerged.extend(mobile01)\n",
    "articleMerged.extend(openrice)\n",
    "print len(articleMerged)"
   ]
  },
  {
   "cell_type": "code",
   "execution_count": null,
   "metadata": {
    "collapsed": true
   },
   "outputs": [],
   "source": [
    "with open('./Workspace/data/article_full.txt', 'a') as f:\n",
    "    for art in articleMerged:\n",
    "        art = EnglishFullToHalf(art)\n",
    "        art = setBreakPoint(art)\n",
    "        art = art.lower()\n",
    "        art = art.split()\n",
    "        for s in art:\n",
    "            f.write(s.encode('utf-8')+'\\n')"
   ]
  },
  {
   "cell_type": "code",
   "execution_count": null,
   "metadata": {
    "collapsed": false
   },
   "outputs": [],
   "source": [
    "with open('./Workspace/data/article_for_mongo.txt', 'a') as f:\n",
    "    for art in articleMerged:\n",
    "        f.write(art.encode('utf-8')+'\\n')"
   ]
  },
  {
   "cell_type": "code",
   "execution_count": null,
   "metadata": {
    "collapsed": true
   },
   "outputs": [],
   "source": [
    "import json\n",
    "from pymongo import MongoClient\n",
    "client = MongoClient('192.168.196.48', 27017)\n",
    "db = client['userdata']\n",
    "with open('./Workspace/data/article_for_mongo.txt', 'r') as f:\n",
    "    map(lambda s: db.article.insert_one({\"article\":s.strip()}),f.readlines())"
   ]
  },
  {
   "cell_type": "code",
   "execution_count": 8,
   "metadata": {
    "collapsed": false
   },
   "outputs": [
    {
     "name": "stdout",
     "output_type": "stream",
     "text": [
      "運行時間：2772.002258秒\n"
     ]
    }
   ],
   "source": [
    "start = time.time()\n",
    "with open('./Workspace/data/jieba_cut_by_sentence_big_v2.txt', 'a') as f:\n",
    "    for a in articleMerged:\n",
    "        a = EnglishFullToHalf(a)\n",
    "        a = setBreakPoint(a)\n",
    "        a = a.split()\n",
    "        for s in a:\n",
    "            sentence = ' '.join(list(jieba.cut(s)))\n",
    "            f.write(sentence.encode('utf-8') + '\\n')\n",
    "print u\"運行時間：%f秒\" %(time.time()-start)"
   ]
  },
  {
   "cell_type": "markdown",
   "metadata": {},
   "source": [
    "## 切詞&丟回blog"
   ]
  },
  {
   "cell_type": "code",
   "execution_count": null,
   "metadata": {
    "collapsed": false
   },
   "outputs": [],
   "source": [
    "stopwords = []\n",
    "with codecs.open('./Workspace/sentiment/0616/stop/stopword2292.txt', 'r', 'utf-8') as f:\n",
    "    for w in f.readlines():\n",
    "        stopwords.append(w.split()[0])\n",
    "print len(stopwords)"
   ]
  },
  {
   "cell_type": "code",
   "execution_count": null,
   "metadata": {
    "collapsed": false
   },
   "outputs": [],
   "source": [
    "sentiment = []\n",
    "with codecs.open('./expand/negativeWordMerge.txt', 'r', 'utf-8') as f:\n",
    "    for w in f.readlines():\n",
    "        sentiment.append(w.split()[0])\n",
    "with codecs.open('./expand/positiveWordMerge.txt', 'r', 'utf-8') as f:\n",
    "    for w in f.readlines():\n",
    "        sentiment.append(w.split()[0])\n",
    "with codecs.open('./expand/inverseWordMerge.txt', 'r', 'utf-8') as f:\n",
    "    for w in f.readlines():\n",
    "        sentiment.append(w.split()[0])\n",
    "with codecs.open('./expand/degreeWordMerge.txt', 'r', 'utf-8') as f:\n",
    "    for w in f.readlines():\n",
    "        sentiment.append(w.split()[0])"
   ]
  },
  {
   "cell_type": "code",
   "execution_count": null,
   "metadata": {
    "collapsed": false
   },
   "outputs": [],
   "source": [
    "final = []\n",
    "for w in stopwords:\n",
    "    if w not in sentiment:\n",
    "        final.append(w)\n",
    "print len(final)"
   ]
  },
  {
   "cell_type": "code",
   "execution_count": null,
   "metadata": {
    "collapsed": false
   },
   "outputs": [],
   "source": [
    "print '|'.join(final)"
   ]
  },
  {
   "cell_type": "code",
   "execution_count": null,
   "metadata": {
    "collapsed": false
   },
   "outputs": [],
   "source": [
    "for ele in ifoodie:\n",
    "    art = deleteBadWords(ifoodie[ele]['article'])\n",
    "    art = EnglishFullToHalf(art)\n",
    "    art = setBreakPoint(art).split()\n",
    "    art_cut = [list(jieba.cut(sentence)) for sentence in art]\n",
    "    article = []\n",
    "    for s_cut in art_cut:\n",
    "        temp = retain_English_Chinese_Arabic_numerals(' '.join(s_cut))\n",
    "        s_result = [w for w in temp.split() if w not in final]\n",
    "        article.append(s_result)\n",
    "    ifoodie[ele]['article'] = article\n",
    "with open('./Workspace/data/blog_perfect_cut.json', 'w') as f:\n",
    "    json.dump(ifoodie, f)"
   ]
  },
  {
   "cell_type": "code",
   "execution_count": null,
   "metadata": {
    "collapsed": true
   },
   "outputs": [],
   "source": []
  },
  {
   "cell_type": "code",
   "execution_count": null,
   "metadata": {
    "collapsed": false
   },
   "outputs": [],
   "source": []
  },
  {
   "cell_type": "code",
   "execution_count": null,
   "metadata": {
    "collapsed": false
   },
   "outputs": [],
   "source": []
  }
 ],
 "metadata": {
  "kernelspec": {
   "display_name": "Python 2",
   "language": "python",
   "name": "python2"
  },
  "language_info": {
   "codemirror_mode": {
    "name": "ipython",
    "version": 2
   },
   "file_extension": ".py",
   "mimetype": "text/x-python",
   "name": "python",
   "nbconvert_exporter": "python",
   "pygments_lexer": "ipython2",
   "version": "2.7.11"
  }
 },
 "nbformat": 4,
 "nbformat_minor": 0
}
