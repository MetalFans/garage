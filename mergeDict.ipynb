{
 "cells": [
  {
   "cell_type": "code",
   "execution_count": 4,
   "metadata": {
    "collapsed": true
   },
   "outputs": [],
   "source": [
    "import os\n",
    "import codecs\n",
    "import re\n",
    "temp = []\n",
    "for fname in os.listdir('./Workspace/data/dictionary'):\n",
    "    if 'txt' in fname:\n",
    "        with codecs.open('./Workspace/data/dictionary/%s' %fname, 'r', 'utf-8') as f:\n",
    "            for t in f.readlines():\n",
    "                if t.strip('\\n') not in temp and not re.search('\\w', t) and u'的' not in t:\n",
    "                    temp.append(t.strip('\\n'))\n",
    "with open('./Workspace/data/dictionary/all/dictionary.txt', 'w') as f:\n",
    "    for x in temp:\n",
    "        f.write(x.encode('utf-8')+'\\n')"
   ]
  },
  {
   "cell_type": "code",
   "execution_count": 2,
   "metadata": {
    "collapsed": false
   },
   "outputs": [
    {
     "name": "stdout",
     "output_type": "stream",
     "text": [
      "1961\n"
     ]
    }
   ],
   "source": [
    "food = []\n",
    "with codecs.open('./Workspace/data/food.txt', 'r', 'utf-8') as f:\n",
    "    for x in f.readlines():\n",
    "        food.append(x.strip())\n",
    "print len(food)"
   ]
  },
  {
   "cell_type": "code",
   "execution_count": 3,
   "metadata": {
    "collapsed": false
   },
   "outputs": [],
   "source": [
    "foodext = []\n",
    "with codecs.open('./Workspace/data/foodext.txt', 'r', 'utf-8') as f:\n",
    "    for x in f.readlines():\n",
    "        foodext.append(x.strip())"
   ]
  },
  {
   "cell_type": "code",
   "execution_count": 78,
   "metadata": {
    "collapsed": false
   },
   "outputs": [
    {
     "name": "stdout",
     "output_type": "stream",
     "text": [
      "2051\n"
     ]
    }
   ],
   "source": [
    "for ele in foodext:\n",
    "    for s in ' '.join(ele.split(',')).strip('r').split():\n",
    "        food.append(s)\n",
    "food = list(set(food))\n",
    "print len(food)\n",
    "with codecs.open('./Workspace/data/fooddict.txt', 'w', 'utf-8') as f:\n",
    "    for fd in food:\n",
    "        if fd and '?' not in fd:\n",
    "            f.write(fd+'\\n')"
   ]
  },
  {
   "cell_type": "code",
   "execution_count": 1,
   "metadata": {
    "collapsed": false
   },
   "outputs": [
    {
     "name": "stdout",
     "output_type": "stream",
     "text": [
      "91\n",
      "482\n",
      "53\n",
      "36\n"
     ]
    }
   ],
   "source": [
    "import numpy as np\n",
    "import codecs\n",
    "import jieba\n",
    "import jieba.posseg as pseg\n",
    "import re\n",
    "import operator\n",
    "# 負面\n",
    "negdict = []\n",
    "# 正面\n",
    "posdict = []\n",
    "# 否定\n",
    "nodict = []\n",
    "# 程度\n",
    "plusdict = []\n",
    "# 不肯定\n",
    "question = []\n",
    "with codecs.open('./Workspace/sentiment/0616/sentiment/negativewords.txt', 'r', 'utf-8') as f:\n",
    "    for w in f.readlines():\n",
    "        negdict.append(w.split()[0])\n",
    "with codecs.open('./Workspace/sentiment/0616/sentiment/positivewords.txt', 'r', 'utf-8') as f:\n",
    "    for w in f.readlines():\n",
    "        posdict.append(w.split()[0])\n",
    "with codecs.open('./Workspace/sentiment/0616/sentiment/negative.txt', 'r', 'utf-8') as f:\n",
    "    for w in f.readlines():\n",
    "        nodict.append(w.split()[0])\n",
    "with codecs.open('./Workspace/sentiment/0616/sentiment/more.txt', 'r', 'utf-8') as f:\n",
    "    for w in f.readlines():\n",
    "        plusdict.append(w.split()[0])\n",
    "with codecs.open('./Workspace/sentiment/0616/sentiment/question.txt', 'r', 'utf-8') as f:\n",
    "    for w in f.readlines():\n",
    "        question.append(w.split()[0])\n",
    "print len(negdict)\n",
    "print len(posdict)\n",
    "print len(nodict)\n",
    "print len(plusdict)"
   ]
  },
  {
   "cell_type": "code",
   "execution_count": 2,
   "metadata": {
    "collapsed": false
   },
   "outputs": [
    {
     "name": "stdout",
     "output_type": "stream",
     "text": [
      "323\n",
      "1430\n",
      "101\n",
      "99\n"
     ]
    }
   ],
   "source": [
    "with codecs.open('./expand/negativeWord.txt', 'r', 'utf-8') as f:\n",
    "    for w in f.readlines():\n",
    "        negdict.append(w.split()[0])\n",
    "with codecs.open('./expand/positiveWord.txt', 'r', 'utf-8') as f:\n",
    "    for w in f.readlines():\n",
    "        posdict.append(w.split()[0])\n",
    "with codecs.open('./expand/inverseWord.txt', 'r', 'utf-8') as f:\n",
    "    for w in f.readlines():\n",
    "        nodict.append(w.split()[0])\n",
    "with codecs.open('./expand/degreeWord.txt', 'r', 'utf-8') as f:\n",
    "    for w in f.readlines():\n",
    "        plusdict.append(w.split()[0])\n",
    "negdict = list(set(negdict))\n",
    "posdict = list(set(posdict))\n",
    "nodict = list(set(nodict))\n",
    "plusdict = list(set(plusdict))\n",
    "print len(negdict)\n",
    "print len(posdict)\n",
    "print len(nodict)\n",
    "print len(plusdict)\n",
    "with codecs.open('./expand/negativeWordMerge.txt', 'w', 'utf-8') as f:\n",
    "    for w in negdict:\n",
    "        f.write(w+'\\n')\n",
    "with codecs.open('./expand/positiveWordMerge.txt', 'w', 'utf-8') as f:\n",
    "    for w in posdict:\n",
    "        f.write(w+'\\n')\n",
    "with codecs.open('./expand/inverseWordMerge.txt', 'w', 'utf-8') as f:\n",
    "    for w in nodict:\n",
    "        f.write(w+'\\n')\n",
    "with codecs.open('./expand/degreeWordMerge.txt', 'w', 'utf-8') as f:\n",
    "    for w in plusdict:\n",
    "        f.write(w+'\\n')"
   ]
  }
 ],
 "metadata": {
  "kernelspec": {
   "display_name": "Python 2",
   "language": "python",
   "name": "python2"
  },
  "language_info": {
   "codemirror_mode": {
    "name": "ipython",
    "version": 2
   },
   "file_extension": ".py",
   "mimetype": "text/x-python",
   "name": "python",
   "nbconvert_exporter": "python",
   "pygments_lexer": "ipython2",
   "version": "2.7.11"
  }
 },
 "nbformat": 4,
 "nbformat_minor": 0
}
