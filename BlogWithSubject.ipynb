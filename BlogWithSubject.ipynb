{
 "cells": [
  {
   "cell_type": "code",
   "execution_count": 1,
   "metadata": {
    "collapsed": true
   },
   "outputs": [],
   "source": [
    "import json\n",
    "import operator\n",
    "import copy"
   ]
  },
  {
   "cell_type": "code",
   "execution_count": 2,
   "metadata": {
    "collapsed": true
   },
   "outputs": [],
   "source": [
    "with open('./Workspace/result/BlogWithType.json', 'r') as f:\n",
    "    blog = json.load(f)"
   ]
  },
  {
   "cell_type": "code",
   "execution_count": 3,
   "metadata": {
    "collapsed": true
   },
   "outputs": [],
   "source": [
    "with open('./Workspace/result/RestaurantWithType.json', 'r') as f:\n",
    "    restaurant = json.load(f)"
   ]
  },
  {
   "cell_type": "code",
   "execution_count": 5,
   "metadata": {
    "collapsed": false
   },
   "outputs": [],
   "source": [
    "for b in blog:\n",
    "    name = restaurant[blog[b]['restaurant_id']]['name']\n",
    "    region = restaurant[blog[b]['restaurant_id']]['region']\n",
    "    for psubject in blog[b]['positiveSubject']:\n",
    "        psubject.append(copy.deepcopy(name))\n",
    "        psubject.append(copy.deepcopy(region))\n",
    "    for nsubject in blog[b]['negativeSubject']:\n",
    "        nsubject.append(copy.deepcopy(name))\n",
    "        nsubject.append(copy.deepcopy(region))"
   ]
  },
  {
   "cell_type": "code",
   "execution_count": 6,
   "metadata": {
    "collapsed": false
   },
   "outputs": [
    {
     "name": "stdout",
     "output_type": "stream",
     "text": [
      "[u'negativeSubject', u'blog_type', u'title', u'url', u'timestamp', u'is_paid', u'recommend_cnt', u'restaurant_type', u'browse_cnt', u'favorite_cnt', u'score', u'share_cnt', u'date', u'article', u'author_id', u'_id', u'restaurant_id', u'positiveSubject']\n"
     ]
    }
   ],
   "source": [
    "print blog.values()[52].keys()"
   ]
  },
  {
   "cell_type": "code",
   "execution_count": 7,
   "metadata": {
    "collapsed": false
   },
   "outputs": [],
   "source": [
    "with open('./Workspace/result/BlogWithSubjectAndName.json' ,'w') as f:\n",
    "    json.dump(blog, f)"
   ]
  },
  {
   "cell_type": "code",
   "execution_count": 33,
   "metadata": {
    "collapsed": true
   },
   "outputs": [],
   "source": [
    "with open('./Workspace/data/sentimentResult_20160701.json', 'r') as f:\n",
    "    simplesubject= json.load(f)"
   ]
  },
  {
   "cell_type": "code",
   "execution_count": 35,
   "metadata": {
    "collapsed": false
   },
   "outputs": [],
   "source": [
    "food = []\n",
    "for ele in simplesubject:\n",
    "    food.extend(ele['positiveSubject'])\n",
    "    food.extend(ele['negativeSubject'])"
   ]
  },
  {
   "cell_type": "code",
   "execution_count": 44,
   "metadata": {
    "collapsed": false
   },
   "outputs": [
    {
     "name": "stdout",
     "output_type": "stream",
     "text": [
      "14543\n"
     ]
    }
   ],
   "source": [
    "getter = operator.itemgetter(0)\n",
    "foodlist = list(set(map(getter, food)))\n",
    "print len(foodlist)"
   ]
  },
  {
   "cell_type": "code",
   "execution_count": 45,
   "metadata": {
    "collapsed": true
   },
   "outputs": [],
   "source": [
    "from gensim import models\n",
    "model = models.Word2Vec.load('./Workspace/Word2Vec_sz_200_mc_1_sg_by_sentence_big')"
   ]
  },
  {
   "cell_type": "code",
   "execution_count": 48,
   "metadata": {
    "collapsed": false
   },
   "outputs": [
    {
     "name": "stdout",
     "output_type": "stream",
     "text": [
      "611.051765919\n"
     ]
    }
   ],
   "source": [
    "import time\n",
    "vec = []\n",
    "start = time.time()\n",
    "for ele in foodlist:\n",
    "    try:\n",
    "        smvec = model[ele]\n",
    "        for mos in model.most_similar(ele, topn = 10):\n",
    "            smvec += model[mos[0]]\n",
    "        smvec /= 11\n",
    "        vec.append(smvec)\n",
    "    except:\n",
    "        pass\n",
    "print time.time()-start"
   ]
  },
  {
   "cell_type": "code",
   "execution_count": 49,
   "metadata": {
    "collapsed": false
   },
   "outputs": [
    {
     "name": "stdout",
     "output_type": "stream",
     "text": [
      "14513\n"
     ]
    }
   ],
   "source": [
    "print len(vec)"
   ]
  },
  {
   "cell_type": "code",
   "execution_count": 50,
   "metadata": {
    "collapsed": true
   },
   "outputs": [],
   "source": [
    "import numpy as np\n",
    "import math\n",
    "from sklearn.metrics.pairwise import cosine_distances\n",
    "def new_euclidean_distances(X, Y=None, Y_norm_squared=None, squared=False):\n",
    "    return cosine_distances(X,Y)\n",
    "from sklearn.cluster import k_means_\n",
    "k_means_.euclidean_distances = new_euclidean_distances"
   ]
  },
  {
   "cell_type": "code",
   "execution_count": 52,
   "metadata": {
    "collapsed": true
   },
   "outputs": [],
   "source": [
    "from sklearn.cluster import KMeans\n",
    "kmeans_clustering = KMeans(n_clusters = 150)\n",
    "idx = kmeans_clustering.fit_predict(vec)\n",
    "r = dict(zip(foodlist, idx))\n",
    "tempD = {}\n",
    "for ele in r:\n",
    "    if str(r[ele]) not in tempD:\n",
    "        tempD[str(r[ele])] = [ele]\n",
    "    else:\n",
    "        tempD[str(r[ele])].append(ele)\n",
    "with open('./Workspace/result/food_Kmean_150.json', 'w') as f:\n",
    "    json.dump(tempD, f)"
   ]
  }
 ],
 "metadata": {
  "kernelspec": {
   "display_name": "Python 2",
   "language": "python",
   "name": "python2"
  },
  "language_info": {
   "codemirror_mode": {
    "name": "ipython",
    "version": 2
   },
   "file_extension": ".py",
   "mimetype": "text/x-python",
   "name": "python",
   "nbconvert_exporter": "python",
   "pygments_lexer": "ipython2",
   "version": "2.7.11"
  }
 },
 "nbformat": 4,
 "nbformat_minor": 0
}
