{
 "cells": [
  {
   "cell_type": "code",
   "execution_count": 1,
   "metadata": {
    "collapsed": false
   },
   "outputs": [
    {
     "name": "stdout",
     "output_type": "stream",
     "text": [
      "Leka: An Exceptional Toy for Exceptional Children\n",
      "ZUS Kevlar Charging Cable - Lifetime Guarantee\n",
      "Musana Carts: The Solar Street Vending Revolution\n",
      "Whipper:  Worldâs 1st Climbing Performance Tracker\n",
      "Air Case: The World's Thinnest iPhone Battery Case\n",
      "ASAP Connect: The future of USB cables\n",
      "Shock Clock WakeUp Trainer -Never Hit Snooze Again\n",
      "FLUX: Electric Bikes with Attitude\n",
      "WING : The Accessible Premium Wireless Earphone\n",
      "Furbo: World's First Treat-Tossing Dog Camera\n",
      "Turris Omnia: hi-performance & open-source router\n",
      "Lumi: World's Best Gaming & Entertainment Drone\n"
     ]
    }
   ],
   "source": [
    "import requests\n",
    "import json\n",
    "headers = {\n",
    "'User-Agent':'Mozilla/5.0 (Windows NT 6.1; WOW64) AppleWebKit/537.36 (KHTML, like Gecko) Chrome/50.0.2661.94 Safari/537.36', \n",
    "'Cookie':'romref_referer_host=www.google.com.tw; _gat=1; D_SID=140.115.236.39:BOThEAAGv4SMTbKm8/co88YZjak31qrQ7tzdyKgJePc; __qca=P0-1605812000-1462324323319; _gat_appcues_ga=1; ki_t=1462324326470%3B1462324326470%3B1462324326470%3B1%3B1; ki_r=https%3A%2F%2Fwww.google.com.tw%2F; __hstc=223492548.da3ad0a8cbebf03d8c2cf6eb8e74c4bc.1462324326540.1462324326540.1462324326540.1; __hssrc=1; __hssc=223492548.1.1462324326540; hsfirstvisit=https%3A%2F%2Fwww.indiegogo.com%2F%23%2Fpicks_for_you|https%3A%2F%2Fwww.google.com.tw%2F|1462324326538; hubspotutk=da3ad0a8cbebf03d8c2cf6eb8e74c4bc; utag_main=v_id:015479520f4b001cc99be13543d60506c001a06400bd0$_sn:1$_ss:0$_pn:3%3Bexp-session$_st:1462326200985$ses_id:1462324301643%3Bexp-session; D_PID=D8587F6D-A6E5-34C9-B6C5-17392785DB77; D_IID=AFCA9B4F-118C-3C31-85C2-64870B3773BD; D_UID=4D984B67-BE41-3779-B36B-65F850B3AF4A; D_HID=u+s6X+9Xakv8y5xd1N/CSTkiihPzbzMBdas4g3d2vxs; __ar_v4=; apc_user_call_count=2; romref=ORG_www_TW_XXXX_sch-goog_XXXXXXXX_0002_www.google.com.tw; visitor_id=278cba48720054c263e74725c4dac2f790d7ef50098c8cbbb17866a164ca31a5; analytics_session_id=42b42a11d370e48e31ba2df380104bf5b905a479638b62b652ec904e1b944742; _session_id=c8ab92c626784125d18dd0bcc34120ac; locale=en; cohort=www.google.com.tw%7Csch-goog; recent_project_ids=; _ga=GA1.2.1391222500.1462324318'\n",
    "}\n",
    "res = requests.get('https://www.indiegogo.com/private_api/explore?filter_category=Technology&filter_funding=&filter_percent_funded=&filter_quick=popular_all&filter_status=&per_page=12&pg_num=1', headers = headers)\n",
    "jd = json.loads(res.text)\n",
    "for campaign in jd['campaigns']:\n",
    "    print campaign['title']"
   ]
  },
  {
   "cell_type": "code",
   "execution_count": 9,
   "metadata": {
    "collapsed": true
   },
   "outputs": [
    {
     "name": "stdout",
     "output_type": "stream",
     "text": [
      "<tr>\n",
      "<td align=\"center\" bgcolor=\"#E0EDF1\" class=\"T12b\" nowrap=\"\" width=\"5%\">項次 </td>\n",
      "<td align=\"center\" bgcolor=\"#E0EDF1\" class=\"T12b\" nowrap=\"\" width=\"15%\">機關 <br/>名稱 </td>\n",
      "<td align=\"center\" bgcolor=\"#E0EDF1\" class=\"T12b\" nowrap=\"\" width=\"30%\">標案案號 <br/>標案名稱 </td>\n",
      "<td align=\"center\" bgcolor=\"#E0EDF1\" class=\"T12b\" nowrap=\"\" width=\"10%\">招標 <br/>方式 </td>\n",
      "<td align=\"center\" bgcolor=\"#E0EDF1\" class=\"T12b\" nowrap=\"\" width=\"8%\">標的 <br/>分類 </td>\n",
      "<td align=\"center\" bgcolor=\"#E0EDF1\" class=\"T12b\" nowrap=\"\" width=\"9%\">公告 <br/>日期 </td>\n",
      "<td align=\"center\" bgcolor=\"#E0EDF1\" class=\"T12b\" nowrap=\"\" width=\"13%\">決標 <br/>金額 </td>\n",
      "<td align=\"center\" bgcolor=\"#E0EDF1\" class=\"T12b\" nowrap=\"\" width=\"5%\">決標 <br/>公告 </td>\n",
      "<td align=\"center\" bgcolor=\"#E0EDF1\" class=\"T12b\" nowrap=\"\" width=\"5%\">無法 <br/>決標 </td>\n",
      "</tr>\n",
      "<tr bgcolor=\"#FFFFFF\" onmouseout=\"outcss(this,'#FFFFFF')\" onmouseover=\"overcss(this)\">\n",
      "<td align=\"center\" colspan=\"9\">無符合條件資料</td>\n",
      "</tr>\n",
      "<tr>\n",
      "<td align=\"center\" bgcolor=\"#E0EDF1\" class=\"T11\" colspan=\"11\">\n",
      "\t\t\t\t\t\t\t\t\t\t\t[第一頁/上一頁]  \n",
      "\t\t\t\t\t\t\t\t\t\t\t\t\n",
      "\t\t\t\t\t\t\t\t\t\t\t\t&lt;<b>1</b>&gt;\n",
      "\t\t\t\t\t\t\t\t\t\t\t\t\n",
      "\t\t\t\t\t\t\t\t\t\t\t\t\n",
      "\t\t\t\t\t\t\t\t\t\t\t [下一頁/最後一頁] 共有<span class=\"T11b\" style=\"color: red;\">0</span>筆資料</td>\n",
      "</tr>\n",
      "<tr>\n",
      "<td align=\"center\" bgcolor=\"#E0EDF1\" class=\"T12b\" nowrap=\"\" width=\"5%\">項次 </td>\n",
      "<td align=\"center\" bgcolor=\"#E0EDF1\" class=\"T12b\" nowrap=\"\" width=\"15%\">機關 <br/>名稱 </td>\n",
      "<td align=\"center\" bgcolor=\"#E0EDF1\" class=\"T12b\" nowrap=\"\" width=\"30%\">標案案號 <br/>標案名稱 </td>\n",
      "<td align=\"center\" bgcolor=\"#E0EDF1\" class=\"T12b\" nowrap=\"\" width=\"10%\">招標 <br/>方式 </td>\n",
      "<td align=\"center\" bgcolor=\"#E0EDF1\" class=\"T12b\" nowrap=\"\" width=\"8%\">標的 <br/>分類 </td>\n",
      "<td align=\"center\" bgcolor=\"#E0EDF1\" class=\"T12b\" nowrap=\"\" width=\"9%\">公告 <br/>日期 </td>\n",
      "<td align=\"center\" bgcolor=\"#E0EDF1\" class=\"T12b\" nowrap=\"\" width=\"13%\">決標 <br/>金額 </td>\n",
      "<td align=\"center\" bgcolor=\"#E0EDF1\" class=\"T12b\" nowrap=\"\" width=\"5%\">決標 <br/>公告 </td>\n",
      "<td align=\"center\" bgcolor=\"#E0EDF1\" class=\"T12b\" nowrap=\"\" width=\"5%\">無法 <br/>決標 </td>\n",
      "</tr>\n",
      "<tr bgcolor=\"#FFFFFF\" onmouseout=\"outcss(this,'#FFFFFF')\" onmouseover=\"overcss(this)\">\n",
      "<td align=\"center\" colspan=\"9\">無符合條件資料</td>\n",
      "</tr>\n",
      "<tr>\n",
      "<td align=\"center\" bgcolor=\"#E0EDF1\" class=\"T11\" colspan=\"11\">\n",
      "\t\t\t\t\t\t\t\t\t\t\t[第一頁/上一頁]  \n",
      "\t\t\t\t\t\t\t\t\t\t\t\t\n",
      "\t\t\t\t\t\t\t\t\t\t\t\t&lt;<b>1</b>&gt;\n",
      "\t\t\t\t\t\t\t\t\t\t\t\t\n",
      "\t\t\t\t\t\t\t\t\t\t\t\t\n",
      "\t\t\t\t\t\t\t\t\t\t\t [下一頁/最後一頁] 共有<span class=\"T11b\" style=\"color: red;\">0</span>筆資料</td>\n",
      "</tr>\n",
      "<tr>\n",
      "<td align=\"center\" bgcolor=\"#E0EDF1\" class=\"T12b\" nowrap=\"\" width=\"5%\">項次 </td>\n",
      "<td align=\"center\" bgcolor=\"#E0EDF1\" class=\"T12b\" nowrap=\"\" width=\"15%\">機關 <br/>名稱 </td>\n",
      "<td align=\"center\" bgcolor=\"#E0EDF1\" class=\"T12b\" nowrap=\"\" width=\"30%\">標案案號 <br/>標案名稱 </td>\n",
      "<td align=\"center\" bgcolor=\"#E0EDF1\" class=\"T12b\" nowrap=\"\" width=\"10%\">招標 <br/>方式 </td>\n",
      "<td align=\"center\" bgcolor=\"#E0EDF1\" class=\"T12b\" nowrap=\"\" width=\"8%\">標的 <br/>分類 </td>\n",
      "<td align=\"center\" bgcolor=\"#E0EDF1\" class=\"T12b\" nowrap=\"\" width=\"9%\">公告 <br/>日期 </td>\n",
      "<td align=\"center\" bgcolor=\"#E0EDF1\" class=\"T12b\" nowrap=\"\" width=\"13%\">決標 <br/>金額 </td>\n",
      "<td align=\"center\" bgcolor=\"#E0EDF1\" class=\"T12b\" nowrap=\"\" width=\"5%\">決標 <br/>公告 </td>\n",
      "<td align=\"center\" bgcolor=\"#E0EDF1\" class=\"T12b\" nowrap=\"\" width=\"5%\">無法 <br/>決標 </td>\n",
      "</tr>\n",
      "<tr bgcolor=\"#FFFFFF\" onmouseout=\"outcss(this,'#FFFFFF')\" onmouseover=\"overcss(this)\">\n",
      "<td align=\"center\" colspan=\"9\">無符合條件資料</td>\n",
      "</tr>\n",
      "<tr>\n",
      "<td align=\"center\" bgcolor=\"#E0EDF1\" class=\"T11\" colspan=\"11\">\n",
      "\t\t\t\t\t\t\t\t\t\t\t[第一頁/上一頁]  \n",
      "\t\t\t\t\t\t\t\t\t\t\t\t\n",
      "\t\t\t\t\t\t\t\t\t\t\t\t&lt;<b>1</b>&gt;\n",
      "\t\t\t\t\t\t\t\t\t\t\t\t\n",
      "\t\t\t\t\t\t\t\t\t\t\t\t\n",
      "\t\t\t\t\t\t\t\t\t\t\t [下一頁/最後一頁] 共有<span class=\"T11b\" style=\"color: red;\">0</span>筆資料</td>\n",
      "</tr>\n",
      "<tr>\n",
      "<td align=\"center\" bgcolor=\"#E0EDF1\" class=\"T12b\" nowrap=\"\" width=\"5%\">項次 </td>\n",
      "<td align=\"center\" bgcolor=\"#E0EDF1\" class=\"T12b\" nowrap=\"\" width=\"15%\">機關 <br/>名稱 </td>\n",
      "<td align=\"center\" bgcolor=\"#E0EDF1\" class=\"T12b\" nowrap=\"\" width=\"30%\">標案案號 <br/>標案名稱 </td>\n",
      "<td align=\"center\" bgcolor=\"#E0EDF1\" class=\"T12b\" nowrap=\"\" width=\"10%\">招標 <br/>方式 </td>\n",
      "<td align=\"center\" bgcolor=\"#E0EDF1\" class=\"T12b\" nowrap=\"\" width=\"8%\">標的 <br/>分類 </td>\n",
      "<td align=\"center\" bgcolor=\"#E0EDF1\" class=\"T12b\" nowrap=\"\" width=\"9%\">公告 <br/>日期 </td>\n",
      "<td align=\"center\" bgcolor=\"#E0EDF1\" class=\"T12b\" nowrap=\"\" width=\"13%\">決標 <br/>金額 </td>\n",
      "<td align=\"center\" bgcolor=\"#E0EDF1\" class=\"T12b\" nowrap=\"\" width=\"5%\">決標 <br/>公告 </td>\n",
      "<td align=\"center\" bgcolor=\"#E0EDF1\" class=\"T12b\" nowrap=\"\" width=\"5%\">無法 <br/>決標 </td>\n",
      "</tr>\n",
      "<tr bgcolor=\"#FFFFFF\" onmouseout=\"outcss(this,'#FFFFFF')\" onmouseover=\"overcss(this)\">\n",
      "<td align=\"center\" colspan=\"9\">無符合條件資料</td>\n",
      "</tr>\n",
      "<tr>\n",
      "<td align=\"center\" bgcolor=\"#E0EDF1\" class=\"T11\" colspan=\"11\">\n",
      "\t\t\t\t\t\t\t\t\t\t\t[第一頁/上一頁]  \n",
      "\t\t\t\t\t\t\t\t\t\t\t\t\n",
      "\t\t\t\t\t\t\t\t\t\t\t\t&lt;<b>1</b>&gt;\n",
      "\t\t\t\t\t\t\t\t\t\t\t\t\n",
      "\t\t\t\t\t\t\t\t\t\t\t\t\n",
      "\t\t\t\t\t\t\t\t\t\t\t [下一頁/最後一頁] 共有<span class=\"T11b\" style=\"color: red;\">0</span>筆資料</td>\n",
      "</tr>\n"
     ]
    }
   ],
   "source": [
    "import requests\n",
    "from bs4 import BeautifulSoup\n",
    "import math\n",
    "payload={\n",
    "'method':'search',\n",
    "'searchMethod':'true',\n",
    "'tenderUpdate':'',\n",
    "'searchTarget':'',\n",
    "'orgName':'',\n",
    "'orgId':'',\n",
    "'hid_1':'1',\n",
    "'tenderName':'',\n",
    "'tenderId':'',\n",
    "'tenderType':'tenderDeclaration',\n",
    "'tenderWay':'1,2,3,4,5,6,7,10,12',\n",
    "'tenderDateRadio':'on',\n",
    "'tenderStartDateStr':'105/04/28',\n",
    "'tenderEndDateStr':'105/05/04',\n",
    "'tenderStartDate':'105/05/04',\n",
    "'tenderEndDate':'105/05/04',\n",
    "'isSpdt':'N',\n",
    "'proctrgCate':'3',\n",
    "'radProctrgCate':'3',\n",
    "'btnQuery':'查詢'    \n",
    "}\n",
    "rs = requests.session()\n",
    "res = rs.post('http://web.pcc.gov.tw/tps/pss/tender.do?searchMode=common&searchType=advance', data=payload)\n",
    "soup = BeautifulSoup(res.text)\n",
    "recnumber = int(soup.select('.T11b')[0].text)\n",
    "pagenumber = int(math.ceil(float(recnumber) / 100))\n",
    "urlformat = 'http://web.pcc.gov.tw/tps/pss/tender.do?searchMode=common&searchType=advance&searchTarget=ATM&method=search&isSpdt=&pageIndex={}'\n",
    "with open('bid_list.txt','w') as f:\n",
    "    for i in range(1, pagenumber + 1):\n",
    "        url = urlformat.format(i)\n",
    "        res2 = rs.get(url)\n",
    "        soup2 = BeautifulSoup(res2.text)\n",
    "        print_area = soup2.select('#print_area')[0]\n",
    "        for tr in print_area.select('tr'):\n",
    "            print tr"
   ]
  },
  {
   "cell_type": "code",
   "execution_count": 4,
   "metadata": {
    "collapsed": false
   },
   "outputs": [],
   "source": [
    "import requests\n",
    "from bs4 import BeautifulSoup\n",
    "import math\n",
    "\n",
    "payload={\n",
    "'method':'search',\n",
    "'searchMethod':'true',\n",
    "'tenderUpdate':'',\n",
    "'searchTarget':'',\n",
    "'orgName':'',\n",
    "'orgId':'',\n",
    "'hid_1':'1',\n",
    "'tenderName':'',\n",
    "'tenderId':'',\n",
    "'tenderType':'tenderDeclaration',\n",
    "'tenderWay':'1,2,3,4,5,6,7,10,12',\n",
    "'tenderDateRadio':'on',\n",
    "'tenderStartDateStr':'105/04/28',\n",
    "'tenderEndDateStr':'105/05/04',\n",
    "'tenderStartDate':'105/05/04',\n",
    "'tenderEndDate':'105/05/04',\n",
    "'isSpdt':'N',\n",
    "'proctrgCate':'3',\n",
    "'radProctrgCate':'3',\n",
    "'btnQuery':'查詢'   \n",
    "}\n",
    "rs = requests.session()\n",
    "res = rs.post('http://web.pcc.gov.tw/tps/pss/tender.do?searchMode=common&searchType=advance', data=payload)\n",
    "\n",
    "soup = BeautifulSoup(res.text)\n",
    "recnumber = int(soup.select('.T11b')[0].text)\n",
    "pagenumber = int(math.ceil(float(recnumber) / 100))"
   ]
  },
  {
   "cell_type": "code",
   "execution_count": 5,
   "metadata": {
    "collapsed": false
   },
   "outputs": [
    {
     "name": "stdout",
     "output_type": "stream",
     "text": [
      "3\n"
     ]
    }
   ],
   "source": [
    "urlformat = \n",
    "res2 = rs.get(url)\n",
    "soup2 = BeautifulSoup(res2.text)\n",
    "print_area = soup2.select('#print_area')[0]\n",
    "print len(print_area.select('tr'))"
   ]
  },
  {
   "cell_type": "code",
   "execution_count": null,
   "metadata": {
    "collapsed": true
   },
   "outputs": [],
   "source": []
  }
 ],
 "metadata": {
  "kernelspec": {
   "display_name": "Python 2",
   "language": "python",
   "name": "python2"
  },
  "language_info": {
   "codemirror_mode": {
    "name": "ipython",
    "version": 2
   },
   "file_extension": ".py",
   "mimetype": "text/x-python",
   "name": "python",
   "nbconvert_exporter": "python",
   "pygments_lexer": "ipython2",
   "version": "2.7.11"
  }
 },
 "nbformat": 4,
 "nbformat_minor": 0
}
