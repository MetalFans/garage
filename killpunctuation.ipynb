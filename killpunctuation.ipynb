{
 "cells": [
  {
   "cell_type": "markdown",
   "metadata": {},
   "source": [
    "## 讀取文章"
   ]
  },
  {
   "cell_type": "code",
   "execution_count": 8,
   "metadata": {
    "collapsed": false
   },
   "outputs": [],
   "source": [
    "import json\n",
    "import jieba\n",
    "import jieba.posseg as pseg\n",
    "import re\n",
    "import codecs\n",
    "import math\n",
    "import binascii\n",
    "import operator\n",
    "with open('./workspace/ifoodieBlogDic20160619Update5PixnetSmallEnglish.json') as f:\n",
    "    text = json.load(f)"
   ]
  },
  {
   "cell_type": "code",
   "execution_count": 9,
   "metadata": {
    "collapsed": false
   },
   "outputs": [],
   "source": [
    "def deleteBadWords(StrIn):\n",
    "    Str_BadWords = u'延伸閱讀|連絡方式|電話預約|電話|營業時間|週一|週二|週三|週四|週五|週六|週日|周一|周二|周三|周四|周五|周六|\\\n",
    "                    |周日|假日|公休|平日|地址|粉絲團|星期|禮拜|時間限制|您或許對這些文章有興趣|造訪日期|全年無休|最後點餐|營業|AM|PM|上一篇|下一篇|\\\n",
    "                    |分享此文|您可能喜歡的文章|懶人包|臉書|Facebook|facebook|FB|fb|全世界便宜住宿看這兒|下載愛食記App隨時觀看|按個讚啦|喜歡我的分享嗎|\\\n",
    "                    |瘋台灣民宿網|官方網站|瀏覽人次|最新消息|餐廳名稱|消費時間|無圖文版|網誌|Postedonby|新鮮關注回聲|Christabelle的藝想世界部落格由製作|\\\n",
    "                    |也許對這些文章也有興趣|發表迴響|電子郵件|必要欄位標記|電子郵件|個人網站|輸入圖片顯示文字好證明你不是機器人|站內搜尋分類|最新動態|\\\n",
    "                    |並不會被公開|你的位址 |迴響名稱|用餐日期|留言|載入中|文章文章|粉絲頁|發表|每人平均價位|按個讚|推薦你閱讀|Instagram|instagram|\\\n",
    "                    |美食地圖|版權所有|網友回應|歡迎加入|標籤|著作權聲明|非經授權|不得轉載'\n",
    "    strClean = re.sub(Str_BadWords,'',StrIn)\n",
    "    return strClean\n",
    "\n",
    "def EnglishFullToHalf(StrIn):\n",
    "    def transform(ele):\n",
    "        alphabetInt = int(repr(ele.group('number'))[4:8],16)\n",
    "        transAlphabeInt = alphabetInt - 65248\n",
    "        return binascii.a2b_hex(hex(transAlphabeInt)[2:4])\n",
    "    pattern = re.sub(u'(?P<number>[\\uff21-\\uff3a\\uff41-\\uff5a])', transform, StrIn)\n",
    "    return pattern\n",
    "                \n",
    "def retain_English_Chinese_Arabic_numerals(StrIn):\n",
    "    Str_English_Chinese = u'([^0-9a-zA-Zａ-ｚＡ-Ｚ\\u4E00-\\u9FCC]+)'\n",
    "    #Str_English_Chinese = u'([^a-z^A-Z^ａ-ｚ^Ａ-Ｚ^^0-9^０-９^\\u3105-\\u3129^\\u4E00-\\u9FCC]+)'\n",
    "    #\\u3105-\\u3129為所有注音符號 \n",
    "    #\\u4E00-\\u9FCC為所有中文\n",
    "    strClean = re.sub(Str_English_Chinese,'',StrIn)\n",
    "    return strClean\n",
    "\n",
    "def removeSentimentInAds(StrIn):\n",
    "    pattern = u'.*(喜歡|推薦|喜愛).{0,6}(文章|本文|介紹)'\n",
    "    def sub(match):\n",
    "        string = match.group(0)\n",
    "        type1 = match.group(1) if match.group(1) else ''\n",
    "        r = string.replace(type1,'')\n",
    "        return r\n",
    "    result = re.sub(pattern, sub, StrIn)\n",
    "    return result"
   ]
  },
  {
   "cell_type": "markdown",
   "metadata": {},
   "source": [
    "## Pixnet各種測試"
   ]
  },
  {
   "cell_type": "code",
   "execution_count": 232,
   "metadata": {
    "collapsed": false
   },
   "outputs": [
    {
     "name": "stdout",
     "output_type": "stream",
     "text": [
      "香而不麻、麻而不辣、溫而不燥的湯頭，不僅僅湯的香味搭配上微”醇”的辣味，拌上現切的肉片，肉片帶著爽脆的口感，原來吃到飽的火鍋也有如此CP值的，從火鍋到甜品都在中等之上..「洛神賦」麻辣極品鴛鴦鍋打破我對於吃到飽火鍋的印象，本以為吃到飽的火鍋大部分會讓人覺得辣辣的..可是洛神賦卻又帶著香味的辣～請繼續看下去…洛神賦的店外有一點禪風的感覺，以黑色搭灰色的搭配，讓人突然覺得質感上的加分(UP!)外頭的等待位子就正對著洛神賦LOGO，也很多客人再吃完的時候在這邊打卡呢（不過在這邊也好熱）洛神賦現在還有宅配呢！！店門口旁邊也有著小小的公告：本餐廳所有食材，鍋底材料，皆經過SGS檢驗合格，請大家安心用餐！這公告對於現在的食安警報時期也是一個對顧客的保證￣ー￣(大拇指)終於等到裡頭的等待區有位子了，就趕緊溜進去吹吹冷氣～（舒服～趁現在來拍拍櫃台，櫃台後面有一排酒（不曉得是不是在賣？Oxo隨手拿了櫃檯的訂單，哇！！現在竟然還可以外帶（☉_☉超酷～一旁還有小費箱，這邊沒有在收服務費的唷！！從13:40等到14:00分，終於有位子囉～￣▽￣帶著開心的心情溜搭溜搭的走進去～介紹一下環境：分為幾個區塊，在店門口印入眼簾的是左區和右邊一區。左邊大概五六桌～右邊大概兩桌，位於後面牆壁還有包廂位子呢！！包廂裡頭也有兩大桌，大概可以容納16個人左右，感覺辦小聚會也是超適合的，很有隱私感。醬料區，有非常多種醬料的選擇呢＞x＜不像某些店只有沙茶醬..SAD有豆腐乳醬、芝麻醬、蒜泥、麻油、烏醋、醬油、蔥花、蛋白區～辣椒粒的顏色好鮮紅，感覺就是很香很香的感覺，可是拍完照的我才想到..我忘了加了啦!!>”<看看那青蔥翠綠的顏色，感覺非常的新鮮呢￣▽￣!!經過廚房旁邊突然看到一個展示區，竟然是展示肉品..￣﹁￣洛神賦標榜用現切的肉片～看那肉品分布均勻的油花，有如專櫃裡的精品一樣放置於那，感覺這肉的品質應該不錯！飲料旁邊是冰淇淋區，一台冰淇淋冰櫃裡頭有著六種口味，冰淇淋選用movenpick莫凡彼冰淇淋。也是一個名牌的冰淇淋呢～～沒吃過～期待！！好囉，上桌了，桌的紋路是條條的木紋，每桌的桌面都是乾淨透亮的感覺≖‿≖桌面上有一個垃圾桶，一個面紙盒，和一個放置湯匙的桶子。湯底可以選養身鍋、麻辣鍋、酸菜白肉鍋等等，我們今天選了『酸菜白肉鍋+麻辣鍋』～畫了菜單就出現了一個腳架！！接著就上菜了～～菜盤就這樣紮實穩穩的放在腳架上，多了一個放置菜的空位，真的是一個很節省空間的方法呢!!既然可以縮小桌子的範圍，又可以讓客人感覺舒適。每桌都有一張菜單可以點選，會依照人數來搭配給份數，吃不完還可以繼續點的唷！我們的第一攤就這樣上桌了，我們點了高麗菜、DIY花枝漿、手工川丸子、老油條、大腸頭、松阪豬肉、梅花豬肉、杏苞菇。滾滾滾滾了！！先放入花枝漿下去～再放個油條到辣鍋這邊！！～油條經過辣鍋微微的一燙，外皮已經稍稍軟嫩，咬下去有著外層的濕軟配上內層的酥脆，油條又穩紮穩打的吸取的麻辣鍋的香～～～～～～～這就是吃麻辣鍋的幸福：）花枝求QQ彈牙的，我又不小心點了一個了>\"<再拉個湯底的鴨血出來，吃鴨血絕對要小心，因為裡頭好嫩好嫩～麻辣鍋湯汁穿透鴨血的細孔，滿滿的一鍋鴨血，好好吃～～接著又吃了泡菜丸..一開始想一想..泡菜丸到底是什麼？咬下去的口感Q度略像貢丸那樣的紮實Q彈。咬下去這真的不得了..是真真實實的泡菜在裡頭，細細慢嚼之後真的有股韓國泡菜的味道，越嚼越香（我又點了第二次）接著趕緊吃松阪豬和梅花豬，那松阪豬竟然有脆口的口感～這是再平常吃到飽火鍋店很少吃到的新鮮。松阪豬口口脆口，嚼的時候也很有Q度，讓我不小心..又再點了第二次>///<肥嫩肥嫩的大腸頭經過麻辣鍋的洗禮，味道隨著湯的滾動慢慢的逼近去，軟嫩的口感滷得很入味，朋友也讚不絕口。看那蛤仔飽滿的樣子～在口中爆出鮮味，熊清A雄賀～～點了金針菇沒想到來了這麼爆滿的一大盤＞＂＜我們只有兩個人阿～白白的拉麵等等再和金針菇一起下！白色的湯頭滾著滾著飄著一絲絲的酸味，酸菜湯喝起來非常的清甜，魚餃比較平凡一點，不過也是算新鮮的，口感Q彈～一開始想說怎麼給這麼多的金針，以前都很怕金針會卡牙縫，可是這金針好細好細～～～滿滿的吸滿湯頭，有一種吃麵線的感覺◕‿◕後甲～～最後這盤肉盤～～是我不能吃的牛肉～～～ˊ︿ˋ不過當然也是現切的～朋友說油花分布的很均勻，下去稍微川燙一下，吃起來很順口滑嫩，就是一股鮮嫩的口感～推推喝喝店長招待的洛神花茶，去除口腔裡的火鍋味～準備來吃甜點囉～～movenpick莫凡彼冰淇淋，我選了瑞士牛奶糖、經典巧克力、義大利起司，牛奶糖的味道……OH真的就是一股非常香濃的牛奶焦糖味在口中爆開，吃第一口的時候還有點遲疑，第二口就非常的肯定是牛奶糖！！超好吃～口味非常的濃厚，心目中排名滿高的口味！經典巧克力帶著一絲絲的苦味，微微的甜，比較一般，也算是好吃的甜點。義大利起司味道有一點像牛奶冰淇淋的味道，淡淡的奶味，不過我還是愛焦糖～洛神賦打破我對吃到飽品質的偏見，洛神賦麻辣火鍋吃到飽，CP值算滿高的唷～（個人認為）列入愛店＞W＜電話：02-27313779、、、、、、、、、、、、、、、\n",
      "https://ifoodie.tw/post/5423b1fd6e4b6b3729000001\n"
     ]
    }
   ],
   "source": [
    "import random\n",
    "artlist = [ele for ele in text.values()]\n",
    "index = random.randint(0,len(artlist))\n",
    "a = artlist[index]\n",
    "print a['article']\n",
    "print a['url']"
   ]
  },
  {
   "cell_type": "code",
   "execution_count": 192,
   "metadata": {
    "collapsed": true
   },
   "outputs": [],
   "source": [
    "badart = [ele for ele in artlist if u'工具邦技術提供' in ele['article']]"
   ]
  },
  {
   "cell_type": "code",
   "execution_count": 226,
   "metadata": {
    "collapsed": false
   },
   "outputs": [
    {
     "name": "stdout",
     "output_type": "stream",
     "text": [
      "http://banbi217.pixnet.net/blog/post/181840302\n"
     ]
    }
   ],
   "source": [
    "print badart[200]['url']\n",
    "with open('./Workspace/movelist.json', 'w') as f:\n",
    "    json.dump(badart,f)"
   ]
  },
  {
   "cell_type": "code",
   "execution_count": 206,
   "metadata": {
    "collapsed": false
   },
   "outputs": [
    {
     "name": "stdout",
     "output_type": "stream",
     "text": [
      "55b61f2f699b6e12be3f941b 122\n",
      "54e41f9a2756dd560a9c0203 689\n",
      "54f7f47f2756dd539518580a 118\n",
      "54b74b42d4fdab15f36ab713 72\n",
      "55b8c4e8699b6e786a342077 45\n",
      "53bdf3bdd4fdab213072997b 136\n"
     ]
    }
   ],
   "source": [
    "countDict = {}\n",
    "for ele in badart:\n",
    "    if ele['author_id'] not in countDict:\n",
    "        countDict[ele['author_id']] = 1\n",
    "    else:\n",
    "        countDict[ele['author_id']] += 1\n",
    "for e in countDict:\n",
    "    print e, countDict[e]"
   ]
  },
  {
   "cell_type": "code",
   "execution_count": 225,
   "metadata": {
    "collapsed": false
   },
   "outputs": [
    {
     "name": "stdout",
     "output_type": "stream",
     "text": [
      "http://nash.tw/2014-01-07-233/\n"
     ]
    }
   ],
   "source": [
    "import requests\n",
    "from bs4 import BeautifulSoup as bs\n",
    "rs = requests.session()\n",
    "rs.headers.update({\n",
    "        'User-Agent':'Mozilla/5.0 (Macintosh; Intel Mac OS X 10_11_3) AppleWebKit/537.36 \\\n",
    "        (KHTML, like Gecko) Chrome/51.0.2704.84 Safari/537.36'\n",
    "    })\n",
    "res = rs.get('http://piliapp-mapping.nash.tw/blog/post/55383531-%5b%E9%AB%98%E9%9B%84%E9%A3%9F%E8%A8%98%5d-nash-%E5%90%83-%E6%AB%BB%E8%8A%B1%E9%A3%9F%E5%A0%82')\n",
    "res.encoding = 'utf-8'\n",
    "soup = bs(res.text)\n",
    "print soup.select('#article-content-inner a')[0]['href']"
   ]
  },
  {
   "cell_type": "markdown",
   "metadata": {},
   "source": [
    "## Jieba"
   ]
  },
  {
   "cell_type": "code",
   "execution_count": 2,
   "metadata": {
    "collapsed": false
   },
   "outputs": [
    {
     "ename": "NameError",
     "evalue": "name 'jieba' is not defined",
     "output_type": "error",
     "traceback": [
      "\u001b[0;31m---------------------------------------------------------------------------\u001b[0m",
      "\u001b[0;31mNameError\u001b[0m                                 Traceback (most recent call last)",
      "\u001b[0;32m<ipython-input-2-7c95c92052f6>\u001b[0m in \u001b[0;36m<module>\u001b[0;34m()\u001b[0m\n\u001b[0;32m----> 1\u001b[0;31m \u001b[0mjieba\u001b[0m\u001b[0;34m.\u001b[0m\u001b[0mset_dictionary\u001b[0m\u001b[0;34m(\u001b[0m\u001b[0;34m'./Workspace/sentiment/0616/big/jieba356726.txt'\u001b[0m\u001b[0;34m)\u001b[0m\u001b[0;34m\u001b[0m\u001b[0m\n\u001b[0m\u001b[1;32m      2\u001b[0m \u001b[0mjieba\u001b[0m\u001b[0;34m.\u001b[0m\u001b[0mload_userdict\u001b[0m\u001b[0;34m(\u001b[0m\u001b[0;34m'./Workspace/sentiment/0616/big/jieba356726.txt'\u001b[0m\u001b[0;34m)\u001b[0m\u001b[0;34m\u001b[0m\u001b[0m\n\u001b[1;32m      3\u001b[0m \u001b[0mjieba\u001b[0m\u001b[0;34m.\u001b[0m\u001b[0mload_userdict\u001b[0m\u001b[0;34m(\u001b[0m\u001b[0;34m'./Workspace/sentiment/0616/food/fooddict2027.txt'\u001b[0m\u001b[0;34m)\u001b[0m\u001b[0;34m\u001b[0m\u001b[0m\n\u001b[1;32m      4\u001b[0m \u001b[0mjieba\u001b[0m\u001b[0;34m.\u001b[0m\u001b[0mload_userdict\u001b[0m\u001b[0;34m(\u001b[0m\u001b[0;34m'./Workspace/sentiment/0616/menu/menu50806.txt'\u001b[0m\u001b[0;34m)\u001b[0m\u001b[0;34m\u001b[0m\u001b[0m\n\u001b[1;32m      5\u001b[0m \u001b[0mjieba\u001b[0m\u001b[0;34m.\u001b[0m\u001b[0mload_userdict\u001b[0m\u001b[0;34m(\u001b[0m\u001b[0;34m'./Workspace/sentiment/0616/sentiment/negativewords.txt'\u001b[0m\u001b[0;34m)\u001b[0m\u001b[0;34m\u001b[0m\u001b[0m\n",
      "\u001b[0;31mNameError\u001b[0m: name 'jieba' is not defined"
     ]
    }
   ],
   "source": [
    "jieba.set_dictionary('./Workspace/sentiment/0616/big/jieba356726.txt')\n",
    "jieba.load_userdict('./Workspace/sentiment/0616/big/jieba356726.txt')\n",
    "jieba.load_userdict('./Workspace/sentiment/0616/food/fooddict2027.txt')\n",
    "jieba.load_userdict('./Workspace/sentiment/0616/menu/menu50806.txt')\n",
    "jieba.load_userdict('./Workspace/sentiment/0616/sentiment/negativewords.txt')\n",
    "jieba.load_userdict('./Workspace/sentiment/0616/sentiment/positivewords.txt')\n",
    "jieba.load_userdict('./Workspace/sentiment/0616/sentiment/negative.txt')\n",
    "jieba.load_userdict('./Workspace/sentiment/0616/sentiment/more.txt')\n",
    "jieba.load_userdict('./Workspace/sentiment/0616/sentiment/question.txt')\n",
    "#jieba.enable_parallel(4)"
   ]
  },
  {
   "cell_type": "code",
   "execution_count": 11,
   "metadata": {
    "collapsed": false
   },
   "outputs": [
    {
     "name": "stdout",
     "output_type": "stream",
     "text": [
      "37282.014806\n"
     ]
    }
   ],
   "source": [
    "import time\n",
    "start = time.time()\n",
    "for ele in text:\n",
    "    count += 1\n",
    "    t1 = removeSentimentInAds(deleteBadWords(text[ele]['article']))\n",
    "    t2 = EnglishFullToHalf(t1)\n",
    "    t3 = retain_English_Chinese_Arabic_numerals(t2)\n",
    "    jieba2dict = [obj.__dict__ for obj in list(pseg.cut(t3))]\n",
    "    text[ele]['article'] = jieba2dict\n",
    "print time.time()-start\n",
    "with open('./Workspace/jieba_cut.json', 'w') as f:\n",
    "    json.dump(text,f)"
   ]
  },
  {
   "cell_type": "code",
   "execution_count": 155,
   "metadata": {
    "collapsed": false
   },
   "outputs": [
    {
     "name": "stdout",
     "output_type": "stream",
     "text": [
      "Ａ\n"
     ]
    }
   ],
   "source": [
    "bigAlphabetNumber = int(repr(u'Ａ')[4:8],16)\n",
    "bigAlphabetHex = hex(bigAlphabetNumber)[2:6]\n",
    "X = '\\u%s' %bigAlphabetHex\n",
    "bigA = X.decode('unicode-escape')\n",
    "print bigA"
   ]
  },
  {
   "cell_type": "code",
   "execution_count": 154,
   "metadata": {
    "collapsed": false
   },
   "outputs": [
    {
     "name": "stdout",
     "output_type": "stream",
     "text": [
      "65313\n",
      "65345\n"
     ]
    }
   ],
   "source": [
    "bigAlphabetNumber = int(repr(u'Ａ')[4:8],16)\n",
    "print bigAlphabetNumber\n",
    "smallAlphabetNumber = int(repr(u'ａ')[4:8],16)\n",
    "print smallAlphabetNumber"
   ]
  },
  {
   "cell_type": "code",
   "execution_count": 236,
   "metadata": {
    "collapsed": false
   },
   "outputs": [
    {
     "name": "stdout",
     "output_type": "stream",
     "text": [
      "歡迎來這家很推薦的火鍋哦 Kiwi的文章歡迎加入\n",
      "==============================\n",
      "如果Milly的介紹～歡迎大家FB轉貼分享唷\n",
      "==============================\n"
     ]
    }
   ],
   "source": [
    "sss4 = u'歡迎來這家很推薦的火鍋哦 喜愛Kiwi的文章歡迎加入'\n",
    "sss5 = u'如果喜歡Milly的介紹～歡迎大家FB轉貼分享唷'\n",
    "print removeSentimentInAds(sss4)\n",
    "print '='*30\n",
    "print removeSentimentInAds(sss5)\n",
    "print '='*30"
   ]
  },
  {
   "cell_type": "code",
   "execution_count": null,
   "metadata": {
    "collapsed": false
   },
   "outputs": [],
   "source": []
  }
 ],
 "metadata": {
  "kernelspec": {
   "display_name": "Python 2",
   "language": "python",
   "name": "python2"
  },
  "language_info": {
   "codemirror_mode": {
    "name": "ipython",
    "version": 2
   },
   "file_extension": ".py",
   "mimetype": "text/x-python",
   "name": "python",
   "nbconvert_exporter": "python",
   "pygments_lexer": "ipython2",
   "version": "2.7.11"
  }
 },
 "nbformat": 4,
 "nbformat_minor": 0
}
