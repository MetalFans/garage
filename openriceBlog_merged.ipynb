{
 "cells": [
  {
   "cell_type": "code",
   "execution_count": 1,
   "metadata": {
    "collapsed": false
   },
   "outputs": [
    {
     "name": "stdout",
     "output_type": "stream",
     "text": [
      "61601\n"
     ]
    }
   ],
   "source": [
    "import codecs\n",
    "import os\n",
    "articleList = []\n",
    "path = '/Users/fan/Downloads/openriceBlog-1/'\n",
    "for fname in os.listdir(path):\n",
    "    if 'openrice' in fname:\n",
    "        with codecs.open(path+fname, 'r', 'utf-8') as f:\n",
    "            for item in f.readlines():\n",
    "                articleList.append(item.strip())\n",
    "print len(articleList)"
   ]
  },
  {
   "cell_type": "code",
   "execution_count": null,
   "metadata": {
    "collapsed": false
   },
   "outputs": [],
   "source": []
  }
 ],
 "metadata": {
  "kernelspec": {
   "display_name": "Python 2",
   "language": "python",
   "name": "python2"
  },
  "language_info": {
   "codemirror_mode": {
    "name": "ipython",
    "version": 2
   },
   "file_extension": ".py",
   "mimetype": "text/x-python",
   "name": "python",
   "nbconvert_exporter": "python",
   "pygments_lexer": "ipython2",
   "version": "2.7.11"
  }
 },
 "nbformat": 4,
 "nbformat_minor": 0
}
