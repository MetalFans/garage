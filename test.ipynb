{
 "cells": [
  {
   "cell_type": "code",
   "execution_count": 1,
   "metadata": {
    "collapsed": false
   },
   "outputs": [
    {
     "name": "stdout",
     "output_type": "stream",
     "text": [
      "9\n",
      "102\n",
      "62\n"
     ]
    },
    {
     "name": "stderr",
     "output_type": "stream",
     "text": [
      "/Users/fan/anaconda/lib/python2.7/site-packages/bs4/__init__.py:166: UserWarning: No parser was explicitly specified, so I'm using the best available HTML parser for this system (\"lxml\"). This usually isn't a problem, but if you run this code on another system, or in a different virtual environment, it may use a different parser and behave differently.\n",
      "\n",
      "To get rid of this warning, change this:\n",
      "\n",
      " BeautifulSoup([your markup])\n",
      "\n",
      "to this:\n",
      "\n",
      " BeautifulSoup([your markup], \"lxml\")\n",
      "\n",
      "  markup_type=markup_type))\n"
     ]
    }
   ],
   "source": [
    "import requests\n",
    "from bs4 import BeautifulSoup\n",
    "import math\n",
    "payload = {\n",
    "    'method':'search',\n",
    "    'searchMethod':'true',\n",
    "    'tenderUpdate':'',\n",
    "    'searchTarget':'',\n",
    "    'orgName':'',\n",
    "    'orgId':'',\n",
    "    'hid_1':'1',\n",
    "    'tenderName':'',\n",
    "    'tenderId':'',\n",
    "    'tenderType':'tenderDeclaration',\n",
    "    'tenderWay':'1,2,3,4,5,6,7,10,12',\n",
    "    'tenderDateRadio':'on',\n",
    "    'tenderStartDateStr':'105/04/29',\n",
    "    'tenderEndDateStr':'105/05/05',\n",
    "    'tenderStartDate':'105/05/05',\n",
    "    'tenderEndDate':'105/05/05',\n",
    "    'isSpdt':'N',\n",
    "    'proctrgCate':'',\n",
    "    'btnQuery':'查詢',\n",
    "    'hadUpdated':''\n",
    "}\n",
    "rs = requests.session()\n",
    "url = 'http://web.pcc.gov.tw/tps/pss/tender.do?searchMode=common&searchType=basic'\n",
    "res = rs.post(url,data=payload)\n",
    "soup = BeautifulSoup(res.text)\n",
    "recnumber = int(soup.select('.T11b')[0].text)\n",
    "pagenumber = int(math.ceil(float(recnumber) / 100))\n",
    "print pagenumber\n",
    "print_area = soup.select('#print_area')[0]\n",
    "print len(print_area.select('tr'))\n",
    "url2 = 'http://web.pcc.gov.tw/tps/pss/tender.do?searchMode=common&searchType=basic&method=search&isSpdt=&pageIndex={}'\n",
    "res2 = rs.get(url2.format(9))\n",
    "soup2 = BeautifulSoup(res2.text)\n",
    "print_area = soup2.select('#print_area')[0]\n",
    "print len(print_area.select('tr'))"
   ]
  },
  {
   "cell_type": "code",
   "execution_count": 27,
   "metadata": {
    "collapsed": false
   },
   "outputs": [
    {
     "name": "stdout",
     "output_type": "stream",
     "text": [
      "[{'name': 'John'}, {'haha': 'John1', 'name': 'John1'}]\n"
     ]
    }
   ],
   "source": [
    "x = {}\n",
    "z ={}\n",
    "y = []\n",
    "zz = []\n",
    "x['name'] = 'John'\n",
    "z['name'] = 'John'\n",
    "z['name'] = 'John1'\n",
    "z['haha'] = 'John1'\n",
    "y.append(x)\n",
    "y.append(z)\n",
    "[zz.append(i) for i in y if i not in zz]\n",
    "print zz\n",
    "    "
   ]
  },
  {
   "cell_type": "code",
   "execution_count": null,
   "metadata": {
    "collapsed": true
   },
   "outputs": [],
   "source": []
  },
  {
   "cell_type": "code",
   "execution_count": null,
   "metadata": {
    "collapsed": true
   },
   "outputs": [],
   "source": []
  },
  {
   "cell_type": "code",
   "execution_count": null,
   "metadata": {
    "collapsed": true
   },
   "outputs": [],
   "source": []
  }
 ],
 "metadata": {
  "kernelspec": {
   "display_name": "Python 2",
   "language": "python",
   "name": "python2"
  },
  "language_info": {
   "codemirror_mode": {
    "name": "ipython",
    "version": 2
   },
   "file_extension": ".py",
   "mimetype": "text/x-python",
   "name": "python",
   "nbconvert_exporter": "python",
   "pygments_lexer": "ipython2",
   "version": "2.7.11"
  }
 },
 "nbformat": 4,
 "nbformat_minor": 0
}
