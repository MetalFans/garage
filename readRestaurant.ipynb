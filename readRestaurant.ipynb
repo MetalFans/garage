{
 "cells": [
  {
   "cell_type": "code",
   "execution_count": 24,
   "metadata": {
    "collapsed": false
   },
   "outputs": [],
   "source": [
    "import json\n",
    "import os\n",
    "container = {}\n",
    "for fname in os.listdir('/Users/fan/anaconda/bin/Workspace/data/restaurant/'):\n",
    "    if 'json' in fname:\n",
    "        with open('/Users/fan/anaconda/bin/Workspace/data/restaurant/%s' %fname.decode('utf-8'), 'r') as f:\n",
    "            fname = fname.replace('.json','').decode('utf-8')\n",
    "            container[fname] = json.load(f)[fname]"
   ]
  },
  {
   "cell_type": "code",
   "execution_count": 33,
   "metadata": {
    "collapsed": false
   },
   "outputs": [
    {
     "name": "stdout",
     "output_type": "stream",
     "text": [
      "7448\n"
     ]
    }
   ],
   "source": [
    "restaurantSet = set()\n",
    "for ele in container:\n",
    "    for r in container[ele]:\n",
    "        restaurantSet.add(r)\n",
    "print len(restaurantSet)"
   ]
  }
 ],
 "metadata": {
  "kernelspec": {
   "display_name": "Python 2",
   "language": "python",
   "name": "python2"
  },
  "language_info": {
   "codemirror_mode": {
    "name": "ipython",
    "version": 2
   },
   "file_extension": ".py",
   "mimetype": "text/x-python",
   "name": "python",
   "nbconvert_exporter": "python",
   "pygments_lexer": "ipython2",
   "version": "2.7.11"
  }
 },
 "nbformat": 4,
 "nbformat_minor": 0
}
