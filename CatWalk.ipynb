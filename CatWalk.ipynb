{
 "cells": [
  {
   "cell_type": "code",
   "execution_count": 5,
   "metadata": {
    "collapsed": false
   },
   "outputs": [],
   "source": [
    "with open('chinesename.txt', 'r') as f:\n",
    "    name = f.read().decode('utf-8').split()"
   ]
  },
  {
   "cell_type": "code",
   "execution_count": 6,
   "metadata": {
    "collapsed": false
   },
   "outputs": [],
   "source": [
    "import random\n",
    "def randomName(name):\n",
    "    indexN = random.randint(0, len(name)-1)\n",
    "    result = name[indexN]\n",
    "    return result\n",
    "def randomUid():\n",
    "    uid = ''\n",
    "    for ele in xrange(16):\n",
    "        if not uid:\n",
    "            uid += '1'\n",
    "        else:\n",
    "            uid += str(random.randint(0,9))\n",
    "    return uid\n",
    "def getproxy():\n",
    "    res = None\n",
    "    ck = {\n",
    "        'Cookie':'__utmz=11986028.1462945261.1.1.utmccn=(direct)|utmcsr=(direct)|utmcmd=(none); __utma=11986028.142856697.1462945261.1462945261.1462950702.2; __utmc=11986028; __utmb=11986028; __asc=3b4454ce1549ea82d4213708470; __auc=1f4883341549e55276d173aec4f; __atuvc=10%7C19; __atuvs=5732db2e8b25716a003'\n",
    "    }\n",
    "    while res == None or res.status_code != 200:\n",
    "        try:\n",
    "            #print \"Getting Proxy\"\n",
    "            res = requests.get('http://www.ip-adress.com/proxy_list/?k=type', cookies=ck, timeout=3)\n",
    "        except:\n",
    "            #print \"Failed\"\n",
    "            pass\n",
    "    prx = []\n",
    "    px = {}\n",
    "    soup = BeautifulSoup(res.text,'html.parser')\n",
    "    p = soup.select('.proxylist tr')[2:-1]\n",
    "    for td in p:\n",
    "        if td.select('td')[1].text == td.select('td')[1].text == \"Elite\":\n",
    "            prx.append(td.select('td')[0].text)\n",
    "    index = random.randint(0,len(prx)-1)\n",
    "    px['http'] = prx[index]\n",
    "    return px"
   ]
  },
  {
   "cell_type": "code",
   "execution_count": 7,
   "metadata": {
    "collapsed": false
   },
   "outputs": [],
   "source": [
    "import requests\n",
    "from bs4 import BeautifulSoup\n",
    "import time\n",
    "def vote(number):\n",
    "    n = 1\n",
    "    while n <= number: \n",
    "        payload = {\n",
    "            \"uid\":\"\",\n",
    "            \"cname\":\"\",\n",
    "            \"post_id\":\"8701\"\n",
    "        }\n",
    "        header = {\n",
    "            \"User-Agent\":\"Mozilla/5.0 (Macintosh; Intel Mac OS X 10_11_3) AppleWebKit/537.36 (KHTML, like Gecko) Chrome/51.0.2704.103 Safari/537.36\"\n",
    "        }\n",
    "        payload['uid'] = randomUid()\n",
    "        payload['cname'] = randomName(name)\n",
    "        try:\n",
    "            px = getproxy()\n",
    "            res = requests.post(\"http://www.2016catwalkcompetition.com.tw/wp-content/themes/scent/check-user.php\", proxies=px, data = payload, headers = header, timeout=5)\n",
    "            n += 1\n",
    "            print str(px), res.text\n",
    "        except:\n",
    "            print str(px),\"Proxy Error\"\n",
    "        time.sleep(random.randint(1,5))"
   ]
  },
  {
   "cell_type": "code",
   "execution_count": 11,
   "metadata": {
    "collapsed": false
   },
   "outputs": [
    {
     "name": "stdout",
     "output_type": "stream",
     "text": [
      "{'http': u'66.186.2.163:80'} <script>jQuery('.vote-count-number').html('597')</script>\n"
     ]
    }
   ],
   "source": [
    "vote(1)"
   ]
  }
 ],
 "metadata": {
  "kernelspec": {
   "display_name": "Python 2",
   "language": "python",
   "name": "python2"
  },
  "language_info": {
   "codemirror_mode": {
    "name": "ipython",
    "version": 2
   },
   "file_extension": ".py",
   "mimetype": "text/x-python",
   "name": "python",
   "nbconvert_exporter": "python",
   "pygments_lexer": "ipython2",
   "version": "2.7.11"
  }
 },
 "nbformat": 4,
 "nbformat_minor": 0
}
