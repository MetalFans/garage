{
 "cells": [
  {
   "cell_type": "markdown",
   "metadata": {},
   "source": [
    "## 問答函數"
   ]
  },
  {
   "cell_type": "code",
   "execution_count": 1,
   "metadata": {
    "collapsed": true
   },
   "outputs": [],
   "source": [
    "import codecs\n",
    "import os\n",
    "if not os.path.exists('./expand'):\n",
    "    os.makedirs('./expand')\n",
    "from IPython.display import clear_output\n",
    "def checkWord(wordlist, name):\n",
    "    with open('./expand/%s.txt' %name, 'a') as f1:\n",
    "        with open('./expand/%s_abandon.txt' %name, 'a') as f2:\n",
    "            for i in xrange(len(wordlist)):\n",
    "                check = 'n'\n",
    "                print '%d/%d：%s' %(i+1,len(wordlist),wordlist[i].encode('utf-8'))\n",
    "                print '='*20\n",
    "                check = raw_input('正確按enter 錯誤輸入n')\n",
    "                clear_output()       \n",
    "                if not check:\n",
    "                    f1.write(wordlist[i].encode('utf-8')+'\\n')\n",
    "                else:\n",
    "                    f2.write(wordlist[i].encode('utf-8')+'\\n')"
   ]
  },
  {
   "cell_type": "markdown",
   "metadata": {},
   "source": [
    "## 載入字典"
   ]
  },
  {
   "cell_type": "code",
   "execution_count": 3,
   "metadata": {
    "collapsed": false
   },
   "outputs": [
    {
     "name": "stdout",
     "output_type": "stream",
     "text": [
      "351\n"
     ]
    }
   ],
   "source": [
    "checkList = []\n",
    "# 輸入位置\n",
    "with codecs.open('./Workspace/inverseEX.txt', 'r', 'utf-8') as f:\n",
    "    for w in f.readlines():\n",
    "        checkList.append(w.strip())\n",
    "print len(checkList)"
   ]
  },
  {
   "cell_type": "markdown",
   "metadata": {},
   "source": [
    "## 開始問答"
   ]
  },
  {
   "cell_type": "code",
   "execution_count": 4,
   "metadata": {
    "collapsed": false
   },
   "outputs": [],
   "source": [
    "# 輸入工作範圍\n",
    "workspace = checkList[0:351]\n",
    "# 輸入檔名\n",
    "checkWord(workspace, 'inverseWord')"
   ]
  },
  {
   "cell_type": "code",
   "execution_count": null,
   "metadata": {
    "collapsed": true
   },
   "outputs": [],
   "source": []
  },
  {
   "cell_type": "code",
   "execution_count": null,
   "metadata": {
    "collapsed": true
   },
   "outputs": [],
   "source": []
  },
  {
   "cell_type": "code",
   "execution_count": null,
   "metadata": {
    "collapsed": true
   },
   "outputs": [],
   "source": []
  },
  {
   "cell_type": "code",
   "execution_count": null,
   "metadata": {
    "collapsed": true
   },
   "outputs": [],
   "source": []
  },
  {
   "cell_type": "code",
   "execution_count": null,
   "metadata": {
    "collapsed": true
   },
   "outputs": [],
   "source": []
  },
  {
   "cell_type": "code",
   "execution_count": null,
   "metadata": {
    "collapsed": true
   },
   "outputs": [],
   "source": []
  },
  {
   "cell_type": "code",
   "execution_count": null,
   "metadata": {
    "collapsed": true
   },
   "outputs": [],
   "source": []
  }
 ],
 "metadata": {
  "kernelspec": {
   "display_name": "Python 2",
   "language": "python",
   "name": "python2"
  },
  "language_info": {
   "codemirror_mode": {
    "name": "ipython",
    "version": 2
   },
   "file_extension": ".py",
   "mimetype": "text/x-python",
   "name": "python",
   "nbconvert_exporter": "python",
   "pygments_lexer": "ipython2",
   "version": "2.7.11"
  }
 },
 "nbformat": 4,
 "nbformat_minor": 0
}
