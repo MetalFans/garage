{
 "cells": [
  {
   "cell_type": "code",
   "execution_count": 1,
   "metadata": {
    "collapsed": true
   },
   "outputs": [],
   "source": [
    "import json\n",
    "import scipy\n",
    "import copy\n",
    "import operator\n",
    "import math\n",
    "from scipy import stats"
   ]
  },
  {
   "cell_type": "code",
   "execution_count": 2,
   "metadata": {
    "collapsed": true
   },
   "outputs": [],
   "source": [
    "typeDict = {\n",
    "    u'日式料理':[],\n",
    "    u'牛排館/鐵板燒':[],\n",
    "    u'主題/景觀餐廳':[],\n",
    "    u'台式/中式/小吃':[],\n",
    "    u'合菜':[],\n",
    "    u'羊肉爐/牛肉湯':[],\n",
    "    u'自助餐':[],\n",
    "    u'串燒/碳烤/居酒屋/燒烤':[],\n",
    "    u'咖啡/輕食/下午茶':[],\n",
    "    u'東南亞料理':[],\n",
    "    u'美式餐廳/早午餐':[],\n",
    "    u'海產/熱炒餐廳':[],\n",
    "    u'烤雞/烤鴨':[],\n",
    "    u'素食/蔬食':[],\n",
    "    u'酒吧/餐酒館':[],\n",
    "    u'甜點/冰品/飲料/烘培':[],\n",
    "    u'港式餐廳':[],\n",
    "    u'義式/歐風/異國':[],\n",
    "    u'鍋類':[],\n",
    "    u'韓式料理':[],\n",
    "    u'其他':[]\n",
    "}"
   ]
  },
  {
   "cell_type": "code",
   "execution_count": 3,
   "metadata": {
    "collapsed": true
   },
   "outputs": [],
   "source": [
    "with open('./Workspace/result/UserWithRegion.json', 'r') as f:\n",
    "    user = json.load(f)\n",
    "with open('./Workspace/result/BlogWithType.json', 'r') as f:\n",
    "    blog = json.load(f)"
   ]
  },
  {
   "cell_type": "code",
   "execution_count": 4,
   "metadata": {
    "collapsed": false
   },
   "outputs": [],
   "source": [
    "for b in blog:\n",
    "    score = blog[b]['score']\n",
    "    sentiment_dict = user[blog[b]['author_id']].get('sentiment_score')\n",
    "    if not sentiment_dict:\n",
    "        user[blog[b]['author_id']]['sentiment_score'] = copy.deepcopy(typeDict)\n",
    "        user[blog[b]['author_id']]['sentiment_score'][blog[b]['restaurant_type']].append(score)\n",
    "    else:\n",
    "        user[blog[b]['author_id']]['sentiment_score'][blog[b]['restaurant_type']].append(score)"
   ]
  },
  {
   "cell_type": "code",
   "execution_count": 24,
   "metadata": {
    "collapsed": false
   },
   "outputs": [
    {
     "name": "stdout",
     "output_type": "stream",
     "text": [
      "[0]\n"
     ]
    }
   ],
   "source": [
    "print user['55f7699c2756dd40def8c2a4']['sentiment_score'][u'酒吧/餐酒館']"
   ]
  },
  {
   "cell_type": "code",
   "execution_count": 11,
   "metadata": {
    "collapsed": true
   },
   "outputs": [],
   "source": [
    "zero_dict = copy.deepcopy(typeDict)\n",
    "for ele in zero_dict:\n",
    "    zero_dict[ele] = 0\n",
    "for u in user:\n",
    "    user[u]['blog_cnt_by_type'] = {}\n",
    "    if not user[u].get('sentiment_score'):\n",
    "        user[u]['blog_cnt_by_type'] = copy.deepcopy(zero_dict)\n",
    "    else:\n",
    "        sc = user[u]['sentiment_score']\n",
    "        for item in sc:\n",
    "            user[u]['blog_cnt_by_type'][item] = len(sc[item])"
   ]
  },
  {
   "cell_type": "code",
   "execution_count": 12,
   "metadata": {
    "collapsed": false
   },
   "outputs": [
    {
     "name": "stdout",
     "output_type": "stream",
     "text": [
      "{u'\\u70e4\\u96de/\\u70e4\\u9d28': 0, u'\\u4e32\\u71d2/\\u78b3\\u70e4/\\u5c45\\u9152\\u5c4b/\\u71d2\\u70e4': 0, u'\\u6d77\\u7522/\\u71b1\\u7092\\u9910\\u5ef3': 0, u'\\u7d20\\u98df/\\u852c\\u98df': 0, u'\\u7f8e\\u5f0f\\u9910\\u5ef3/\\u65e9\\u5348\\u9910': 0, u'\\u5408\\u83dc': 0, u'\\u6e2f\\u5f0f\\u9910\\u5ef3': 0, u'\\u65e5\\u5f0f\\u6599\\u7406': 0, u'\\u6771\\u5357\\u4e9e\\u6599\\u7406': 0, u'\\u7f8a\\u8089\\u7210/\\u725b\\u8089\\u6e6f': 0, u'\\u725b\\u6392\\u9928/\\u9435\\u677f\\u71d2': 1, u'\\u97d3\\u5f0f\\u6599\\u7406': 0, u'\\u9152\\u5427/\\u9910\\u9152\\u9928': 0, u'\\u7fa9\\u5f0f/\\u6b50\\u98a8/\\u7570\\u570b': 0, u'\\u5176\\u4ed6': 0, u'\\u751c\\u9ede/\\u51b0\\u54c1/\\u98f2\\u6599/\\u70d8\\u57f9': 0, u'\\u4e3b\\u984c/\\u666f\\u89c0\\u9910\\u5ef3': 0, u'\\u53f0\\u5f0f/\\u4e2d\\u5f0f/\\u5c0f\\u5403': 0, u'\\u81ea\\u52a9\\u9910': 0, u'\\u934b\\u985e': 1, u'\\u5496\\u5561/\\u8f15\\u98df/\\u4e0b\\u5348\\u8336': 0}\n"
     ]
    }
   ],
   "source": [
    "print user['5732d5d1699b6e18f5a7c9ae']['blog_cnt_by_type']"
   ]
  },
  {
   "cell_type": "code",
   "execution_count": 30,
   "metadata": {
    "collapsed": false
   },
   "outputs": [
    {
     "name": "stderr",
     "output_type": "stream",
     "text": [
      "/Users/fan/anaconda/lib/python2.7/site-packages/scipy/stats/stats.py:2480: RuntimeWarning: invalid value encountered in true_divide\n",
      "  return (a - mns) / sstd\n"
     ]
    }
   ],
   "source": [
    "for u in user:\n",
    "    sc = user[u].get('sentiment_score')\n",
    "    if sc:\n",
    "        item = []\n",
    "        for ele in sc:\n",
    "            item.extend(map(lambda x: (ele, x), sc[ele]))\n",
    "            if sc[ele]:\n",
    "                sc[ele] = scipy.mean(sc[ele])\n",
    "            else:\n",
    "                sc[ele] = None\n",
    "        scores = map(operator.itemgetter(1), item)\n",
    "        types = map(operator.itemgetter(0), item)\n",
    "        zc = [z if not math.isnan(z) else 0 for z in stats.zscore(scores)]\n",
    "        user[u]['within_zscore'] = {}\n",
    "        count_dict = {}\n",
    "        for e in zip(types, zc):\n",
    "            if e[0] not in user[u]['within_zscore']:\n",
    "                user[u]['within_zscore'][e[0]] = e[1]\n",
    "                count_dict[e[0]] = [e[1]]\n",
    "            else:\n",
    "                n = float(len(count_dict[e[0]]))\n",
    "                user[u]['within_zscore'][e[0]] = user[u]['within_zscore'][e[0]] * n / (n+1) + e[1] / (n+1)\n",
    "                count_dict[e[0]].append([e[1]])\n",
    "        for key in typeDict:\n",
    "            if key not in user[u]['within_zscore']:\n",
    "                user[u]['within_zscore'][key] = -999"
   ]
  },
  {
   "cell_type": "code",
   "execution_count": 31,
   "metadata": {
    "collapsed": false
   },
   "outputs": [
    {
     "name": "stdout",
     "output_type": "stream",
     "text": [
      "{u'\\u70e4\\u96de/\\u70e4\\u9d28': -999, u'\\u7f8a\\u8089\\u7210/\\u725b\\u8089\\u6e6f': -999, u'\\u4e3b\\u984c/\\u666f\\u89c0\\u9910\\u5ef3': -999, u'\\u6d77\\u7522/\\u71b1\\u7092\\u9910\\u5ef3': -999, u'\\u5176\\u4ed6': -999, u'\\u5408\\u83dc': -999, u'\\u5496\\u5561/\\u8f15\\u98df/\\u4e0b\\u5348\\u8336': -999, u'\\u65e5\\u5f0f\\u6599\\u7406': -999, u'\\u6771\\u5357\\u4e9e\\u6599\\u7406': -999, u'\\u4e32\\u71d2/\\u78b3\\u70e4/\\u5c45\\u9152\\u5c4b/\\u71d2\\u70e4': -999, u'\\u725b\\u6392\\u9928/\\u9435\\u677f\\u71d2': 0, u'\\u97d3\\u5f0f\\u6599\\u7406': -999, u'\\u9152\\u5427/\\u9910\\u9152\\u9928': -999, u'\\u7fa9\\u5f0f/\\u6b50\\u98a8/\\u7570\\u570b': -999, u'\\u7f8e\\u5f0f\\u9910\\u5ef3/\\u65e9\\u5348\\u9910': -999, u'\\u751c\\u9ede/\\u51b0\\u54c1/\\u98f2\\u6599/\\u70d8\\u57f9': -999, u'\\u7d20\\u98df/\\u852c\\u98df': -999, u'\\u53f0\\u5f0f/\\u4e2d\\u5f0f/\\u5c0f\\u5403': -999, u'\\u81ea\\u52a9\\u9910': -999, u'\\u934b\\u985e': 0, u'\\u6e2f\\u5f0f\\u9910\\u5ef3': -999}\n"
     ]
    }
   ],
   "source": [
    "print user['5732d5d1699b6e18f5a7c9ae']['within_zscore']"
   ]
  },
  {
   "cell_type": "code",
   "execution_count": 209,
   "metadata": {
    "collapsed": false
   },
   "outputs": [],
   "source": [
    "# for u in user:\n",
    "#     sc = user[u].get('sentiment_score')\n",
    "#     if sc:\n",
    "#         for ele in sc:\n",
    "#             if sc[ele]:\n",
    "#                 sc[ele] = scipy.mean(sc[ele])\n",
    "#             else:\n",
    "#                 sc[ele] = None"
   ]
  },
  {
   "cell_type": "code",
   "execution_count": 32,
   "metadata": {
    "collapsed": false
   },
   "outputs": [
    {
     "name": "stdout",
     "output_type": "stream",
     "text": [
      "{u'\\u70e4\\u96de/\\u70e4\\u9d28': None, u'\\u7f8a\\u8089\\u7210/\\u725b\\u8089\\u6e6f': None, u'\\u4e3b\\u984c/\\u666f\\u89c0\\u9910\\u5ef3': None, u'\\u6d77\\u7522/\\u71b1\\u7092\\u9910\\u5ef3': None, u'\\u5176\\u4ed6': None, u'\\u5408\\u83dc': None, u'\\u5496\\u5561/\\u8f15\\u98df/\\u4e0b\\u5348\\u8336': None, u'\\u65e5\\u5f0f\\u6599\\u7406': None, u'\\u6771\\u5357\\u4e9e\\u6599\\u7406': None, u'\\u4e32\\u71d2/\\u78b3\\u70e4/\\u5c45\\u9152\\u5c4b/\\u71d2\\u70e4': None, u'\\u725b\\u6392\\u9928/\\u9435\\u677f\\u71d2': 14.0, u'\\u97d3\\u5f0f\\u6599\\u7406': None, u'\\u9152\\u5427/\\u9910\\u9152\\u9928': None, u'\\u7fa9\\u5f0f/\\u6b50\\u98a8/\\u7570\\u570b': None, u'\\u7f8e\\u5f0f\\u9910\\u5ef3/\\u65e9\\u5348\\u9910': None, u'\\u751c\\u9ede/\\u51b0\\u54c1/\\u98f2\\u6599/\\u70d8\\u57f9': None, u'\\u7d20\\u98df/\\u852c\\u98df': None, u'\\u53f0\\u5f0f/\\u4e2d\\u5f0f/\\u5c0f\\u5403': None, u'\\u81ea\\u52a9\\u9910': None, u'\\u934b\\u985e': 14.0, u'\\u6e2f\\u5f0f\\u9910\\u5ef3': None}\n"
     ]
    }
   ],
   "source": [
    "print user['5732d5d1699b6e18f5a7c9ae']['sentiment_score']"
   ]
  },
  {
   "cell_type": "code",
   "execution_count": 211,
   "metadata": {
    "collapsed": false
   },
   "outputs": [],
   "source": [
    "# for u in user:\n",
    "#     typeList = []\n",
    "#     tempList = []\n",
    "#     sc = user[u].get('sentiment_score')\n",
    "#     if sc:\n",
    "#         for ele in sc:\n",
    "#             if sc[ele]:\n",
    "#                 typeList.append(ele)\n",
    "#                 tempList.append(sc[ele])\n",
    "#         type_name = typeList\n",
    "#         type_zscore = [z if not math.isnan(z) else 0 for z in stats.zscore(tempList)]\n",
    "#         user[u]['within_zscore'] = dict(zip(type_name, type_zscore))\n",
    "#         for key in typeDict:\n",
    "#             if key not in user[u]['within_zscore']:\n",
    "#                 user[u]['within_zscore'][key] = -999 "
   ]
  },
  {
   "cell_type": "code",
   "execution_count": 33,
   "metadata": {
    "collapsed": true
   },
   "outputs": [],
   "source": [
    "tempDict = copy.deepcopy(typeDict)\n",
    "for u in user:\n",
    "    sc = user[u].get('sentiment_score')\n",
    "    if sc:\n",
    "        for ele in sc:\n",
    "            if sc.get(ele) or sc.get(ele) == 0:\n",
    "                tempDict[ele].append((u, sc[ele]))"
   ]
  },
  {
   "cell_type": "code",
   "execution_count": 34,
   "metadata": {
    "collapsed": false
   },
   "outputs": [],
   "source": [
    "score_dict = copy.deepcopy(typeDict)\n",
    "for ele in score_dict:\n",
    "    score_dict[ele] = -999\n",
    "for ele in tempDict:\n",
    "    uid = [score[0] for score in tempDict[ele]]\n",
    "    zscore = stats.zscore([score[1] for score in tempDict[ele]])\n",
    "    zscore_pkg = zip(uid, zscore)\n",
    "    for tp in zscore_pkg:    \n",
    "        bz = user[tp[0]].get('between_zscore')\n",
    "        if not bz:\n",
    "            user[tp[0]]['between_zscore'] = copy.deepcopy(score_dict)\n",
    "            user[tp[0]]['between_zscore'][ele] = tp[1]\n",
    "        else:\n",
    "            user[tp[0]]['between_zscore'][ele] = tp[1]"
   ]
  },
  {
   "cell_type": "code",
   "execution_count": 35,
   "metadata": {
    "collapsed": true
   },
   "outputs": [],
   "source": [
    "testid = '55f7699c2756dd40def8c2a4'"
   ]
  },
  {
   "cell_type": "code",
   "execution_count": 36,
   "metadata": {
    "collapsed": false
   },
   "outputs": [
    {
     "name": "stdout",
     "output_type": "stream",
     "text": [
      "跳躍的宅男 between_zscore\n",
      "==================================================\n",
      "烤雞/烤鴨 -1.13707132945\n",
      "串燒/碳烤/居酒屋/燒烤 -1.05320372477\n",
      "海產/熱炒餐廳 -0.196909122815\n",
      "素食/蔬食 -999\n",
      "美式餐廳/早午餐 -0.458715249468\n",
      "合菜 -0.283023973997\n",
      "港式餐廳 -1.10399669554\n",
      "日式料理 -0.590278706889\n",
      "東南亞料理 -0.65776950216\n",
      "羊肉爐/牛肉湯 1.02891110999\n",
      "牛排館/鐵板燒 -0.675907217581\n",
      "韓式料理 -999\n",
      "酒吧/餐酒館 -1.60920613663\n",
      "義式/歐風/異國 -0.727258895915\n",
      "其他 -0.833993667778\n",
      "甜點/冰品/飲料/烘培 -1.2274669712\n",
      "主題/景觀餐廳 -0.495621986638\n",
      "台式/中式/小吃 -0.562177999834\n",
      "自助餐 -1.37358638596\n",
      "鍋類 -0.485545390459\n",
      "咖啡/輕食/下午茶 -0.972781852969\n"
     ]
    }
   ],
   "source": [
    "print user[testid]['display_name'], 'between_zscore'\n",
    "print '='*50\n",
    "for ele in user[testid]['between_zscore'].items():\n",
    "    print ele[0], ele[1]"
   ]
  },
  {
   "cell_type": "code",
   "execution_count": 37,
   "metadata": {
    "collapsed": false
   },
   "outputs": [
    {
     "name": "stdout",
     "output_type": "stream",
     "text": [
      "跳躍的宅男 within_zscore\n",
      "==================================================\n",
      "烤雞/烤鴨 -0.521861146897\n",
      "串燒/碳烤/居酒屋/燒烤 0.0664949345914\n",
      "海產/熱炒餐廳 0.645437318776\n",
      "素食/蔬食 -999\n",
      "美式餐廳/早午餐 0.301475301906\n",
      "合菜 1.14436327588\n",
      "港式餐廳 -0.465378963074\n",
      "日式料理 0.246296553094\n",
      "東南亞料理 0.297130518535\n",
      "羊肉爐/牛肉湯 2.15162888738\n",
      "牛排館/鐵板燒 0.494818161915\n",
      "韓式料理 -999\n",
      "酒吧/餐酒館 -1.36909390424\n",
      "義式/歐風/異國 0.417155159158\n",
      "其他 -0.917236433656\n",
      "甜點/冰品/飲料/烘培 -0.648115440148\n",
      "主題/景觀餐廳 0.0853223291991\n",
      "台式/中式/小吃 -0.188889563231\n",
      "自助餐 -0.804272066011\n",
      "鍋類 0.640730470124\n",
      "咖啡/輕食/下午茶 -0.230977900209\n"
     ]
    }
   ],
   "source": [
    "print user[testid]['display_name'], 'within_zscore'\n",
    "print '='*50\n",
    "for ele in user[testid]['within_zscore'].items():\n",
    "    print ele[0], ele[1]"
   ]
  },
  {
   "cell_type": "code",
   "execution_count": 38,
   "metadata": {
    "collapsed": false
   },
   "outputs": [
    {
     "name": "stdout",
     "output_type": "stream",
     "text": [
      "跳躍的宅男 blog_cnt\n",
      "==================================================\n",
      "烤雞/烤鴨 1\n",
      "串燒/碳烤/居酒屋/燒烤 6\n",
      "海產/熱炒餐廳 9\n",
      "素食/蔬食 0\n",
      "美式餐廳/早午餐 13\n",
      "合菜 6\n",
      "港式餐廳 1\n",
      "日式料理 5\n",
      "東南亞料理 5\n",
      "羊肉爐/牛肉湯 3\n",
      "牛排館/鐵板燒 1\n",
      "韓式料理 0\n",
      "酒吧/餐酒館 1\n",
      "義式/歐風/異國 4\n",
      "其他 2\n",
      "甜點/冰品/飲料/烘培 17\n",
      "主題/景觀餐廳 2\n",
      "台式/中式/小吃 62\n",
      "自助餐 1\n",
      "鍋類 6\n",
      "咖啡/輕食/下午茶 20\n"
     ]
    }
   ],
   "source": [
    "print user[testid]['display_name'], 'blog_cnt'\n",
    "print '='*50\n",
    "for ele in user[testid]['blog_cnt_by_type'].items():\n",
    "    print ele[0], ele[1]"
   ]
  },
  {
   "cell_type": "code",
   "execution_count": 39,
   "metadata": {
    "collapsed": true
   },
   "outputs": [],
   "source": [
    "score_dict = copy.deepcopy(typeDict)\n",
    "for ele in score_dict:\n",
    "    score_dict[ele] = -999\n",
    "for ele in user:\n",
    "    if not user[ele].get('between_zscore'):\n",
    "        user[ele]['between_zscore'] = copy.deepcopy(score_dict)\n",
    "    if not user[ele].get('within_zscore'):\n",
    "        user[ele]['within_zscore'] = copy.deepcopy(score_dict)"
   ]
  },
  {
   "cell_type": "code",
   "execution_count": 40,
   "metadata": {
    "collapsed": false
   },
   "outputs": [],
   "source": [
    "with open('./Workspace/result/UserWithZscoreV2.json', 'w') as f:\n",
    "    json.dump(user,f)"
   ]
  }
 ],
 "metadata": {
  "kernelspec": {
   "display_name": "Python 2",
   "language": "python",
   "name": "python2"
  },
  "language_info": {
   "codemirror_mode": {
    "name": "ipython",
    "version": 2
   },
   "file_extension": ".py",
   "mimetype": "text/x-python",
   "name": "python",
   "nbconvert_exporter": "python",
   "pygments_lexer": "ipython2",
   "version": "2.7.11"
  }
 },
 "nbformat": 4,
 "nbformat_minor": 0
}
